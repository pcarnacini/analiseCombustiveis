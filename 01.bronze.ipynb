{
 "cells": [
  {
   "cell_type": "code",
   "execution_count": 0,
   "metadata": {
    "application/vnd.databricks.v1+cell": {
     "cellMetadata": {
      "byteLimit": 2048000,
      "rowLimit": 10000
     },
     "inputWidgets": {},
     "nuid": "97e4e41e-9f82-42d3-99ea-7adeac9d11a9",
     "showTitle": false,
     "tableResultSettingsMap": {},
     "title": ""
    }
   },
   "outputs": [],
   "source": [
    "import requests\n",
    "import os\n",
    "from zipfile import ZipFile\n",
    "from io import BytesIO\n"
   ]
  },
  {
   "cell_type": "code",
   "execution_count": 0,
   "metadata": {
    "application/vnd.databricks.v1+cell": {
     "cellMetadata": {
      "byteLimit": 2048000,
      "rowLimit": 10000
     },
     "inputWidgets": {},
     "nuid": "f027c5a3-ab24-448d-8527-f4e908ddd050",
     "showTitle": false,
     "tableResultSettingsMap": {},
     "title": ""
    }
   },
   "outputs": [
    {
     "output_type": "execute_result",
     "data": {
      "text/plain": [
       "True"
      ]
     },
     "execution_count": 17,
     "metadata": {},
     "output_type": "execute_result"
    }
   ],
   "source": [
    "# Diretório no DBFS\n",
    "dbfs_path = \"/FileStore/combustiveis/\"\n",
    "dbutils.fs.mkdirs(dbfs_path)"
   ]
  },
  {
   "cell_type": "code",
   "execution_count": 0,
   "metadata": {
    "application/vnd.databricks.v1+cell": {
     "cellMetadata": {
      "byteLimit": 2048000,
      "rowLimit": 10000
     },
     "inputWidgets": {},
     "nuid": "0b66834c-e6d4-4c8b-b827-45f97cb5e335",
     "showTitle": false,
     "tableResultSettingsMap": {},
     "title": ""
    }
   },
   "outputs": [],
   "source": [
    "# Base URL\n",
    "base_url = \"https://www.gov.br/anp/pt-br/centrais-de-conteudo/dados-abertos/arquivos/shpc/dsas/ca/\"\n",
    "\n",
    "# Lista de arquivos\n",
    "arquivos = [\n",
    "    (\"ca-2020-01.csv\", \"csv\"), (\"ca-2020-02.csv\", \"csv\"),\n",
    "    (\"ca-2021-01.csv\", \"csv\"), (\"ca-2021-02.csv\", \"csv\"),\n",
    "    (\"precos-semestrais-ca.zip\", \"zip\"), (\"ca-2022-02.zip\", \"zip\"),\n",
    "    (\"ca-2023-01.zip\", \"zip\"), (\"ca-2023-02.zip\", \"zip\"),\n",
    "    (\"ca-2024-01.zip\", \"zip\"), (\"ca-2024-02.zip\", \"zip\")\n",
    "]"
   ]
  },
  {
   "cell_type": "code",
   "execution_count": 0,
   "metadata": {
    "application/vnd.databricks.v1+cell": {
     "cellMetadata": {
      "byteLimit": 2048000,
      "rowLimit": 10000
     },
     "inputWidgets": {},
     "nuid": "9a4aada3-c10d-498b-99c1-664529c9b001",
     "showTitle": false,
     "tableResultSettingsMap": {},
     "title": ""
    }
   },
   "outputs": [
    {
     "output_type": "stream",
     "name": "stdout",
     "output_type": "stream",
     "text": [
      "Arquivo /FileStore/combustiveis/ca-2020-01.csv já existe, pulando...\nArquivo /FileStore/combustiveis/ca-2020-02.csv já existe, pulando...\nArquivo /FileStore/combustiveis/ca-2021-01.csv já existe, pulando...\nArquivo /FileStore/combustiveis/ca-2021-02.csv já existe, pulando...\nBaixando https://www.gov.br/anp/pt-br/centrais-de-conteudo/dados-abertos/arquivos/shpc/dsas/ca/precos-semestrais-ca.zip...\nSalvo: /FileStore/combustiveis/ca-precos-semestrais-ca.csv\nBaixando https://www.gov.br/anp/pt-br/centrais-de-conteudo/dados-abertos/arquivos/shpc/dsas/ca/ca-2022-02.zip...\nSalvo: /FileStore/combustiveis/ca-2022-02.csv\nBaixando https://www.gov.br/anp/pt-br/centrais-de-conteudo/dados-abertos/arquivos/shpc/dsas/ca/ca-2023-01.zip...\nSalvo: /FileStore/combustiveis/ca-2023-01.csv\nBaixando https://www.gov.br/anp/pt-br/centrais-de-conteudo/dados-abertos/arquivos/shpc/dsas/ca/ca-2023-02.zip...\nSalvo: /FileStore/combustiveis/ca-2023-02.csv\nBaixando https://www.gov.br/anp/pt-br/centrais-de-conteudo/dados-abertos/arquivos/shpc/dsas/ca/ca-2024-01.zip...\nSalvo: /FileStore/combustiveis/ca-2024-01.csv\nBaixando https://www.gov.br/anp/pt-br/centrais-de-conteudo/dados-abertos/arquivos/shpc/dsas/ca/ca-2024-02.zip...\nSalvo: /FileStore/combustiveis/ca-2024-02.csv\n"
     ]
    }
   ],
   "source": [
    "# Diretório no DBFS\n",
    "dbfs_path = \"/FileStore/combustiveis/\"\n",
    "dbutils.fs.mkdirs(dbfs_path)\n",
    "\n",
    "# Função para verificar se o arquivo existe no DBFS\n",
    "def file_exists(dbfs_file_path):\n",
    "    try:\n",
    "        dbutils.fs.ls(dbfs_file_path)\n",
    "        return True\n",
    "    except:\n",
    "        return False\n",
    "\n",
    "# Baixar e salvar\n",
    "for arquivo, formato in arquivos:\n",
    "    # Definir nome do arquivo destino (ca-AAAA-SS.csv)\n",
    "    if formato == \"csv\":\n",
    "        new_file_name = arquivo\n",
    "    else:\n",
    "        year_semester = arquivo.replace(\"ca-\", \"\").replace(\".zip\", \"\")\n",
    "        new_file_name = f\"ca-{year_semester}.csv\"\n",
    "    \n",
    "    dbfs_file_path = f\"{dbfs_path}{new_file_name}\"\n",
    "    \n",
    "    # Verificar se o arquivo já existe\n",
    "    if file_exists(dbfs_file_path):\n",
    "        print(f\"Arquivo {dbfs_file_path} já existe, pulando...\")\n",
    "        continue\n",
    "    \n",
    "    # Baixar o arquivo\n",
    "    url = base_url + arquivo\n",
    "    print(f\"Baixando {url}...\")\n",
    "    response = requests.get(url)\n",
    "    \n",
    "    if response.status_code == 200:\n",
    "        if formato == \"csv\":\n",
    "            # Salvar CSV diretamente no DBFS\n",
    "            with open(f\"/tmp/{new_file_name}\", \"wb\") as f:\n",
    "                f.write(response.content)\n",
    "            dbutils.fs.cp(f\"file:/tmp/{new_file_name}\", dbfs_file_path)\n",
    "            print(f\"Salvo: {dbfs_file_path}\")\n",
    "        else:\n",
    "            # Extrair CSV do ZIP e salvar como ca-AAAA-SS.csv\n",
    "            try:\n",
    "                with ZipFile(BytesIO(response.content)) as zip_file:\n",
    "                    for file_name in zip_file.namelist():\n",
    "                        if file_name.endswith(\".csv\"):\n",
    "                            csv_content = zip_file.read(file_name)\n",
    "                            with open(f\"/tmp/{new_file_name}\", \"wb\") as f:\n",
    "                                f.write(csv_content)\n",
    "                            dbutils.fs.cp(f\"file:/tmp/{new_file_name}\", dbfs_file_path)\n",
    "                            print(f\"Salvo: {dbfs_file_path}\")\n",
    "                            break\n",
    "            except Exception as e:\n",
    "                print(f\"Erro ao processar {arquivo}: {str(e)}\")\n",
    "    else:\n",
    "        print(f\"Erro ao baixar {arquivo}: {response.status_code}\")"
   ]
  },
  {
   "cell_type": "code",
   "execution_count": 0,
   "metadata": {
    "application/vnd.databricks.v1+cell": {
     "cellMetadata": {
      "byteLimit": 2048000,
      "rowLimit": 10000
     },
     "inputWidgets": {},
     "nuid": "fbb01e61-3f4b-42f8-a5ea-5fb9002f3ade",
     "showTitle": false,
     "tableResultSettingsMap": {},
     "title": ""
    }
   },
   "outputs": [
    {
     "output_type": "display_data",
     "data": {
      "text/html": [
       "<style scoped>\n",
       "  .table-result-container {\n",
       "    max-height: 300px;\n",
       "    overflow: auto;\n",
       "  }\n",
       "  table, th, td {\n",
       "    border: 1px solid black;\n",
       "    border-collapse: collapse;\n",
       "  }\n",
       "  th, td {\n",
       "    padding: 5px;\n",
       "  }\n",
       "  th {\n",
       "    text-align: left;\n",
       "  }\n",
       "</style><div class='table-result-container'><table class='table-result'><thead style='background-color: white'><tr><th>path</th><th>name</th><th>size</th><th>modificationTime</th></tr></thead><tbody><tr><td>dbfs:/FileStore/combustiveis/ca-2020-01.csv</td><td>ca-2020-01.csv</td><td>86655383</td><td>1744491611000</td></tr><tr><td>dbfs:/FileStore/combustiveis/ca-2020-02.csv</td><td>ca-2020-02.csv</td><td>38903171</td><td>1744491679000</td></tr><tr><td>dbfs:/FileStore/combustiveis/ca-2021-01.csv</td><td>ca-2021-01.csv</td><td>57911124</td><td>1744491778000</td></tr><tr><td>dbfs:/FileStore/combustiveis/ca-2021-02.csv</td><td>ca-2021-02.csv</td><td>81317769</td><td>1744491919000</td></tr><tr><td>dbfs:/FileStore/combustiveis/ca-2022-02.csv</td><td>ca-2022-02.csv</td><td>64921361</td><td>1744492637000</td></tr><tr><td>dbfs:/FileStore/combustiveis/ca-2023-01.csv</td><td>ca-2023-01.csv</td><td>74291202</td><td>1744492658000</td></tr><tr><td>dbfs:/FileStore/combustiveis/ca-2023-02.csv</td><td>ca-2023-02.csv</td><td>80630173</td><td>1744492680000</td></tr><tr><td>dbfs:/FileStore/combustiveis/ca-2024-01.csv</td><td>ca-2024-01.csv</td><td>81365972</td><td>1744492702000</td></tr><tr><td>dbfs:/FileStore/combustiveis/ca-2024-02.csv</td><td>ca-2024-02.csv</td><td>71797479</td><td>1744492721000</td></tr><tr><td>dbfs:/FileStore/combustiveis/ca-precos-semestrais-ca.csv</td><td>ca-precos-semestrais-ca.csv</td><td>90812404</td><td>1744492619000</td></tr></tbody></table></div>"
      ]
     },
     "metadata": {
      "application/vnd.databricks.v1+output": {
       "addedWidgets": {},
       "aggData": [],
       "aggError": "",
       "aggOverflow": false,
       "aggSchema": [],
       "aggSeriesLimitReached": false,
       "aggType": "",
       "arguments": {},
       "columnCustomDisplayInfos": {},
       "data": [
        [
         "dbfs:/FileStore/combustiveis/ca-2020-01.csv",
         "ca-2020-01.csv",
         86655383,
         1744491611000
        ],
        [
         "dbfs:/FileStore/combustiveis/ca-2020-02.csv",
         "ca-2020-02.csv",
         38903171,
         1744491679000
        ],
        [
         "dbfs:/FileStore/combustiveis/ca-2021-01.csv",
         "ca-2021-01.csv",
         57911124,
         1744491778000
        ],
        [
         "dbfs:/FileStore/combustiveis/ca-2021-02.csv",
         "ca-2021-02.csv",
         81317769,
         1744491919000
        ],
        [
         "dbfs:/FileStore/combustiveis/ca-2022-02.csv",
         "ca-2022-02.csv",
         64921361,
         1744492637000
        ],
        [
         "dbfs:/FileStore/combustiveis/ca-2023-01.csv",
         "ca-2023-01.csv",
         74291202,
         1744492658000
        ],
        [
         "dbfs:/FileStore/combustiveis/ca-2023-02.csv",
         "ca-2023-02.csv",
         80630173,
         1744492680000
        ],
        [
         "dbfs:/FileStore/combustiveis/ca-2024-01.csv",
         "ca-2024-01.csv",
         81365972,
         1744492702000
        ],
        [
         "dbfs:/FileStore/combustiveis/ca-2024-02.csv",
         "ca-2024-02.csv",
         71797479,
         1744492721000
        ],
        [
         "dbfs:/FileStore/combustiveis/ca-precos-semestrais-ca.csv",
         "ca-precos-semestrais-ca.csv",
         90812404,
         1744492619000
        ]
       ],
       "datasetInfos": [],
       "dbfsResultPath": null,
       "isJsonSchema": true,
       "metadata": {},
       "overflow": false,
       "plotOptions": {
        "customPlotOptions": {},
        "displayType": "table",
        "pivotAggregation": null,
        "pivotColumns": null,
        "xColumns": null,
        "yColumns": null
       },
       "removedWidgets": [],
       "schema": [
        {
         "metadata": "{}",
         "name": "path",
         "type": "\"string\""
        },
        {
         "metadata": "{}",
         "name": "name",
         "type": "\"string\""
        },
        {
         "metadata": "{}",
         "name": "size",
         "type": "\"long\""
        },
        {
         "metadata": "{}",
         "name": "modificationTime",
         "type": "\"long\""
        }
       ],
       "type": "table"
      }
     },
     "output_type": "display_data"
    }
   ],
   "source": [
    "# Listar arquivos no DBFS\n",
    "display(dbutils.fs.ls(dbfs_path))"
   ]
  }
 ],
 "metadata": {
  "application/vnd.databricks.v1+notebook": {
   "computePreferences": null,
   "dashboards": [],
   "environmentMetadata": {
    "base_environment": "",
    "environment_version": "1"
   },
   "inputWidgetPreferences": null,
   "language": "python",
   "notebookMetadata": {
    "pythonIndentUnit": 4
   },
   "notebookName": "01.bronze",
   "widgets": {}
  }
 },
 "nbformat": 4,
 "nbformat_minor": 0
}
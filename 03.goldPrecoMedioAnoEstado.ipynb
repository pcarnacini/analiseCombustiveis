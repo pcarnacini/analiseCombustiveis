{
 "cells": [
  {
   "cell_type": "markdown",
   "metadata": {
    "application/vnd.databricks.v1+cell": {
     "cellMetadata": {
      "byteLimit": 2048000,
      "rowLimit": 10000
     },
     "inputWidgets": {},
     "nuid": "ec5bab18-a036-4afd-bcf3-1f1a5b9f7615",
     "showTitle": false,
     "tableResultSettingsMap": {},
     "title": ""
    }
   },
   "source": [
    "## Informações gerais\n",
    " | Informações | Detalhes |\n",
    " |-------------|-------------|\n",
    " | Nome Tabela | gold.precoMedioPorAnoEstado |\n",
    " | Origem | silver.combustivel |\n",
    "\n",
    "## Histórico de Atualizações\n",
    "  | Data | Desenvolvido por | Razão |\n",
    "  |:-------------:|-------------|-------------|\n",
    "  | 13/04/2025 | Pedro Carnacini | Criação do Notebook | "
   ]
  },
  {
   "cell_type": "code",
   "execution_count": 0,
   "metadata": {
    "application/vnd.databricks.v1+cell": {
     "cellMetadata": {
      "byteLimit": 2048000,
      "rowLimit": 10000
     },
     "inputWidgets": {},
     "nuid": "3baf6889-9931-43d3-a303-50e214f4d31b",
     "showTitle": false,
     "tableResultSettingsMap": {},
     "title": ""
    }
   },
   "outputs": [
    {
     "output_type": "execute_result",
     "data": {
      "text/plain": [
       "DataFrame[]"
      ]
     },
     "execution_count": 15,
     "metadata": {},
     "output_type": "execute_result"
    }
   ],
   "source": [
    "# Nome do schema e tabela no catálogo\n",
    "database = \"gold\"\n",
    "tabela = \"precoMedioPorAnoEstado\"\n",
    "\n",
    "# Criar database se não existir\n",
    "spark.sql(f\"CREATE DATABASE IF NOT EXISTS {database}\")"
   ]
  },
  {
   "cell_type": "code",
   "execution_count": 0,
   "metadata": {
    "application/vnd.databricks.v1+cell": {
     "cellMetadata": {
      "byteLimit": 2048000,
      "rowLimit": 10000
     },
     "inputWidgets": {},
     "nuid": "8c33c52a-d1a7-489b-be7f-274a1c98aa1a",
     "showTitle": false,
     "tableResultSettingsMap": {},
     "title": ""
    }
   },
   "outputs": [],
   "source": [
    "df_precomedio = spark.sql(\n",
    "f\"\"\"\n",
    "SELECT YEAR(dataColeta) AS ANO, estado, Produto, AVG(valorVenda) AS PRECO_MEDIO\n",
    "FROM silver.combustivel\n",
    "GROUP BY ANO, estado, Produto\n",
    "ORDER BY ANO, estado;\n",
    "\"\"\"\n",
    ")"
   ]
  },
  {
   "cell_type": "code",
   "execution_count": 0,
   "metadata": {
    "application/vnd.databricks.v1+cell": {
     "cellMetadata": {
      "byteLimit": 2048000,
      "rowLimit": 10000
     },
     "inputWidgets": {},
     "nuid": "2eb40646-65f6-4fc4-957b-4c4f096f1660",
     "showTitle": false,
     "tableResultSettingsMap": {},
     "title": ""
    }
   },
   "outputs": [
    {
     "output_type": "stream",
     "name": "stdout",
     "output_type": "stream",
     "text": [
      "Dados gravados com sucesso!\n"
     ]
    }
   ],
   "source": [
    "df_precomedio.write \\\n",
    "          .format('delta') \\\n",
    "          .mode('overwrite') \\\n",
    "          .option('overwriteSchema', 'true') \\\n",
    "          .saveAsTable(f'{database}.{tabela}')\n",
    "print(\"Dados gravados com sucesso!\")"
   ]
  },
  {
   "cell_type": "code",
   "execution_count": 0,
   "metadata": {
    "application/vnd.databricks.v1+cell": {
     "cellMetadata": {
      "byteLimit": 2048000,
      "rowLimit": 10000
     },
     "inputWidgets": {},
     "nuid": "552b7815-b499-4e93-8307-20ddf91576b1",
     "showTitle": false,
     "tableResultSettingsMap": {},
     "title": ""
    }
   },
   "outputs": [
    {
     "output_type": "stream",
     "name": "stdout",
     "output_type": "stream",
     "text": [
      "Processo de otimização finalizado!.\n"
     ]
    }
   ],
   "source": [
    "spark.sql(f\"OPTIMIZE {database}.{tabela}\")\n",
    "print(f\"Processo de otimização finalizado!.\")"
   ]
  },
  {
   "cell_type": "code",
   "execution_count": 0,
   "metadata": {
    "application/vnd.databricks.v1+cell": {
     "cellMetadata": {
      "byteLimit": 2048000,
      "implicitDf": true,
      "rowLimit": 10000
     },
     "inputWidgets": {},
     "nuid": "fbc188e0-bb95-498f-a74b-c94d40eea868",
     "showTitle": false,
     "tableResultSettingsMap": {},
     "title": ""
    }
   },
   "outputs": [
    {
     "output_type": "display_data",
     "data": {
      "text/html": [
       "<style scoped>\n",
       "  .table-result-container {\n",
       "    max-height: 300px;\n",
       "    overflow: auto;\n",
       "  }\n",
       "  table, th, td {\n",
       "    border: 1px solid black;\n",
       "    border-collapse: collapse;\n",
       "  }\n",
       "  th, td {\n",
       "    padding: 5px;\n",
       "  }\n",
       "  th {\n",
       "    text-align: left;\n",
       "  }\n",
       "</style><div class='table-result-container'><table class='table-result'><thead style='background-color: white'><tr><th>ANO</th><th>estado</th><th>Produto</th><th>PRECO_MEDIO</th></tr></thead><tbody><tr><td>2020</td><td>AC</td><td>GASOLINA ADITIVADA</td><td>5.082117</td></tr><tr><td>2020</td><td>AC</td><td>GASOLINA</td><td>4.822375</td></tr><tr><td>2020</td><td>AC</td><td>ETANOL</td><td>3.970638</td></tr><tr><td>2020</td><td>AC</td><td>DIESEL S10</td><td>4.360395</td></tr><tr><td>2020</td><td>AC</td><td>DIESEL</td><td>4.317298</td></tr><tr><td>2020</td><td>AL</td><td>GASOLINA</td><td>4.444540</td></tr><tr><td>2020</td><td>AL</td><td>ETANOL</td><td>3.534357</td></tr><tr><td>2020</td><td>AL</td><td>GNV</td><td>3.459577</td></tr><tr><td>2020</td><td>AL</td><td>DIESEL S10</td><td>3.698106</td></tr><tr><td>2020</td><td>AL</td><td>DIESEL</td><td>3.633280</td></tr><tr><td>2020</td><td>AL</td><td>GASOLINA ADITIVADA</td><td>4.749959</td></tr><tr><td>2020</td><td>AM</td><td>ETANOL</td><td>3.415366</td></tr><tr><td>2020</td><td>AM</td><td>DIESEL S10</td><td>3.753854</td></tr><tr><td>2020</td><td>AM</td><td>GASOLINA</td><td>4.418428</td></tr><tr><td>2020</td><td>AM</td><td>GASOLINA ADITIVADA</td><td>4.240259</td></tr><tr><td>2020</td><td>AM</td><td>DIESEL</td><td>3.643588</td></tr><tr><td>2020</td><td>AM</td><td>GNV</td><td>3.307143</td></tr><tr><td>2020</td><td>AP</td><td>DIESEL</td><td>3.700626</td></tr><tr><td>2020</td><td>AP</td><td>DIESEL S10</td><td>3.857655</td></tr><tr><td>2020</td><td>AP</td><td>ETANOL</td><td>3.771034</td></tr><tr><td>2020</td><td>AP</td><td>GASOLINA</td><td>3.531769</td></tr><tr><td>2020</td><td>AP</td><td>GASOLINA ADITIVADA</td><td>4.186429</td></tr><tr><td>2020</td><td>BA</td><td>GASOLINA ADITIVADA</td><td>4.530109</td></tr><tr><td>2020</td><td>BA</td><td>GASOLINA</td><td>4.400377</td></tr><tr><td>2020</td><td>BA</td><td>DIESEL S10</td><td>3.507530</td></tr><tr><td>2020</td><td>BA</td><td>GNV</td><td>2.975668</td></tr><tr><td>2020</td><td>BA</td><td>ETANOL</td><td>3.375682</td></tr><tr><td>2020</td><td>BA</td><td>DIESEL</td><td>3.425835</td></tr><tr><td>2020</td><td>CE</td><td>DIESEL S10</td><td>3.625923</td></tr><tr><td>2020</td><td>CE</td><td>GNV</td><td>3.548119</td></tr><tr><td>2020</td><td>CE</td><td>GASOLINA</td><td>4.400690</td></tr><tr><td>2020</td><td>CE</td><td>GASOLINA ADITIVADA</td><td>4.812910</td></tr><tr><td>2020</td><td>CE</td><td>ETANOL</td><td>3.656208</td></tr><tr><td>2020</td><td>CE</td><td>DIESEL</td><td>3.605786</td></tr><tr><td>2020</td><td>DF</td><td>DIESEL S10</td><td>3.624459</td></tr><tr><td>2020</td><td>DF</td><td>GASOLINA</td><td>4.191752</td></tr><tr><td>2020</td><td>DF</td><td>DIESEL</td><td>3.484015</td></tr><tr><td>2020</td><td>DF</td><td>ETANOL</td><td>3.267404</td></tr><tr><td>2020</td><td>DF</td><td>GNV</td><td>3.800000</td></tr><tr><td>2020</td><td>DF</td><td>GASOLINA ADITIVADA</td><td>4.629765</td></tr><tr><td>2020</td><td>ES</td><td>GASOLINA</td><td>4.229090</td></tr><tr><td>2020</td><td>ES</td><td>DIESEL</td><td>3.348158</td></tr><tr><td>2020</td><td>ES</td><td>DIESEL S10</td><td>3.447859</td></tr><tr><td>2020</td><td>ES</td><td>ETANOL</td><td>3.626908</td></tr><tr><td>2020</td><td>ES</td><td>GNV</td><td>3.266217</td></tr><tr><td>2020</td><td>ES</td><td>GASOLINA ADITIVADA</td><td>4.481537</td></tr><tr><td>2020</td><td>GO</td><td>DIESEL</td><td>3.438559</td></tr><tr><td>2020</td><td>GO</td><td>GNV</td><td>2.430000</td></tr><tr><td>2020</td><td>GO</td><td>DIESEL S10</td><td>3.540233</td></tr><tr><td>2020</td><td>GO</td><td>GASOLINA</td><td>4.362688</td></tr><tr><td>2020</td><td>GO</td><td>GASOLINA ADITIVADA</td><td>4.929316</td></tr><tr><td>2020</td><td>GO</td><td>ETANOL</td><td>2.978979</td></tr><tr><td>2020</td><td>MA</td><td>GNV</td><td>4.780000</td></tr><tr><td>2020</td><td>MA</td><td>GASOLINA</td><td>4.201173</td></tr><tr><td>2020</td><td>MA</td><td>DIESEL S10</td><td>3.477714</td></tr><tr><td>2020</td><td>MA</td><td>ETANOL</td><td>3.660188</td></tr><tr><td>2020</td><td>MA</td><td>DIESEL</td><td>3.445905</td></tr><tr><td>2020</td><td>MA</td><td>GASOLINA ADITIVADA</td><td>4.462762</td></tr><tr><td>2020</td><td>MG</td><td>GASOLINA ADITIVADA</td><td>4.750450</td></tr><tr><td>2020</td><td>MG</td><td>DIESEL S10</td><td>3.559966</td></tr><tr><td>2020</td><td>MG</td><td>ETANOL</td><td>3.037826</td></tr><tr><td>2020</td><td>MG</td><td>DIESEL</td><td>3.468685</td></tr><tr><td>2020</td><td>MG</td><td>GASOLINA</td><td>4.467539</td></tr><tr><td>2020</td><td>MG</td><td>GNV</td><td>3.264788</td></tr><tr><td>2020</td><td>MS</td><td>GASOLINA</td><td>4.339685</td></tr><tr><td>2020</td><td>MS</td><td>DIESEL S10</td><td>3.569302</td></tr><tr><td>2020</td><td>MS</td><td>ETANOL</td><td>3.347614</td></tr><tr><td>2020</td><td>MS</td><td>GNV</td><td>3.331628</td></tr><tr><td>2020</td><td>MS</td><td>DIESEL</td><td>3.509403</td></tr><tr><td>2020</td><td>MS</td><td>GASOLINA ADITIVADA</td><td>4.667898</td></tr><tr><td>2020</td><td>MT</td><td>GASOLINA ADITIVADA</td><td>4.613406</td></tr><tr><td>2020</td><td>MT</td><td>DIESEL S10</td><td>3.736009</td></tr><tr><td>2020</td><td>MT</td><td>ETANOL</td><td>2.826157</td></tr><tr><td>2020</td><td>MT</td><td>DIESEL</td><td>3.658229</td></tr><tr><td>2020</td><td>MT</td><td>GASOLINA</td><td>4.330271</td></tr><tr><td>2020</td><td>MT</td><td>GNV</td><td>2.834082</td></tr><tr><td>2020</td><td>PA</td><td>ETANOL</td><td>3.903589</td></tr><tr><td>2020</td><td>PA</td><td>DIESEL</td><td>3.790486</td></tr><tr><td>2020</td><td>PA</td><td>DIESEL S10</td><td>3.819723</td></tr><tr><td>2020</td><td>PA</td><td>GNV</td><td>4.343333</td></tr><tr><td>2020</td><td>PA</td><td>GASOLINA</td><td>4.473956</td></tr><tr><td>2020</td><td>PA</td><td>GASOLINA ADITIVADA</td><td>4.769793</td></tr><tr><td>2020</td><td>PB</td><td>GNV</td><td>3.433504</td></tr><tr><td>2020</td><td>PB</td><td>GASOLINA ADITIVADA</td><td>4.509941</td></tr><tr><td>2020</td><td>PB</td><td>DIESEL S10</td><td>3.439476</td></tr><tr><td>2020</td><td>PB</td><td>DIESEL</td><td>3.375723</td></tr><tr><td>2020</td><td>PB</td><td>ETANOL</td><td>3.164684</td></tr><tr><td>2020</td><td>PB</td><td>GASOLINA</td><td>4.048858</td></tr><tr><td>2020</td><td>PE</td><td>DIESEL S10</td><td>3.352069</td></tr><tr><td>2020</td><td>PE</td><td>DIESEL</td><td>3.566136</td></tr><tr><td>2020</td><td>PE</td><td>GASOLINA ADITIVADA</td><td>4.689879</td></tr><tr><td>2020</td><td>PE</td><td>GASOLINA</td><td>4.247636</td></tr><tr><td>2020</td><td>PE</td><td>ETANOL</td><td>3.401422</td></tr><tr><td>2020</td><td>PE</td><td>GNV</td><td>2.762031</td></tr><tr><td>2020</td><td>PI</td><td>GNV</td><td>3.440000</td></tr><tr><td>2020</td><td>PI</td><td>ETANOL</td><td>3.435187</td></tr><tr><td>2020</td><td>PI</td><td>DIESEL</td><td>3.504278</td></tr><tr><td>2020</td><td>PI</td><td>GASOLINA</td><td>4.405925</td></tr><tr><td>2020</td><td>PI</td><td>DIESEL S10</td><td>3.575626</td></tr><tr><td>2020</td><td>PI</td><td>GASOLINA ADITIVADA</td><td>4.721889</td></tr><tr><td>2020</td><td>PR</td><td>GASOLINA ADITIVADA</td><td>4.368610</td></tr><tr><td>2020</td><td>PR</td><td>ETANOL</td><td>2.952294</td></tr><tr><td>2020</td><td>PR</td><td>GNV</td><td>3.217246</td></tr><tr><td>2020</td><td>PR</td><td>GASOLINA</td><td>4.051056</td></tr><tr><td>2020</td><td>PR</td><td>DIESEL</td><td>3.191815</td></tr><tr><td>2020</td><td>PR</td><td>DIESEL S10</td><td>3.262521</td></tr><tr><td>2020</td><td>RJ</td><td>GASOLINA</td><td>4.763341</td></tr><tr><td>2020</td><td>RJ</td><td>GNV</td><td>3.117505</td></tr><tr><td>2020</td><td>RJ</td><td>GASOLINA ADITIVADA</td><td>5.032977</td></tr><tr><td>2020</td><td>RJ</td><td>DIESEL S10</td><td>3.585094</td></tr><tr><td>2020</td><td>RJ</td><td>ETANOL</td><td>3.904291</td></tr><tr><td>2020</td><td>RJ</td><td>DIESEL</td><td>3.443573</td></tr><tr><td>2020</td><td>RN</td><td>ETANOL</td><td>3.577146</td></tr><tr><td>2020</td><td>RN</td><td>GASOLINA</td><td>4.414804</td></tr><tr><td>2020</td><td>RN</td><td>GNV</td><td>3.473604</td></tr><tr><td>2020</td><td>RN</td><td>GASOLINA ADITIVADA</td><td>4.843072</td></tr><tr><td>2020</td><td>RN</td><td>DIESEL</td><td>3.459456</td></tr><tr><td>2020</td><td>RN</td><td>DIESEL S10</td><td>3.629618</td></tr><tr><td>2020</td><td>RO</td><td>GASOLINA ADITIVADA</td><td>4.663803</td></tr><tr><td>2020</td><td>RO</td><td>ETANOL</td><td>3.777173</td></tr><tr><td>2020</td><td>RO</td><td>GASOLINA</td><td>4.373602</td></tr><tr><td>2020</td><td>RO</td><td>DIESEL S10</td><td>3.662885</td></tr><tr><td>2020</td><td>RO</td><td>DIESEL</td><td>3.605632</td></tr><tr><td>2020</td><td>RR</td><td>DIESEL S10</td><td>3.610000</td></tr><tr><td>2020</td><td>RR</td><td>GASOLINA</td><td>3.989211</td></tr><tr><td>2020</td><td>RR</td><td>GASOLINA ADITIVADA</td><td>4.295487</td></tr><tr><td>2020</td><td>RR</td><td>DIESEL</td><td>3.572988</td></tr><tr><td>2020</td><td>RR</td><td>ETANOL</td><td>3.730238</td></tr><tr><td>2020</td><td>RS</td><td>DIESEL S10</td><td>3.449204</td></tr><tr><td>2020</td><td>RS</td><td>DIESEL</td><td>3.339120</td></tr><tr><td>2020</td><td>RS</td><td>GASOLINA ADITIVADA</td><td>4.784867</td></tr><tr><td>2020</td><td>RS</td><td>GASOLINA</td><td>4.358373</td></tr><tr><td>2020</td><td>RS</td><td>ETANOL</td><td>4.182984</td></tr><tr><td>2020</td><td>RS</td><td>GNV</td><td>3.604059</td></tr><tr><td>2020</td><td>SC</td><td>DIESEL</td><td>3.313517</td></tr><tr><td>2020</td><td>SC</td><td>GNV</td><td>2.978436</td></tr><tr><td>2020</td><td>SC</td><td>GASOLINA</td><td>4.145414</td></tr><tr><td>2020</td><td>SC</td><td>ETANOL</td><td>3.640554</td></tr><tr><td>2020</td><td>SC</td><td>GASOLINA ADITIVADA</td><td>4.439845</td></tr><tr><td>2020</td><td>SC</td><td>DIESEL S10</td><td>3.440408</td></tr><tr><td>2020</td><td>SE</td><td>DIESEL</td><td>3.393885</td></tr><tr><td>2020</td><td>SE</td><td>DIESEL S10</td><td>3.543917</td></tr><tr><td>2020</td><td>SE</td><td>GASOLINA</td><td>4.345106</td></tr><tr><td>2020</td><td>SE</td><td>GASOLINA ADITIVADA</td><td>4.711675</td></tr><tr><td>2020</td><td>SE</td><td>GNV</td><td>3.253374</td></tr><tr><td>2020</td><td>SE</td><td>ETANOL</td><td>3.513119</td></tr><tr><td>2020</td><td>SP</td><td>GASOLINA ADITIVADA</td><td>4.407121</td></tr><tr><td>2020</td><td>SP</td><td>GNV</td><td>3.010187</td></tr><tr><td>2020</td><td>SP</td><td>DIESEL</td><td>3.315221</td></tr><tr><td>2020</td><td>SP</td><td>ETANOL</td><td>2.739998</td></tr><tr><td>2020</td><td>SP</td><td>DIESEL S10</td><td>3.444897</td></tr><tr><td>2020</td><td>SP</td><td>GASOLINA</td><td>4.071477</td></tr><tr><td>2020</td><td>TO</td><td>GASOLINA</td><td>4.480481</td></tr><tr><td>2020</td><td>TO</td><td>DIESEL</td><td>3.395973</td></tr><tr><td>2020</td><td>TO</td><td>ETANOL</td><td>3.648502</td></tr><tr><td>2020</td><td>TO</td><td>GASOLINA ADITIVADA</td><td>4.929375</td></tr><tr><td>2020</td><td>TO</td><td>DIESEL S10</td><td>3.450117</td></tr><tr><td>2020</td><td>TO</td><td>GNV</td><td>3.000000</td></tr><tr><td>2021</td><td>AC</td><td>DIESEL S10</td><td>5.644808</td></tr><tr><td>2021</td><td>AC</td><td>ETANOL</td><td>5.447094</td></tr><tr><td>2021</td><td>AC</td><td>DIESEL</td><td>5.613850</td></tr><tr><td>2021</td><td>AC</td><td>GASOLINA</td><td>6.449583</td></tr><tr><td>2021</td><td>AC</td><td>GASOLINA ADITIVADA</td><td>6.429978</td></tr><tr><td>2021</td><td>AL</td><td>DIESEL S10</td><td>4.937404</td></tr><tr><td>2021</td><td>AL</td><td>GASOLINA</td><td>5.958795</td></tr><tr><td>2021</td><td>AL</td><td>DIESEL</td><td>4.926746</td></tr><tr><td>2021</td><td>AL</td><td>GASOLINA ADITIVADA</td><td>6.066190</td></tr><tr><td>2021</td><td>AL</td><td>GNV</td><td>3.976691</td></tr><tr><td>2021</td><td>AL</td><td>ETANOL</td><td>4.914123</td></tr><tr><td>2021</td><td>AM</td><td>GASOLINA</td><td>5.739996</td></tr><tr><td>2021</td><td>AM</td><td>DIESEL</td><td>4.656378</td></tr><tr><td>2021</td><td>AM</td><td>DIESEL S10</td><td>4.739262</td></tr><tr><td>2021</td><td>AM</td><td>ETANOL</td><td>4.455126</td></tr><tr><td>2021</td><td>AM</td><td>GNV</td><td>3.821200</td></tr><tr><td>2021</td><td>AM</td><td>GASOLINA ADITIVADA</td><td>5.710503</td></tr><tr><td>2021</td><td>AP</td><td>ETANOL</td><td>5.230698</td></tr><tr><td>2021</td><td>AP</td><td>DIESEL S10</td><td>4.849853</td></tr><tr><td>2021</td><td>AP</td><td>GASOLINA</td><td>5.041107</td></tr><tr><td>2021</td><td>AP</td><td>DIESEL</td><td>4.746374</td></tr><tr><td>2021</td><td>AP</td><td>GASOLINA ADITIVADA</td><td>5.364261</td></tr><tr><td>2021</td><td>BA</td><td>DIESEL</td><td>4.749481</td></tr><tr><td>2021</td><td>BA</td><td>GASOLINA ADITIVADA</td><td>6.111257</td></tr><tr><td>2021</td><td>BA</td><td>GASOLINA</td><td>6.023877</td></tr><tr><td>2021</td><td>BA</td><td>ETANOL</td><td>4.911567</td></tr><tr><td>2021</td><td>BA</td><td>GNV</td><td>3.576850</td></tr><tr><td>2021</td><td>BA</td><td>DIESEL S10</td><td>4.789622</td></tr><tr><td>2021</td><td>CE</td><td>DIESEL</td><td>4.977845</td></tr><tr><td>2021</td><td>CE</td><td>GASOLINA ADITIVADA</td><td>6.197594</td></tr><tr><td>2021</td><td>CE</td><td>DIESEL S10</td><td>4.870211</td></tr><tr><td>2021</td><td>CE</td><td>ETANOL</td><td>5.083007</td></tr><tr><td>2021</td><td>CE</td><td>GNV</td><td>4.204532</td></tr><tr><td>2021</td><td>CE</td><td>GASOLINA</td><td>5.948997</td></tr><tr><td>2021</td><td>DF</td><td>GNV</td><td>4.850000</td></tr><tr><td>2021</td><td>DF</td><td>ETANOL</td><td>4.934972</td></tr><tr><td>2021</td><td>DF</td><td>GASOLINA</td><td>5.968401</td></tr><tr><td>2021</td><td>DF</td><td>DIESEL</td><td>4.666465</td></tr><tr><td>2021</td><td>DF</td><td>DIESEL S10</td><td>4.748148</td></tr><tr><td>2021</td><td>DF</td><td>GASOLINA ADITIVADA</td><td>6.011761</td></tr><tr><td>2021</td><td>ES</td><td>GNV</td><td>4.049884</td></tr><tr><td>2021</td><td>ES</td><td>ETANOL</td><td>5.076898</td></tr><tr><td>2021</td><td>ES</td><td>GASOLINA ADITIVADA</td><td>6.079459</td></tr><tr><td>2021</td><td>ES</td><td>GASOLINA</td><td>5.940441</td></tr><tr><td>2021</td><td>ES</td><td>DIESEL S10</td><td>4.585907</td></tr><tr><td>2021</td><td>ES</td><td>DIESEL</td><td>4.444498</td></tr><tr><td>2021</td><td>GO</td><td>ETANOL</td><td>4.613354</td></tr><tr><td>2021</td><td>GO</td><td>GASOLINA ADITIVADA</td><td>6.386286</td></tr><tr><td>2021</td><td>GO</td><td>DIESEL S10</td><td>4.921007</td></tr><tr><td>2021</td><td>GO</td><td>DIESEL</td><td>4.874678</td></tr><tr><td>2021</td><td>GO</td><td>GASOLINA</td><td>6.289835</td></tr><tr><td>2021</td><td>MA</td><td>ETANOL</td><td>4.860673</td></tr><tr><td>2021</td><td>MA</td><td>DIESEL S10</td><td>4.576117</td></tr><tr><td>2021</td><td>MA</td><td>GASOLINA ADITIVADA</td><td>5.761896</td></tr><tr><td>2021</td><td>MA</td><td>DIESEL</td><td>4.548613</td></tr><tr><td>2021</td><td>MA</td><td>GASOLINA</td><td>5.599554</td></tr><tr><td>2021</td><td>MA</td><td>GNV</td><td>4.310000</td></tr><tr><td>2021</td><td>MG</td><td>GNV</td><td>3.943091</td></tr><tr><td>2021</td><td>MG</td><td>GASOLINA</td><td>6.259059</td></tr><tr><td>2021</td><td>MG</td><td>DIESEL</td><td>4.772055</td></tr><tr><td>2021</td><td>MG</td><td>ETANOL</td><td>4.655852</td></tr><tr><td>2021</td><td>MG</td><td>GASOLINA ADITIVADA</td><td>6.404783</td></tr><tr><td>2021</td><td>MG</td><td>DIESEL S10</td><td>4.836188</td></tr><tr><td>2021</td><td>MS</td><td>GASOLINA</td><td>5.889574</td></tr><tr><td>2021</td><td>MS</td><td>DIESEL</td><td>4.658984</td></tr><tr><td>2021</td><td>MS</td><td>DIESEL S10</td><td>4.691413</td></tr><tr><td>2021</td><td>MS</td><td>ETANOL</td><td>4.596457</td></tr><tr><td>2021</td><td>MS</td><td>GNV</td><td>4.053433</td></tr><tr><td>2021</td><td>MS</td><td>GASOLINA ADITIVADA</td><td>6.007561</td></tr><tr><td>2021</td><td>MT</td><td>DIESEL</td><td>5.010680</td></tr><tr><td>2021</td><td>MT</td><td>GNV</td><td>2.916583</td></tr><tr><td>2021</td><td>MT</td><td>DIESEL S10</td><td>5.059377</td></tr><tr><td>2021</td><td>MT</td><td>ETANOL</td><td>4.312343</td></tr><tr><td>2021</td><td>MT</td><td>GASOLINA ADITIVADA</td><td>6.047792</td></tr><tr><td>2021</td><td>MT</td><td>GASOLINA</td><td>5.923389</td></tr><tr><td>2021</td><td>PA</td><td>DIESEL</td><td>5.186442</td></tr><tr><td>2021</td><td>PA</td><td>ETANOL</td><td>5.337352</td></tr><tr><td>2021</td><td>PA</td><td>GASOLINA</td><td>6.130110</td></tr><tr><td>2021</td><td>PA</td><td>GASOLINA ADITIVADA</td><td>6.265720</td></tr><tr><td>2021</td><td>PA</td><td>DIESEL S10</td><td>5.083732</td></tr><tr><td>2021</td><td>PB</td><td>DIESEL S10</td><td>4.734811</td></tr><tr><td>2021</td><td>PB</td><td>GASOLINA ADITIVADA</td><td>5.932138</td></tr><tr><td>2021</td><td>PB</td><td>GNV</td><td>4.047899</td></tr><tr><td>2021</td><td>PB</td><td>GASOLINA</td><td>5.733395</td></tr><tr><td>2021</td><td>PB</td><td>ETANOL</td><td>4.735538</td></tr><tr><td>2021</td><td>PB</td><td>DIESEL</td><td>4.622477</td></tr><tr><td>2021</td><td>PE</td><td>GASOLINA ADITIVADA</td><td>6.071477</td></tr><tr><td>2021</td><td>PE</td><td>GASOLINA</td><td>5.905824</td></tr><tr><td>2021</td><td>PE</td><td>DIESEL</td><td>4.576101</td></tr><tr><td>2021</td><td>PE</td><td>DIESEL S10</td><td>4.676758</td></tr><tr><td>2021</td><td>PE</td><td>GNV</td><td>3.544483</td></tr><tr><td>2021</td><td>PE</td><td>ETANOL</td><td>4.935565</td></tr><tr><td>2021</td><td>PI</td><td>GASOLINA ADITIVADA</td><td>6.431804</td></tr><tr><td>2021</td><td>PI</td><td>DIESEL</td><td>4.832721</td></tr><tr><td>2021</td><td>PI</td><td>ETANOL</td><td>5.011555</td></tr><tr><td>2021</td><td>PI</td><td>DIESEL S10</td><td>4.894236</td></tr><tr><td>2021</td><td>PI</td><td>GASOLINA</td><td>6.213060</td></tr><tr><td>2021</td><td>PR</td><td>ETANOL</td><td>4.510640</td></tr><tr><td>2021</td><td>PR</td><td>GASOLINA ADITIVADA</td><td>5.827996</td></tr><tr><td>2021</td><td>PR</td><td>DIESEL</td><td>4.480014</td></tr><tr><td>2021</td><td>PR</td><td>GNV</td><td>3.812475</td></tr><tr><td>2021</td><td>PR</td><td>DIESEL S10</td><td>4.512636</td></tr><tr><td>2021</td><td>PR</td><td>GASOLINA</td><td>5.685697</td></tr><tr><td>2021</td><td>RJ</td><td>DIESEL</td><td>4.641406</td></tr><tr><td>2021</td><td>RJ</td><td>GASOLINA ADITIVADA</td><td>6.565642</td></tr><tr><td>2021</td><td>RJ</td><td>ETANOL</td><td>5.406019</td></tr><tr><td>2021</td><td>RJ</td><td>GNV</td><td>3.965443</td></tr><tr><td>2021</td><td>RJ</td><td>DIESEL S10</td><td>4.711916</td></tr><tr><td>2021</td><td>RJ</td><td>GASOLINA</td><td>6.438087</td></tr><tr><td>2021</td><td>RN</td><td>GNV</td><td>4.280980</td></tr><tr><td>2021</td><td>RN</td><td>GASOLINA ADITIVADA</td><td>6.286331</td></tr><tr><td>2021</td><td>RN</td><td>GASOLINA</td><td>6.205038</td></tr><tr><td>2021</td><td>RN</td><td>DIESEL S10</td><td>5.067287</td></tr><tr><td>2021</td><td>RN</td><td>ETANOL</td><td>5.262683</td></tr><tr><td>2021</td><td>RN</td><td>DIESEL</td><td>4.909686</td></tr><tr><td>2021</td><td>RO</td><td>ETANOL</td><td>5.169228</td></tr><tr><td>2021</td><td>RO</td><td>GASOLINA ADITIVADA</td><td>6.059954</td></tr><tr><td>2021</td><td>RO</td><td>DIESEL</td><td>4.883802</td></tr><tr><td>2021</td><td>RO</td><td>DIESEL S10</td><td>4.928216</td></tr><tr><td>2021</td><td>RO</td><td>GASOLINA</td><td>5.964454</td></tr><tr><td>2021</td><td>RO</td><td>GNV</td><td>4.590000</td></tr><tr><td>2021</td><td>RR</td><td>DIESEL</td><td>4.836030</td></tr><tr><td>2021</td><td>RR</td><td>DIESEL S10</td><td>4.879634</td></tr><tr><td>2021</td><td>RR</td><td>ETANOL</td><td>4.980157</td></tr><tr><td>2021</td><td>RR</td><td>GASOLINA</td><td>5.522585</td></tr><tr><td>2021</td><td>RR</td><td>GASOLINA ADITIVADA</td><td>5.654205</td></tr><tr><td>2021</td><td>RS</td><td>DIESEL</td><td>4.563895</td></tr><tr><td>2021</td><td>RS</td><td>GASOLINA ADITIVADA</td><td>6.288886</td></tr><tr><td>2021</td><td>RS</td><td>GASOLINA</td><td>6.164126</td></tr><tr><td>2021</td><td>RS</td><td>DIESEL S10</td><td>4.630163</td></tr><tr><td>2021</td><td>RS</td><td>ETANOL</td><td>5.894440</td></tr><tr><td>2021</td><td>RS</td><td>GNV</td><td>4.445989</td></tr><tr><td>2021</td><td>SC</td><td>GASOLINA ADITIVADA</td><td>5.801351</td></tr><tr><td>2021</td><td>SC</td><td>DIESEL</td><td>4.545351</td></tr><tr><td>2021</td><td>SC</td><td>GNV</td><td>3.947458</td></tr><tr><td>2021</td><td>SC</td><td>DIESEL S10</td><td>4.607472</td></tr><tr><td>2021</td><td>SC</td><td>ETANOL</td><td>5.138246</td></tr><tr><td>2021</td><td>SC</td><td>GASOLINA</td><td>5.703523</td></tr><tr><td>2021</td><td>SE</td><td>DIESEL S10</td><td>4.860337</td></tr><tr><td>2021</td><td>SE</td><td>DIESEL</td><td>4.824052</td></tr><tr><td>2021</td><td>SE</td><td>GASOLINA ADITIVADA</td><td>5.971079</td></tr><tr><td>2021</td><td>SE</td><td>GNV</td><td>4.067578</td></tr><tr><td>2021</td><td>SE</td><td>GASOLINA</td><td>5.877733</td></tr><tr><td>2021</td><td>SE</td><td>ETANOL</td><td>4.908938</td></tr><tr><td>2021</td><td>SP</td><td>ETANOL</td><td>4.262695</td></tr><tr><td>2021</td><td>SP</td><td>DIESEL S10</td><td>4.668070</td></tr><tr><td>2021</td><td>SP</td><td>GNV</td><td>3.515435</td></tr><tr><td>2021</td><td>SP</td><td>GASOLINA</td><td>5.598036</td></tr><tr><td>2021</td><td>SP</td><td>GASOLINA ADITIVADA</td><td>5.765496</td></tr><tr><td>2021</td><td>SP</td><td>DIESEL</td><td>4.597523</td></tr><tr><td>2021</td><td>TO</td><td>ETANOL</td><td>5.148403</td></tr><tr><td>2021</td><td>TO</td><td>DIESEL</td><td>4.720600</td></tr><tr><td>2021</td><td>TO</td><td>GASOLINA ADITIVADA</td><td>6.263612</td></tr><tr><td>2021</td><td>TO</td><td>GASOLINA</td><td>6.180319</td></tr><tr><td>2021</td><td>TO</td><td>DIESEL S10</td><td>4.759471</td></tr><tr><td>2022</td><td>AC</td><td>DIESEL</td><td>7.456204</td></tr><tr><td>2022</td><td>AC</td><td>GASOLINA</td><td>6.899987</td></tr><tr><td>2022</td><td>AC</td><td>DIESEL S10</td><td>7.489953</td></tr><tr><td>2022</td><td>AC</td><td>GASOLINA ADITIVADA</td><td>6.889545</td></tr><tr><td>2022</td><td>AC</td><td>ETANOL</td><td>5.772031</td></tr><tr><td>2022</td><td>AL</td><td>DIESEL</td><td>6.894932</td></tr><tr><td>2022</td><td>AL</td><td>DIESEL S10</td><td>6.891194</td></tr><tr><td>2022</td><td>AL</td><td>GASOLINA ADITIVADA</td><td>6.568162</td></tr><tr><td>2022</td><td>AL</td><td>GNV</td><td>4.634237</td></tr><tr><td>2022</td><td>AL</td><td>ETANOL</td><td>5.192179</td></tr><tr><td>2022</td><td>AL</td><td>GASOLINA</td><td>6.444754</td></tr><tr><td>2022</td><td>AM</td><td>DIESEL S10</td><td>6.904579</td></tr><tr><td>2022</td><td>AM</td><td>GASOLINA ADITIVADA</td><td>6.390348</td></tr><tr><td>2022</td><td>AM</td><td>DIESEL</td><td>6.786438</td></tr><tr><td>2022</td><td>AM</td><td>ETANOL</td><td>4.889581</td></tr><tr><td>2022</td><td>AM</td><td>GNV</td><td>4.211884</td></tr><tr><td>2022</td><td>AM</td><td>GASOLINA</td><td>6.490537</td></tr><tr><td>2022</td><td>AP</td><td>DIESEL S10</td><td>6.919814</td></tr><tr><td>2022</td><td>AP</td><td>GASOLINA</td><td>5.627687</td></tr><tr><td>2022</td><td>AP</td><td>ETANOL</td><td>6.055111</td></tr><tr><td>2022</td><td>AP</td><td>DIESEL</td><td>6.607944</td></tr><tr><td>2022</td><td>AP</td><td>GASOLINA ADITIVADA</td><td>5.766940</td></tr><tr><td>2022</td><td>BA</td><td>GNV</td><td>4.331638</td></tr><tr><td>2022</td><td>BA</td><td>GASOLINA ADITIVADA</td><td>6.911281</td></tr><tr><td>2022</td><td>BA</td><td>DIESEL</td><td>6.983083</td></tr><tr><td>2022</td><td>BA</td><td>DIESEL S10</td><td>7.038689</td></tr><tr><td>2022</td><td>BA</td><td>GASOLINA</td><td>6.811236</td></tr><tr><td>2022</td><td>BA</td><td>ETANOL</td><td>5.374735</td></tr><tr><td>2022</td><td>CE</td><td>GASOLINA ADITIVADA</td><td>6.726963</td></tr><tr><td>2022</td><td>CE</td><td>GNV</td><td>5.057652</td></tr><tr><td>2022</td><td>CE</td><td>ETANOL</td><td>5.562966</td></tr><tr><td>2022</td><td>CE</td><td>DIESEL S10</td><td>6.983109</td></tr><tr><td>2022</td><td>CE</td><td>DIESEL</td><td>6.993150</td></tr><tr><td>2022</td><td>CE</td><td>GASOLINA</td><td>6.546789</td></tr><tr><td>2022</td><td>DF</td><td>GNV</td><td>6.676667</td></tr><tr><td>2022</td><td>DF</td><td>GASOLINA</td><td>6.243793</td></tr><tr><td>2022</td><td>DF</td><td>GASOLINA ADITIVADA</td><td>6.307952</td></tr><tr><td>2022</td><td>DF</td><td>DIESEL</td><td>6.669105</td></tr><tr><td>2022</td><td>DF</td><td>DIESEL S10</td><td>6.755261</td></tr><tr><td>2022</td><td>DF</td><td>ETANOL</td><td>5.013743</td></tr><tr><td>2022</td><td>ES</td><td>GASOLINA</td><td>6.428176</td></tr><tr><td>2022</td><td>ES</td><td>DIESEL S10</td><td>6.511086</td></tr><tr><td>2022</td><td>ES</td><td>ETANOL</td><td>5.353916</td></tr><tr><td>2022</td><td>ES</td><td>GASOLINA ADITIVADA</td><td>6.542415</td></tr><tr><td>2022</td><td>ES</td><td>DIESEL</td><td>6.391158</td></tr><tr><td>2022</td><td>ES</td><td>GNV</td><td>5.042510</td></tr><tr><td>2022</td><td>GO</td><td>ETANOL</td><td>4.532467</td></tr><tr><td>2022</td><td>GO</td><td>GASOLINA ADITIVADA</td><td>6.572060</td></tr><tr><td>2022</td><td>GO</td><td>DIESEL</td><td>6.651412</td></tr><tr><td>2022</td><td>GO</td><td>DIESEL S10</td><td>6.801136</td></tr><tr><td>2022</td><td>GO</td><td>GASOLINA</td><td>6.454918</td></tr><tr><td>2022</td><td>MA</td><td>GASOLINA ADITIVADA</td><td>6.471661</td></tr><tr><td>2022</td><td>MA</td><td>DIESEL</td><td>6.928830</td></tr><tr><td>2022</td><td>MA</td><td>DIESEL S10</td><td>6.931794</td></tr><tr><td>2022</td><td>MA</td><td>GASOLINA</td><td>6.332110</td></tr><tr><td>2022</td><td>MA</td><td>ETANOL</td><td>5.457934</td></tr><tr><td>2022</td><td>MA</td><td>GNV</td><td>5.000000</td></tr><tr><td>2022</td><td>MG</td><td>GNV</td><td>5.138491</td></tr><tr><td>2022</td><td>MG</td><td>ETANOL</td><td>4.699991</td></tr><tr><td>2022</td><td>MG</td><td>GASOLINA</td><td>6.502807</td></tr><tr><td>2022</td><td>MG</td><td>DIESEL S10</td><td>6.754256</td></tr><tr><td>2022</td><td>MG</td><td>DIESEL</td><td>6.629071</td></tr><tr><td>2022</td><td>MG</td><td>GASOLINA ADITIVADA</td><td>6.654349</td></tr><tr><td>2022</td><td>MS</td><td>GASOLINA ADITIVADA</td><td>6.377034</td></tr><tr><td>2022</td><td>MS</td><td>GASOLINA</td><td>6.255838</td></tr><tr><td>2022</td><td>MS</td><td>DIESEL</td><td>6.603538</td></tr><tr><td>2022</td><td>MS</td><td>GNV</td><td>4.917377</td></tr><tr><td>2022</td><td>MS</td><td>ETANOL</td><td>4.806613</td></tr><tr><td>2022</td><td>MS</td><td>DIESEL S10</td><td>6.718259</td></tr><tr><td>2022</td><td>MT</td><td>GASOLINA ADITIVADA</td><td>6.377870</td></tr><tr><td>2022</td><td>MT</td><td>ETANOL</td><td>4.294114</td></tr><tr><td>2022</td><td>MT</td><td>GASOLINA</td><td>6.247812</td></tr><tr><td>2022</td><td>MT</td><td>DIESEL S10</td><td>6.981675</td></tr><tr><td>2022</td><td>MT</td><td>GNV</td><td>3.260800</td></tr><tr><td>2022</td><td>MT</td><td>DIESEL</td><td>6.857959</td></tr><tr><td>2022</td><td>PA</td><td>DIESEL</td><td>7.014852</td></tr><tr><td>2022</td><td>PA</td><td>ETANOL</td><td>5.718306</td></tr><tr><td>2022</td><td>PA</td><td>DIESEL S10</td><td>7.026750</td></tr><tr><td>2022</td><td>PA</td><td>GASOLINA ADITIVADA</td><td>6.724345</td></tr><tr><td>2022</td><td>PA</td><td>GASOLINA</td><td>6.533533</td></tr><tr><td>2022</td><td>PB</td><td>DIESEL S10</td><td>6.729613</td></tr><tr><td>2022</td><td>PB</td><td>DIESEL</td><td>6.588272</td></tr><tr><td>2022</td><td>PB</td><td>ETANOL</td><td>4.881749</td></tr><tr><td>2022</td><td>PB</td><td>GASOLINA</td><td>6.187331</td></tr><tr><td>2022</td><td>PB</td><td>GNV</td><td>5.056220</td></tr><tr><td>2022</td><td>PB</td><td>GASOLINA ADITIVADA</td><td>6.316060</td></tr><tr><td>2022</td><td>PE</td><td>DIESEL S10</td><td>6.552562</td></tr><tr><td>2022</td><td>PE</td><td>ETANOL</td><td>5.246663</td></tr><tr><td>2022</td><td>PE</td><td>DIESEL</td><td>6.609638</td></tr><tr><td>2022</td><td>PE</td><td>GASOLINA</td><td>6.443975</td></tr><tr><td>2022</td><td>PE</td><td>GNV</td><td>4.145866</td></tr><tr><td>2022</td><td>PE</td><td>GASOLINA ADITIVADA</td><td>6.598606</td></tr><tr><td>2022</td><td>PI</td><td>GASOLINA ADITIVADA</td><td>6.933840</td></tr><tr><td>2022</td><td>PI</td><td>ETANOL</td><td>5.171860</td></tr><tr><td>2022</td><td>PI</td><td>DIESEL</td><td>6.870000</td></tr><tr><td>2022</td><td>PI</td><td>DIESEL S10</td><td>6.937410</td></tr><tr><td>2022</td><td>PI</td><td>GASOLINA</td><td>6.720010</td></tr><tr><td>2022</td><td>PR</td><td>DIESEL S10</td><td>6.598364</td></tr><tr><td>2022</td><td>PR</td><td>GASOLINA</td><td>6.280373</td></tr><tr><td>2022</td><td>PR</td><td>GNV</td><td>5.790481</td></tr><tr><td>2022</td><td>PR</td><td>DIESEL</td><td>6.464886</td></tr><tr><td>2022</td><td>PR</td><td>ETANOL</td><td>4.815805</td></tr><tr><td>2022</td><td>PR</td><td>GASOLINA ADITIVADA</td><td>6.424468</td></tr><tr><td>2022</td><td>RJ</td><td>DIESEL</td><td>6.562303</td></tr><tr><td>2022</td><td>RJ</td><td>GNV</td><td>5.030608</td></tr><tr><td>2022</td><td>RJ</td><td>DIESEL S10</td><td>6.718196</td></tr><tr><td>2022</td><td>RJ</td><td>GASOLINA</td><td>6.630404</td></tr><tr><td>2022</td><td>RJ</td><td>ETANOL</td><td>5.462647</td></tr><tr><td>2022</td><td>RJ</td><td>GASOLINA ADITIVADA</td><td>6.764222</td></tr><tr><td>2022</td><td>RN</td><td>DIESEL</td><td>6.754977</td></tr><tr><td>2022</td><td>RN</td><td>DIESEL S10</td><td>7.005597</td></tr><tr><td>2022</td><td>RN</td><td>GASOLINA</td><td>6.649966</td></tr><tr><td>2022</td><td>RN</td><td>GNV</td><td>4.502469</td></tr><tr><td>2022</td><td>RN</td><td>ETANOL</td><td>5.462449</td></tr><tr><td>2022</td><td>RN</td><td>GASOLINA ADITIVADA</td><td>6.721089</td></tr><tr><td>2022</td><td>RO</td><td>GASOLINA</td><td>6.422950</td></tr><tr><td>2022</td><td>RO</td><td>GASOLINA ADITIVADA</td><td>6.600351</td></tr><tr><td>2022</td><td>RO</td><td>DIESEL</td><td>7.035405</td></tr><tr><td>2022</td><td>RO</td><td>ETANOL</td><td>5.822081</td></tr><tr><td>2022</td><td>RO</td><td>DIESEL S10</td><td>7.055136</td></tr><tr><td>2022</td><td>RR</td><td>DIESEL</td><td>6.975319</td></tr><tr><td>2022</td><td>RR</td><td>GASOLINA</td><td>6.146604</td></tr><tr><td>2022</td><td>RR</td><td>DIESEL S10</td><td>7.051365</td></tr><tr><td>2022</td><td>RR</td><td>ETANOL</td><td>5.662901</td></tr><tr><td>2022</td><td>RR</td><td>GASOLINA ADITIVADA</td><td>6.261265</td></tr><tr><td>2022</td><td>RS</td><td>ETANOL</td><td>5.901567</td></tr><tr><td>2022</td><td>RS</td><td>GASOLINA ADITIVADA</td><td>6.252444</td></tr><tr><td>2022</td><td>RS</td><td>DIESEL</td><td>6.446947</td></tr><tr><td>2022</td><td>RS</td><td>GNV</td><td>5.882332</td></tr><tr><td>2022</td><td>RS</td><td>DIESEL S10</td><td>6.536505</td></tr><tr><td>2022</td><td>RS</td><td>GASOLINA</td><td>6.104058</td></tr><tr><td>2022</td><td>SC</td><td>ETANOL</td><td>5.584083</td></tr><tr><td>2022</td><td>SC</td><td>GASOLINA ADITIVADA</td><td>6.329674</td></tr><tr><td>2022</td><td>SC</td><td>DIESEL S10</td><td>6.584933</td></tr><tr><td>2022</td><td>SC</td><td>GASOLINA</td><td>6.215599</td></tr><tr><td>2022</td><td>SC</td><td>GNV</td><td>5.497607</td></tr><tr><td>2022</td><td>SC</td><td>DIESEL</td><td>6.469674</td></tr><tr><td>2022</td><td>SE</td><td>DIESEL S10</td><td>6.651314</td></tr><tr><td>2022</td><td>SE</td><td>GNV</td><td>4.985816</td></tr><tr><td>2022</td><td>SE</td><td>GASOLINA</td><td>6.324436</td></tr><tr><td>2022</td><td>SE</td><td>GASOLINA ADITIVADA</td><td>6.424007</td></tr><tr><td>2022</td><td>SE</td><td>DIESEL</td><td>6.587284</td></tr><tr><td>2022</td><td>SE</td><td>ETANOL</td><td>5.175026</td></tr><tr><td>2022</td><td>SP</td><td>ETANOL</td><td>4.331514</td></tr><tr><td>2022</td><td>SP</td><td>GASOLINA</td><td>6.050718</td></tr><tr><td>2022</td><td>SP</td><td>DIESEL S10</td><td>6.628515</td></tr><tr><td>2022</td><td>SP</td><td>GASOLINA ADITIVADA</td><td>6.254963</td></tr><tr><td>2022</td><td>SP</td><td>DIESEL</td><td>6.495430</td></tr><tr><td>2022</td><td>SP</td><td>GNV</td><td>5.224979</td></tr><tr><td>2022</td><td>TO</td><td>GASOLINA ADITIVADA</td><td>6.573648</td></tr><tr><td>2022</td><td>TO</td><td>DIESEL</td><td>6.658541</td></tr><tr><td>2022</td><td>TO</td><td>ETANOL</td><td>5.382647</td></tr><tr><td>2022</td><td>TO</td><td>GASOLINA</td><td>6.515427</td></tr><tr><td>2022</td><td>TO</td><td>DIESEL S10</td><td>6.672597</td></tr><tr><td>2023</td><td>AC</td><td>DIESEL</td><td>6.802601</td></tr><tr><td>2023</td><td>AC</td><td>GASOLINA</td><td>6.414881</td></tr><tr><td>2023</td><td>AC</td><td>ETANOL</td><td>4.705000</td></tr><tr><td>2023</td><td>AC</td><td>DIESEL S10</td><td>6.868465</td></tr><tr><td>2023</td><td>AC</td><td>GASOLINA ADITIVADA</td><td>6.363136</td></tr><tr><td>2023</td><td>AL</td><td>DIESEL</td><td>6.021979</td></tr><tr><td>2023</td><td>AL</td><td>GNV</td><td>4.695597</td></tr><tr><td>2023</td><td>AL</td><td>ETANOL</td><td>4.440145</td></tr><tr><td>2023</td><td>AL</td><td>GASOLINA ADITIVADA</td><td>5.874059</td></tr><tr><td>2023</td><td>AL</td><td>GASOLINA</td><td>5.740997</td></tr><tr><td>2023</td><td>AL</td><td>DIESEL S10</td><td>6.034259</td></tr><tr><td>2023</td><td>AM</td><td>GNV</td><td>4.322000</td></tr><tr><td>2023</td><td>AM</td><td>DIESEL</td><td>6.015083</td></tr><tr><td>2023</td><td>AM</td><td>DIESEL S10</td><td>6.317065</td></tr><tr><td>2023</td><td>AM</td><td>ETANOL</td><td>4.493693</td></tr><tr><td>2023</td><td>AM</td><td>GASOLINA ADITIVADA</td><td>6.332437</td></tr><tr><td>2023</td><td>AM</td><td>GASOLINA</td><td>6.364473</td></tr><tr><td>2023</td><td>AP</td><td>DIESEL</td><td>5.893753</td></tr><tr><td>2023</td><td>AP</td><td>GASOLINA</td><td>5.269037</td></tr><tr><td>2023</td><td>AP</td><td>ETANOL</td><td>5.331250</td></tr><tr><td>2023</td><td>AP</td><td>DIESEL S10</td><td>6.219229</td></tr><tr><td>2023</td><td>AP</td><td>GASOLINA ADITIVADA</td><td>5.565545</td></tr><tr><td>2023</td><td>BA</td><td>DIESEL S10</td><td>5.823749</td></tr><tr><td>2023</td><td>BA</td><td>GNV</td><td>4.236250</td></tr><tr><td>2023</td><td>BA</td><td>DIESEL</td><td>5.733637</td></tr><tr><td>2023</td><td>BA</td><td>GASOLINA ADITIVADA</td><td>5.941894</td></tr><tr><td>2023</td><td>BA</td><td>GASOLINA</td><td>5.841667</td></tr><tr><td>2023</td><td>BA</td><td>ETANOL</td><td>4.412267</td></tr><tr><td>2023</td><td>CE</td><td>GASOLINA ADITIVADA</td><td>5.958325</td></tr><tr><td>2023</td><td>CE</td><td>DIESEL</td><td>5.951489</td></tr><tr><td>2023</td><td>CE</td><td>DIESEL S10</td><td>5.930630</td></tr><tr><td>2023</td><td>CE</td><td>GASOLINA</td><td>5.827147</td></tr><tr><td>2023</td><td>CE</td><td>ETANOL</td><td>4.650765</td></tr><tr><td>2023</td><td>CE</td><td>GNV</td><td>4.826048</td></tr><tr><td>2023</td><td>DF</td><td>DIESEL S10</td><td>5.894396</td></tr><tr><td>2023</td><td>DF</td><td>DIESEL</td><td>5.738462</td></tr><tr><td>2023</td><td>DF</td><td>GASOLINA</td><td>5.452413</td></tr><tr><td>2023</td><td>DF</td><td>GASOLINA ADITIVADA</td><td>5.554816</td></tr><tr><td>2023</td><td>DF</td><td>GNV</td><td>6.528667</td></tr><tr><td>2023</td><td>DF</td><td>ETANOL</td><td>3.845500</td></tr><tr><td>2023</td><td>ES</td><td>GASOLINA ADITIVADA</td><td>5.815239</td></tr><tr><td>2023</td><td>ES</td><td>ETANOL</td><td>4.367960</td></tr><tr><td>2023</td><td>ES</td><td>GNV</td><td>4.894020</td></tr><tr><td>2023</td><td>ES</td><td>GASOLINA</td><td>5.657444</td></tr><tr><td>2023</td><td>ES</td><td>DIESEL</td><td>5.642708</td></tr><tr><td>2023</td><td>ES</td><td>DIESEL S10</td><td>5.775830</td></tr><tr><td>2023</td><td>GO</td><td>DIESEL S10</td><td>5.801266</td></tr><tr><td>2023</td><td>GO</td><td>ETANOL</td><td>3.748032</td></tr><tr><td>2023</td><td>GO</td><td>GASOLINA ADITIVADA</td><td>5.600049</td></tr><tr><td>2023</td><td>GO</td><td>GASOLINA</td><td>5.468705</td></tr><tr><td>2023</td><td>GO</td><td>DIESEL</td><td>5.670389</td></tr><tr><td>2023</td><td>MA</td><td>GNV</td><td>5.345000</td></tr><tr><td>2023</td><td>MA</td><td>GASOLINA ADITIVADA</td><td>5.599793</td></tr><tr><td>2023</td><td>MA</td><td>DIESEL</td><td>5.713328</td></tr><tr><td>2023</td><td>MA</td><td>DIESEL S10</td><td>5.789445</td></tr><tr><td>2023</td><td>MA</td><td>GASOLINA</td><td>5.484755</td></tr><tr><td>2023</td><td>MA</td><td>ETANOL</td><td>4.579543</td></tr><tr><td>2023</td><td>MG</td><td>GASOLINA ADITIVADA</td><td>5.592810</td></tr><tr><td>2023</td><td>MG</td><td>DIESEL S10</td><td>5.798846</td></tr><tr><td>2023</td><td>MG</td><td>GNV</td><td>4.737809</td></tr><tr><td>2023</td><td>MG</td><td>GASOLINA</td><td>5.397653</td></tr><tr><td>2023</td><td>MG</td><td>ETANOL</td><td>3.754166</td></tr><tr><td>2023</td><td>MG</td><td>DIESEL</td><td>5.668290</td></tr><tr><td>2023</td><td>MS</td><td>DIESEL</td><td>5.913494</td></tr><tr><td>2023</td><td>MS</td><td>GNV</td><td>4.502885</td></tr><tr><td>2023</td><td>MS</td><td>GASOLINA ADITIVADA</td><td>5.689137</td></tr><tr><td>2023</td><td>MS</td><td>ETANOL</td><td>3.855188</td></tr><tr><td>2023</td><td>MS</td><td>DIESEL S10</td><td>5.978463</td></tr><tr><td>2023</td><td>MS</td><td>GASOLINA</td><td>5.497636</td></tr><tr><td>2023</td><td>MT</td><td>GASOLINA ADITIVADA</td><td>5.620419</td></tr><tr><td>2023</td><td>MT</td><td>DIESEL S10</td><td>6.016650</td></tr><tr><td>2023</td><td>MT</td><td>GNV</td><td>3.535570</td></tr><tr><td>2023</td><td>MT</td><td>GASOLINA</td><td>5.477831</td></tr><tr><td>2023</td><td>MT</td><td>DIESEL</td><td>5.873994</td></tr><tr><td>2023</td><td>MT</td><td>ETANOL</td><td>3.441690</td></tr><tr><td>2023</td><td>PA</td><td>GASOLINA</td><td>5.736636</td></tr><tr><td>2023</td><td>PA</td><td>DIESEL S10</td><td>6.222879</td></tr><tr><td>2023</td><td>PA</td><td>GASOLINA ADITIVADA</td><td>5.990945</td></tr><tr><td>2023</td><td>PA</td><td>GNV</td><td>5.500000</td></tr><tr><td>2023</td><td>PA</td><td>DIESEL</td><td>6.305497</td></tr><tr><td>2023</td><td>PA</td><td>ETANOL</td><td>4.749478</td></tr><tr><td>2023</td><td>PB</td><td>GNV</td><td>4.555030</td></tr><tr><td>2023</td><td>PB</td><td>DIESEL</td><td>5.721741</td></tr><tr><td>2023</td><td>PB</td><td>DIESEL S10</td><td>5.805681</td></tr><tr><td>2023</td><td>PB</td><td>GASOLINA</td><td>5.402974</td></tr><tr><td>2023</td><td>PB</td><td>GASOLINA ADITIVADA</td><td>5.571024</td></tr><tr><td>2023</td><td>PB</td><td>ETANOL</td><td>4.081834</td></tr><tr><td>2023</td><td>PE</td><td>DIESEL</td><td>5.745343</td></tr><tr><td>2023</td><td>PE</td><td>GNV</td><td>3.635085</td></tr><tr><td>2023</td><td>PE</td><td>ETANOL</td><td>4.217094</td></tr><tr><td>2023</td><td>PE</td><td>GASOLINA</td><td>5.451062</td></tr><tr><td>2023</td><td>PE</td><td>DIESEL S10</td><td>5.592412</td></tr><tr><td>2023</td><td>PE</td><td>GASOLINA ADITIVADA</td><td>5.616213</td></tr><tr><td>2023</td><td>PI</td><td>DIESEL</td><td>5.820556</td></tr><tr><td>2023</td><td>PI</td><td>GASOLINA ADITIVADA</td><td>5.702267</td></tr><tr><td>2023</td><td>PI</td><td>DIESEL S10</td><td>5.957047</td></tr><tr><td>2023</td><td>PI</td><td>ETANOL</td><td>4.301625</td></tr><tr><td>2023</td><td>PI</td><td>GASOLINA</td><td>5.487742</td></tr><tr><td>2023</td><td>PR</td><td>GASOLINA ADITIVADA</td><td>5.754858</td></tr><tr><td>2023</td><td>PR</td><td>ETANOL</td><td>3.982152</td></tr><tr><td>2023</td><td>PR</td><td>DIESEL</td><td>5.621593</td></tr><tr><td>2023</td><td>PR</td><td>GASOLINA</td><td>5.591041</td></tr><tr><td>2023</td><td>PR</td><td>GNV</td><td>5.292216</td></tr><tr><td>2023</td><td>PR</td><td>DIESEL S10</td><td>5.783894</td></tr><tr><td>2023</td><td>RJ</td><td>GASOLINA</td><td>5.561927</td></tr><tr><td>2023</td><td>RJ</td><td>GNV</td><td>4.628952</td></tr><tr><td>2023</td><td>RJ</td><td>ETANOL</td><td>4.317653</td></tr><tr><td>2023</td><td>RJ</td><td>GASOLINA ADITIVADA</td><td>5.711885</td></tr><tr><td>2023</td><td>RJ</td><td>DIESEL S10</td><td>5.862618</td></tr><tr><td>2023</td><td>RJ</td><td>DIESEL</td><td>5.738899</td></tr><tr><td>2023</td><td>RN</td><td>DIESEL S10</td><td>6.053550</td></tr><tr><td>2023</td><td>RN</td><td>GASOLINA</td><td>5.754667</td></tr><tr><td>2023</td><td>RN</td><td>ETANOL</td><td>4.582237</td></tr><tr><td>2023</td><td>RN</td><td>DIESEL</td><td>5.947337</td></tr><tr><td>2023</td><td>RN</td><td>GASOLINA ADITIVADA</td><td>5.816095</td></tr><tr><td>2023</td><td>RN</td><td>GNV</td><td>4.529031</td></tr><tr><td>2023</td><td>RO</td><td>DIESEL S10</td><td>6.322744</td></tr><tr><td>2023</td><td>RO</td><td>GASOLINA ADITIVADA</td><td>6.149539</td></tr><tr><td>2023</td><td>RO</td><td>DIESEL</td><td>6.274267</td></tr><tr><td>2023</td><td>RO</td><td>ETANOL</td><td>4.982074</td></tr><tr><td>2023</td><td>RO</td><td>GASOLINA</td><td>6.052496</td></tr><tr><td>2023</td><td>RR</td><td>ETANOL</td><td>4.952994</td></tr><tr><td>2023</td><td>RR</td><td>DIESEL S10</td><td>6.524255</td></tr><tr><td>2023</td><td>RR</td><td>DIESEL</td><td>6.473227</td></tr><tr><td>2023</td><td>RR</td><td>GASOLINA ADITIVADA</td><td>5.948046</td></tr><tr><td>2023</td><td>RR</td><td>GNV</td><td>4.990000</td></tr><tr><td>2023</td><td>RR</td><td>GASOLINA</td><td>5.864514</td></tr><tr><td>2023</td><td>RS</td><td>GASOLINA ADITIVADA</td><td>5.664416</td></tr><tr><td>2023</td><td>RS</td><td>GASOLINA</td><td>5.489648</td></tr><tr><td>2023</td><td>RS</td><td>ETANOL</td><td>4.783994</td></tr><tr><td>2023</td><td>RS</td><td>GNV</td><td>5.055716</td></tr><tr><td>2023</td><td>RS</td><td>DIESEL</td><td>5.686976</td></tr><tr><td>2023</td><td>RS</td><td>DIESEL S10</td><td>5.773482</td></tr><tr><td>2023</td><td>SC</td><td>ETANOL</td><td>4.549463</td></tr><tr><td>2023</td><td>SC</td><td>GASOLINA ADITIVADA</td><td>5.737220</td></tr><tr><td>2023</td><td>SC</td><td>DIESEL</td><td>5.744753</td></tr><tr><td>2023</td><td>SC</td><td>GNV</td><td>5.271911</td></tr><tr><td>2023</td><td>SC</td><td>DIESEL S10</td><td>5.865697</td></tr><tr><td>2023</td><td>SC</td><td>GASOLINA</td><td>5.615443</td></tr><tr><td>2023</td><td>SE</td><td>GNV</td><td>4.898603</td></tr><tr><td>2023</td><td>SE</td><td>DIESEL S10</td><td>5.691809</td></tr><tr><td>2023</td><td>SE</td><td>DIESEL</td><td>5.460014</td></tr><tr><td>2023</td><td>SE</td><td>GASOLINA ADITIVADA</td><td>5.662362</td></tr><tr><td>2023</td><td>SE</td><td>GASOLINA</td><td>5.581925</td></tr><tr><td>2023</td><td>SE</td><td>ETANOL</td><td>4.392366</td></tr><tr><td>2023</td><td>SP</td><td>ETANOL</td><td>3.624950</td></tr><tr><td>2023</td><td>SP</td><td>GASOLINA ADITIVADA</td><td>5.618353</td></tr><tr><td>2023</td><td>SP</td><td>DIESEL S10</td><td>5.846044</td></tr><tr><td>2023</td><td>SP</td><td>DIESEL</td><td>5.705231</td></tr><tr><td>2023</td><td>SP</td><td>GNV</td><td>4.526461</td></tr><tr><td>2023</td><td>SP</td><td>GASOLINA</td><td>5.364151</td></tr><tr><td>2023</td><td>TO</td><td>GASOLINA</td><td>5.766862</td></tr><tr><td>2023</td><td>TO</td><td>GASOLINA ADITIVADA</td><td>5.878927</td></tr><tr><td>2023</td><td>TO</td><td>ETANOL</td><td>4.473118</td></tr><tr><td>2023</td><td>TO</td><td>DIESEL S10</td><td>5.780454</td></tr><tr><td>2023</td><td>TO</td><td>DIESEL</td><td>5.642051</td></tr><tr><td>2024</td><td>AC</td><td>ETANOL</td><td>4.967049</td></tr><tr><td>2024</td><td>AC</td><td>DIESEL S10</td><td>7.445523</td></tr><tr><td>2024</td><td>AC</td><td>DIESEL</td><td>7.376319</td></tr><tr><td>2024</td><td>AC</td><td>GASOLINA</td><td>7.158876</td></tr><tr><td>2024</td><td>AC</td><td>GASOLINA ADITIVADA</td><td>7.202576</td></tr><tr><td>2024</td><td>AL</td><td>ETANOL</td><td>4.538669</td></tr><tr><td>2024</td><td>AL</td><td>GNV</td><td>4.840831</td></tr><tr><td>2024</td><td>AL</td><td>GASOLINA ADITIVADA</td><td>6.233581</td></tr><tr><td>2024</td><td>AL</td><td>DIESEL S10</td><td>6.124561</td></tr><tr><td>2024</td><td>AL</td><td>DIESEL</td><td>6.404463</td></tr><tr><td>2024</td><td>AL</td><td>GASOLINA</td><td>6.099957</td></tr><tr><td>2024</td><td>AM</td><td>GASOLINA ADITIVADA</td><td>6.690762</td></tr><tr><td>2024</td><td>AM</td><td>ETANOL</td><td>4.604953</td></tr><tr><td>2024</td><td>AM</td><td>DIESEL</td><td>6.456610</td></tr><tr><td>2024</td><td>AM</td><td>GNV</td><td>4.713529</td></tr><tr><td>2024</td><td>AM</td><td>GASOLINA</td><td>6.706477</td></tr><tr><td>2024</td><td>AM</td><td>DIESEL S10</td><td>6.564311</td></tr><tr><td>2024</td><td>AP</td><td>DIESEL</td><td>6.434559</td></tr><tr><td>2024</td><td>AP</td><td>ETANOL</td><td>5.035536</td></tr><tr><td>2024</td><td>AP</td><td>GASOLINA</td><td>5.760706</td></tr><tr><td>2024</td><td>AP</td><td>DIESEL S10</td><td>6.532982</td></tr><tr><td>2024</td><td>AP</td><td>GASOLINA ADITIVADA</td><td>6.078783</td></tr><tr><td>2024</td><td>BA</td><td>DIESEL S10</td><td>6.077209</td></tr><tr><td>2024</td><td>BA</td><td>GNV</td><td>4.313544</td></tr><tr><td>2024</td><td>BA</td><td>ETANOL</td><td>4.440349</td></tr><tr><td>2024</td><td>BA</td><td>GASOLINA ADITIVADA</td><td>6.278237</td></tr><tr><td>2024</td><td>BA</td><td>GASOLINA</td><td>6.171362</td></tr><tr><td>2024</td><td>BA</td><td>DIESEL</td><td>6.003156</td></tr><tr><td>2024</td><td>CE</td><td>ETANOL</td><td>4.783393</td></tr><tr><td>2024</td><td>CE</td><td>DIESEL</td><td>6.157546</td></tr><tr><td>2024</td><td>CE</td><td>GASOLINA</td><td>6.081595</td></tr><tr><td>2024</td><td>CE</td><td>GASOLINA ADITIVADA</td><td>6.209555</td></tr><tr><td>2024</td><td>CE</td><td>GNV</td><td>5.056762</td></tr><tr><td>2024</td><td>CE</td><td>DIESEL S10</td><td>6.079627</td></tr><tr><td>2024</td><td>DF</td><td>DIESEL</td><td>5.824891</td></tr><tr><td>2024</td><td>DF</td><td>GASOLINA ADITIVADA</td><td>5.956653</td></tr><tr><td>2024</td><td>DF</td><td>DIESEL S10</td><td>5.866929</td></tr><tr><td>2024</td><td>DF</td><td>GASOLINA</td><td>5.903683</td></tr><tr><td>2024</td><td>DF</td><td>GNV</td><td>6.690000</td></tr><tr><td>2024</td><td>DF</td><td>ETANOL</td><td>3.895076</td></tr><tr><td>2024</td><td>ES</td><td>GASOLINA ADITIVADA</td><td>6.185066</td></tr><tr><td>2024</td><td>ES</td><td>GNV</td><td>4.971788</td></tr><tr><td>2024</td><td>ES</td><td>DIESEL</td><td>5.884262</td></tr><tr><td>2024</td><td>ES</td><td>DIESEL S10</td><td>6.023302</td></tr><tr><td>2024</td><td>ES</td><td>GASOLINA</td><td>6.024536</td></tr><tr><td>2024</td><td>ES</td><td>ETANOL</td><td>4.253248</td></tr><tr><td>2024</td><td>GO</td><td>GASOLINA</td><td>5.927307</td></tr><tr><td>2024</td><td>GO</td><td>GASOLINA ADITIVADA</td><td>6.083439</td></tr><tr><td>2024</td><td>GO</td><td>DIESEL S10</td><td>5.924708</td></tr><tr><td>2024</td><td>GO</td><td>DIESEL</td><td>5.830222</td></tr><tr><td>2024</td><td>GO</td><td>ETANOL</td><td>3.917721</td></tr><tr><td>2024</td><td>MA</td><td>DIESEL</td><td>5.868917</td></tr><tr><td>2024</td><td>MA</td><td>DIESEL S10</td><td>5.863343</td></tr><tr><td>2024</td><td>MA</td><td>GASOLINA</td><td>5.866734</td></tr><tr><td>2024</td><td>MA</td><td>GASOLINA ADITIVADA</td><td>5.979817</td></tr><tr><td>2024</td><td>MA</td><td>ETANOL</td><td>4.606421</td></tr><tr><td>2024</td><td>MG</td><td>GASOLINA</td><td>5.864330</td></tr><tr><td>2024</td><td>MG</td><td>GNV</td><td>5.019343</td></tr><tr><td>2024</td><td>MG</td><td>ETANOL</td><td>3.940705</td></tr><tr><td>2024</td><td>MG</td><td>GASOLINA ADITIVADA</td><td>6.074481</td></tr><tr><td>2024</td><td>MG</td><td>DIESEL S10</td><td>5.920079</td></tr><tr><td>2024</td><td>MG</td><td>DIESEL</td><td>5.817675</td></tr><tr><td>2024</td><td>MS</td><td>DIESEL</td><td>6.170204</td></tr><tr><td>2024</td><td>MS</td><td>GASOLINA</td><td>5.959183</td></tr><tr><td>2024</td><td>MS</td><td>ETANOL</td><td>3.834293</td></tr><tr><td>2024</td><td>MS</td><td>DIESEL S10</td><td>6.171502</td></tr><tr><td>2024</td><td>MS</td><td>GASOLINA ADITIVADA</td><td>6.145549</td></tr><tr><td>2024</td><td>MS</td><td>GNV</td><td>4.446111</td></tr><tr><td>2024</td><td>MT</td><td>GASOLINA ADITIVADA</td><td>6.162547</td></tr><tr><td>2024</td><td>MT</td><td>DIESEL</td><td>6.043752</td></tr><tr><td>2024</td><td>MT</td><td>GASOLINA</td><td>5.956209</td></tr><tr><td>2024</td><td>MT</td><td>DIESEL S10</td><td>6.136555</td></tr><tr><td>2024</td><td>MT</td><td>GNV</td><td>3.564127</td></tr><tr><td>2024</td><td>MT</td><td>ETANOL</td><td>3.588097</td></tr><tr><td>2024</td><td>PA</td><td>DIESEL</td><td>6.387518</td></tr><tr><td>2024</td><td>PA</td><td>ETANOL</td><td>4.501482</td></tr><tr><td>2024</td><td>PA</td><td>GASOLINA</td><td>6.077749</td></tr><tr><td>2024</td><td>PA</td><td>GASOLINA ADITIVADA</td><td>6.338871</td></tr><tr><td>2024</td><td>PA</td><td>DIESEL S10</td><td>6.243398</td></tr><tr><td>2024</td><td>PB</td><td>DIESEL S10</td><td>5.888727</td></tr><tr><td>2024</td><td>PB</td><td>ETANOL</td><td>4.235500</td></tr><tr><td>2024</td><td>PB</td><td>GASOLINA ADITIVADA</td><td>5.987557</td></tr><tr><td>2024</td><td>PB</td><td>GNV</td><td>5.003862</td></tr><tr><td>2024</td><td>PB</td><td>DIESEL</td><td>5.863074</td></tr><tr><td>2024</td><td>PB</td><td>GASOLINA</td><td>5.854042</td></tr><tr><td>2024</td><td>PE</td><td>ETANOL</td><td>4.373235</td></tr><tr><td>2024</td><td>PE</td><td>GNV</td><td>4.521565</td></tr><tr><td>2024</td><td>PE</td><td>GASOLINA</td><td>5.913824</td></tr><tr><td>2024</td><td>PE</td><td>GASOLINA ADITIVADA</td><td>6.070860</td></tr><tr><td>2024</td><td>PE</td><td>DIESEL S10</td><td>5.768342</td></tr><tr><td>2024</td><td>PE</td><td>DIESEL</td><td>5.908632</td></tr><tr><td>2024</td><td>PI</td><td>DIESEL</td><td>5.934598</td></tr><tr><td>2024</td><td>PI</td><td>ETANOL</td><td>4.297111</td></tr><tr><td>2024</td><td>PI</td><td>DIESEL S10</td><td>6.035923</td></tr><tr><td>2024</td><td>PI</td><td>GASOLINA ADITIVADA</td><td>5.985146</td></tr><tr><td>2024</td><td>PI</td><td>GASOLINA</td><td>5.783064</td></tr><tr><td>2024</td><td>PR</td><td>ETANOL</td><td>4.035911</td></tr><tr><td>2024</td><td>PR</td><td>DIESEL S10</td><td>5.968576</td></tr><tr><td>2024</td><td>PR</td><td>GNV</td><td>4.995843</td></tr><tr><td>2024</td><td>PR</td><td>GASOLINA</td><td>6.013107</td></tr><tr><td>2024</td><td>PR</td><td>GASOLINA ADITIVADA</td><td>6.167871</td></tr><tr><td>2024</td><td>PR</td><td>DIESEL</td><td>5.850112</td></tr><tr><td>2024</td><td>RJ</td><td>GNV</td><td>4.821556</td></tr><tr><td>2024</td><td>RJ</td><td>GASOLINA ADITIVADA</td><td>6.070944</td></tr><tr><td>2024</td><td>RJ</td><td>DIESEL S10</td><td>6.096423</td></tr><tr><td>2024</td><td>RJ</td><td>DIESEL</td><td>5.992628</td></tr><tr><td>2024</td><td>RJ</td><td>ETANOL</td><td>4.275933</td></tr><tr><td>2024</td><td>RJ</td><td>GASOLINA</td><td>5.904939</td></tr><tr><td>2024</td><td>RN</td><td>GASOLINA ADITIVADA</td><td>6.273820</td></tr><tr><td>2024</td><td>RN</td><td>GNV</td><td>5.098325</td></tr><tr><td>2024</td><td>RN</td><td>GASOLINA</td><td>6.220137</td></tr><tr><td>2024</td><td>RN</td><td>DIESEL S10</td><td>6.234349</td></tr><tr><td>2024</td><td>RN</td><td>ETANOL</td><td>4.723650</td></tr><tr><td>2024</td><td>RN</td><td>DIESEL</td><td>6.148196</td></tr><tr><td>2024</td><td>RO</td><td>GASOLINA</td><td>6.610324</td></tr><tr><td>2024</td><td>RO</td><td>DIESEL</td><td>6.520079</td></tr><tr><td>2024</td><td>RO</td><td>ETANOL</td><td>4.972055</td></tr><tr><td>2024</td><td>RO</td><td>GASOLINA ADITIVADA</td><td>6.692398</td></tr><tr><td>2024</td><td>RO</td><td>DIESEL S10</td><td>6.558397</td></tr><tr><td>2024</td><td>RR</td><td>GASOLINA</td><td>6.364260</td></tr><tr><td>2024</td><td>RR</td><td>GASOLINA ADITIVADA</td><td>6.454489</td></tr><tr><td>2024</td><td>RR</td><td>DIESEL</td><td>6.573247</td></tr><tr><td>2024</td><td>RR</td><td>DIESEL S10</td><td>6.599708</td></tr><tr><td>2024</td><td>RR</td><td>ETANOL</td><td>4.866022</td></tr><tr><td>2024</td><td>RS</td><td>GASOLINA ADITIVADA</td><td>6.118323</td></tr><tr><td>2024</td><td>RS</td><td>ETANOL</td><td>4.633757</td></tr><tr><td>2024</td><td>RS</td><td>DIESEL S10</td><td>6.059559</td></tr><tr><td>2024</td><td>RS</td><td>GNV</td><td>4.724103</td></tr><tr><td>2024</td><td>RS</td><td>DIESEL</td><td>5.993762</td></tr><tr><td>2024</td><td>RS</td><td>GASOLINA</td><td>5.944500</td></tr><tr><td>2024</td><td>SC</td><td>GNV</td><td>4.958320</td></tr><tr><td>2024</td><td>SC</td><td>DIESEL S10</td><td>6.023158</td></tr><tr><td>2024</td><td>SC</td><td>GASOLINA</td><td>6.012678</td></tr><tr><td>2024</td><td>SC</td><td>GASOLINA ADITIVADA</td><td>6.133974</td></tr><tr><td>2024</td><td>SC</td><td>DIESEL</td><td>5.941351</td></tr><tr><td>2024</td><td>SC</td><td>ETANOL</td><td>4.364460</td></tr><tr><td>2024</td><td>SE</td><td>DIESEL</td><td>5.670737</td></tr><tr><td>2024</td><td>SE</td><td>GASOLINA</td><td>6.105592</td></tr><tr><td>2024</td><td>SE</td><td>DIESEL S10</td><td>5.859221</td></tr><tr><td>2024</td><td>SE</td><td>GNV</td><td>4.934386</td></tr><tr><td>2024</td><td>SE</td><td>ETANOL</td><td>4.503383</td></tr><tr><td>2024</td><td>SE</td><td>GASOLINA ADITIVADA</td><td>6.195948</td></tr><tr><td>2024</td><td>SP</td><td>GASOLINA</td><td>5.747326</td></tr><tr><td>2024</td><td>SP</td><td>DIESEL</td><td>5.902244</td></tr><tr><td>2024</td><td>SP</td><td>GNV</td><td>4.520368</td></tr><tr><td>2024</td><td>SP</td><td>GASOLINA ADITIVADA</td><td>6.021128</td></tr><tr><td>2024</td><td>SP</td><td>DIESEL S10</td><td>6.015771</td></tr><tr><td>2024</td><td>SP</td><td>ETANOL</td><td>3.698341</td></tr><tr><td>2024</td><td>TO</td><td>ETANOL</td><td>4.340010</td></tr><tr><td>2024</td><td>TO</td><td>DIESEL</td><td>5.842058</td></tr><tr><td>2024</td><td>TO</td><td>GASOLINA ADITIVADA</td><td>6.264792</td></tr><tr><td>2024</td><td>TO</td><td>DIESEL S10</td><td>5.849614</td></tr><tr><td>2024</td><td>TO</td><td>GASOLINA</td><td>6.140677</td></tr></tbody></table></div>"
      ]
     },
     "metadata": {
      "application/vnd.databricks.v1+output": {
       "addedWidgets": {},
       "aggData": [],
       "aggError": "",
       "aggOverflow": false,
       "aggSchema": [],
       "aggSeriesLimitReached": false,
       "aggType": "",
       "arguments": {},
       "columnCustomDisplayInfos": {},
       "data": [
        [
         2020,
         "AC",
         "GASOLINA ADITIVADA",
         "5.082117"
        ],
        [
         2020,
         "AC",
         "GASOLINA",
         "4.822375"
        ],
        [
         2020,
         "AC",
         "ETANOL",
         "3.970638"
        ],
        [
         2020,
         "AC",
         "DIESEL S10",
         "4.360395"
        ],
        [
         2020,
         "AC",
         "DIESEL",
         "4.317298"
        ],
        [
         2020,
         "AL",
         "GASOLINA",
         "4.444540"
        ],
        [
         2020,
         "AL",
         "ETANOL",
         "3.534357"
        ],
        [
         2020,
         "AL",
         "GNV",
         "3.459577"
        ],
        [
         2020,
         "AL",
         "DIESEL S10",
         "3.698106"
        ],
        [
         2020,
         "AL",
         "DIESEL",
         "3.633280"
        ],
        [
         2020,
         "AL",
         "GASOLINA ADITIVADA",
         "4.749959"
        ],
        [
         2020,
         "AM",
         "ETANOL",
         "3.415366"
        ],
        [
         2020,
         "AM",
         "DIESEL S10",
         "3.753854"
        ],
        [
         2020,
         "AM",
         "GASOLINA",
         "4.418428"
        ],
        [
         2020,
         "AM",
         "GASOLINA ADITIVADA",
         "4.240259"
        ],
        [
         2020,
         "AM",
         "DIESEL",
         "3.643588"
        ],
        [
         2020,
         "AM",
         "GNV",
         "3.307143"
        ],
        [
         2020,
         "AP",
         "DIESEL",
         "3.700626"
        ],
        [
         2020,
         "AP",
         "DIESEL S10",
         "3.857655"
        ],
        [
         2020,
         "AP",
         "ETANOL",
         "3.771034"
        ],
        [
         2020,
         "AP",
         "GASOLINA",
         "3.531769"
        ],
        [
         2020,
         "AP",
         "GASOLINA ADITIVADA",
         "4.186429"
        ],
        [
         2020,
         "BA",
         "GASOLINA ADITIVADA",
         "4.530109"
        ],
        [
         2020,
         "BA",
         "GASOLINA",
         "4.400377"
        ],
        [
         2020,
         "BA",
         "DIESEL S10",
         "3.507530"
        ],
        [
         2020,
         "BA",
         "GNV",
         "2.975668"
        ],
        [
         2020,
         "BA",
         "ETANOL",
         "3.375682"
        ],
        [
         2020,
         "BA",
         "DIESEL",
         "3.425835"
        ],
        [
         2020,
         "CE",
         "DIESEL S10",
         "3.625923"
        ],
        [
         2020,
         "CE",
         "GNV",
         "3.548119"
        ],
        [
         2020,
         "CE",
         "GASOLINA",
         "4.400690"
        ],
        [
         2020,
         "CE",
         "GASOLINA ADITIVADA",
         "4.812910"
        ],
        [
         2020,
         "CE",
         "ETANOL",
         "3.656208"
        ],
        [
         2020,
         "CE",
         "DIESEL",
         "3.605786"
        ],
        [
         2020,
         "DF",
         "DIESEL S10",
         "3.624459"
        ],
        [
         2020,
         "DF",
         "GASOLINA",
         "4.191752"
        ],
        [
         2020,
         "DF",
         "DIESEL",
         "3.484015"
        ],
        [
         2020,
         "DF",
         "ETANOL",
         "3.267404"
        ],
        [
         2020,
         "DF",
         "GNV",
         "3.800000"
        ],
        [
         2020,
         "DF",
         "GASOLINA ADITIVADA",
         "4.629765"
        ],
        [
         2020,
         "ES",
         "GASOLINA",
         "4.229090"
        ],
        [
         2020,
         "ES",
         "DIESEL",
         "3.348158"
        ],
        [
         2020,
         "ES",
         "DIESEL S10",
         "3.447859"
        ],
        [
         2020,
         "ES",
         "ETANOL",
         "3.626908"
        ],
        [
         2020,
         "ES",
         "GNV",
         "3.266217"
        ],
        [
         2020,
         "ES",
         "GASOLINA ADITIVADA",
         "4.481537"
        ],
        [
         2020,
         "GO",
         "DIESEL",
         "3.438559"
        ],
        [
         2020,
         "GO",
         "GNV",
         "2.430000"
        ],
        [
         2020,
         "GO",
         "DIESEL S10",
         "3.540233"
        ],
        [
         2020,
         "GO",
         "GASOLINA",
         "4.362688"
        ],
        [
         2020,
         "GO",
         "GASOLINA ADITIVADA",
         "4.929316"
        ],
        [
         2020,
         "GO",
         "ETANOL",
         "2.978979"
        ],
        [
         2020,
         "MA",
         "GNV",
         "4.780000"
        ],
        [
         2020,
         "MA",
         "GASOLINA",
         "4.201173"
        ],
        [
         2020,
         "MA",
         "DIESEL S10",
         "3.477714"
        ],
        [
         2020,
         "MA",
         "ETANOL",
         "3.660188"
        ],
        [
         2020,
         "MA",
         "DIESEL",
         "3.445905"
        ],
        [
         2020,
         "MA",
         "GASOLINA ADITIVADA",
         "4.462762"
        ],
        [
         2020,
         "MG",
         "GASOLINA ADITIVADA",
         "4.750450"
        ],
        [
         2020,
         "MG",
         "DIESEL S10",
         "3.559966"
        ],
        [
         2020,
         "MG",
         "ETANOL",
         "3.037826"
        ],
        [
         2020,
         "MG",
         "DIESEL",
         "3.468685"
        ],
        [
         2020,
         "MG",
         "GASOLINA",
         "4.467539"
        ],
        [
         2020,
         "MG",
         "GNV",
         "3.264788"
        ],
        [
         2020,
         "MS",
         "GASOLINA",
         "4.339685"
        ],
        [
         2020,
         "MS",
         "DIESEL S10",
         "3.569302"
        ],
        [
         2020,
         "MS",
         "ETANOL",
         "3.347614"
        ],
        [
         2020,
         "MS",
         "GNV",
         "3.331628"
        ],
        [
         2020,
         "MS",
         "DIESEL",
         "3.509403"
        ],
        [
         2020,
         "MS",
         "GASOLINA ADITIVADA",
         "4.667898"
        ],
        [
         2020,
         "MT",
         "GASOLINA ADITIVADA",
         "4.613406"
        ],
        [
         2020,
         "MT",
         "DIESEL S10",
         "3.736009"
        ],
        [
         2020,
         "MT",
         "ETANOL",
         "2.826157"
        ],
        [
         2020,
         "MT",
         "DIESEL",
         "3.658229"
        ],
        [
         2020,
         "MT",
         "GASOLINA",
         "4.330271"
        ],
        [
         2020,
         "MT",
         "GNV",
         "2.834082"
        ],
        [
         2020,
         "PA",
         "ETANOL",
         "3.903589"
        ],
        [
         2020,
         "PA",
         "DIESEL",
         "3.790486"
        ],
        [
         2020,
         "PA",
         "DIESEL S10",
         "3.819723"
        ],
        [
         2020,
         "PA",
         "GNV",
         "4.343333"
        ],
        [
         2020,
         "PA",
         "GASOLINA",
         "4.473956"
        ],
        [
         2020,
         "PA",
         "GASOLINA ADITIVADA",
         "4.769793"
        ],
        [
         2020,
         "PB",
         "GNV",
         "3.433504"
        ],
        [
         2020,
         "PB",
         "GASOLINA ADITIVADA",
         "4.509941"
        ],
        [
         2020,
         "PB",
         "DIESEL S10",
         "3.439476"
        ],
        [
         2020,
         "PB",
         "DIESEL",
         "3.375723"
        ],
        [
         2020,
         "PB",
         "ETANOL",
         "3.164684"
        ],
        [
         2020,
         "PB",
         "GASOLINA",
         "4.048858"
        ],
        [
         2020,
         "PE",
         "DIESEL S10",
         "3.352069"
        ],
        [
         2020,
         "PE",
         "DIESEL",
         "3.566136"
        ],
        [
         2020,
         "PE",
         "GASOLINA ADITIVADA",
         "4.689879"
        ],
        [
         2020,
         "PE",
         "GASOLINA",
         "4.247636"
        ],
        [
         2020,
         "PE",
         "ETANOL",
         "3.401422"
        ],
        [
         2020,
         "PE",
         "GNV",
         "2.762031"
        ],
        [
         2020,
         "PI",
         "GNV",
         "3.440000"
        ],
        [
         2020,
         "PI",
         "ETANOL",
         "3.435187"
        ],
        [
         2020,
         "PI",
         "DIESEL",
         "3.504278"
        ],
        [
         2020,
         "PI",
         "GASOLINA",
         "4.405925"
        ],
        [
         2020,
         "PI",
         "DIESEL S10",
         "3.575626"
        ],
        [
         2020,
         "PI",
         "GASOLINA ADITIVADA",
         "4.721889"
        ],
        [
         2020,
         "PR",
         "GASOLINA ADITIVADA",
         "4.368610"
        ],
        [
         2020,
         "PR",
         "ETANOL",
         "2.952294"
        ],
        [
         2020,
         "PR",
         "GNV",
         "3.217246"
        ],
        [
         2020,
         "PR",
         "GASOLINA",
         "4.051056"
        ],
        [
         2020,
         "PR",
         "DIESEL",
         "3.191815"
        ],
        [
         2020,
         "PR",
         "DIESEL S10",
         "3.262521"
        ],
        [
         2020,
         "RJ",
         "GASOLINA",
         "4.763341"
        ],
        [
         2020,
         "RJ",
         "GNV",
         "3.117505"
        ],
        [
         2020,
         "RJ",
         "GASOLINA ADITIVADA",
         "5.032977"
        ],
        [
         2020,
         "RJ",
         "DIESEL S10",
         "3.585094"
        ],
        [
         2020,
         "RJ",
         "ETANOL",
         "3.904291"
        ],
        [
         2020,
         "RJ",
         "DIESEL",
         "3.443573"
        ],
        [
         2020,
         "RN",
         "ETANOL",
         "3.577146"
        ],
        [
         2020,
         "RN",
         "GASOLINA",
         "4.414804"
        ],
        [
         2020,
         "RN",
         "GNV",
         "3.473604"
        ],
        [
         2020,
         "RN",
         "GASOLINA ADITIVADA",
         "4.843072"
        ],
        [
         2020,
         "RN",
         "DIESEL",
         "3.459456"
        ],
        [
         2020,
         "RN",
         "DIESEL S10",
         "3.629618"
        ],
        [
         2020,
         "RO",
         "GASOLINA ADITIVADA",
         "4.663803"
        ],
        [
         2020,
         "RO",
         "ETANOL",
         "3.777173"
        ],
        [
         2020,
         "RO",
         "GASOLINA",
         "4.373602"
        ],
        [
         2020,
         "RO",
         "DIESEL S10",
         "3.662885"
        ],
        [
         2020,
         "RO",
         "DIESEL",
         "3.605632"
        ],
        [
         2020,
         "RR",
         "DIESEL S10",
         "3.610000"
        ],
        [
         2020,
         "RR",
         "GASOLINA",
         "3.989211"
        ],
        [
         2020,
         "RR",
         "GASOLINA ADITIVADA",
         "4.295487"
        ],
        [
         2020,
         "RR",
         "DIESEL",
         "3.572988"
        ],
        [
         2020,
         "RR",
         "ETANOL",
         "3.730238"
        ],
        [
         2020,
         "RS",
         "DIESEL S10",
         "3.449204"
        ],
        [
         2020,
         "RS",
         "DIESEL",
         "3.339120"
        ],
        [
         2020,
         "RS",
         "GASOLINA ADITIVADA",
         "4.784867"
        ],
        [
         2020,
         "RS",
         "GASOLINA",
         "4.358373"
        ],
        [
         2020,
         "RS",
         "ETANOL",
         "4.182984"
        ],
        [
         2020,
         "RS",
         "GNV",
         "3.604059"
        ],
        [
         2020,
         "SC",
         "DIESEL",
         "3.313517"
        ],
        [
         2020,
         "SC",
         "GNV",
         "2.978436"
        ],
        [
         2020,
         "SC",
         "GASOLINA",
         "4.145414"
        ],
        [
         2020,
         "SC",
         "ETANOL",
         "3.640554"
        ],
        [
         2020,
         "SC",
         "GASOLINA ADITIVADA",
         "4.439845"
        ],
        [
         2020,
         "SC",
         "DIESEL S10",
         "3.440408"
        ],
        [
         2020,
         "SE",
         "DIESEL",
         "3.393885"
        ],
        [
         2020,
         "SE",
         "DIESEL S10",
         "3.543917"
        ],
        [
         2020,
         "SE",
         "GASOLINA",
         "4.345106"
        ],
        [
         2020,
         "SE",
         "GASOLINA ADITIVADA",
         "4.711675"
        ],
        [
         2020,
         "SE",
         "GNV",
         "3.253374"
        ],
        [
         2020,
         "SE",
         "ETANOL",
         "3.513119"
        ],
        [
         2020,
         "SP",
         "GASOLINA ADITIVADA",
         "4.407121"
        ],
        [
         2020,
         "SP",
         "GNV",
         "3.010187"
        ],
        [
         2020,
         "SP",
         "DIESEL",
         "3.315221"
        ],
        [
         2020,
         "SP",
         "ETANOL",
         "2.739998"
        ],
        [
         2020,
         "SP",
         "DIESEL S10",
         "3.444897"
        ],
        [
         2020,
         "SP",
         "GASOLINA",
         "4.071477"
        ],
        [
         2020,
         "TO",
         "GASOLINA",
         "4.480481"
        ],
        [
         2020,
         "TO",
         "DIESEL",
         "3.395973"
        ],
        [
         2020,
         "TO",
         "ETANOL",
         "3.648502"
        ],
        [
         2020,
         "TO",
         "GASOLINA ADITIVADA",
         "4.929375"
        ],
        [
         2020,
         "TO",
         "DIESEL S10",
         "3.450117"
        ],
        [
         2020,
         "TO",
         "GNV",
         "3.000000"
        ],
        [
         2021,
         "AC",
         "DIESEL S10",
         "5.644808"
        ],
        [
         2021,
         "AC",
         "ETANOL",
         "5.447094"
        ],
        [
         2021,
         "AC",
         "DIESEL",
         "5.613850"
        ],
        [
         2021,
         "AC",
         "GASOLINA",
         "6.449583"
        ],
        [
         2021,
         "AC",
         "GASOLINA ADITIVADA",
         "6.429978"
        ],
        [
         2021,
         "AL",
         "DIESEL S10",
         "4.937404"
        ],
        [
         2021,
         "AL",
         "GASOLINA",
         "5.958795"
        ],
        [
         2021,
         "AL",
         "DIESEL",
         "4.926746"
        ],
        [
         2021,
         "AL",
         "GASOLINA ADITIVADA",
         "6.066190"
        ],
        [
         2021,
         "AL",
         "GNV",
         "3.976691"
        ],
        [
         2021,
         "AL",
         "ETANOL",
         "4.914123"
        ],
        [
         2021,
         "AM",
         "GASOLINA",
         "5.739996"
        ],
        [
         2021,
         "AM",
         "DIESEL",
         "4.656378"
        ],
        [
         2021,
         "AM",
         "DIESEL S10",
         "4.739262"
        ],
        [
         2021,
         "AM",
         "ETANOL",
         "4.455126"
        ],
        [
         2021,
         "AM",
         "GNV",
         "3.821200"
        ],
        [
         2021,
         "AM",
         "GASOLINA ADITIVADA",
         "5.710503"
        ],
        [
         2021,
         "AP",
         "ETANOL",
         "5.230698"
        ],
        [
         2021,
         "AP",
         "DIESEL S10",
         "4.849853"
        ],
        [
         2021,
         "AP",
         "GASOLINA",
         "5.041107"
        ],
        [
         2021,
         "AP",
         "DIESEL",
         "4.746374"
        ],
        [
         2021,
         "AP",
         "GASOLINA ADITIVADA",
         "5.364261"
        ],
        [
         2021,
         "BA",
         "DIESEL",
         "4.749481"
        ],
        [
         2021,
         "BA",
         "GASOLINA ADITIVADA",
         "6.111257"
        ],
        [
         2021,
         "BA",
         "GASOLINA",
         "6.023877"
        ],
        [
         2021,
         "BA",
         "ETANOL",
         "4.911567"
        ],
        [
         2021,
         "BA",
         "GNV",
         "3.576850"
        ],
        [
         2021,
         "BA",
         "DIESEL S10",
         "4.789622"
        ],
        [
         2021,
         "CE",
         "DIESEL",
         "4.977845"
        ],
        [
         2021,
         "CE",
         "GASOLINA ADITIVADA",
         "6.197594"
        ],
        [
         2021,
         "CE",
         "DIESEL S10",
         "4.870211"
        ],
        [
         2021,
         "CE",
         "ETANOL",
         "5.083007"
        ],
        [
         2021,
         "CE",
         "GNV",
         "4.204532"
        ],
        [
         2021,
         "CE",
         "GASOLINA",
         "5.948997"
        ],
        [
         2021,
         "DF",
         "GNV",
         "4.850000"
        ],
        [
         2021,
         "DF",
         "ETANOL",
         "4.934972"
        ],
        [
         2021,
         "DF",
         "GASOLINA",
         "5.968401"
        ],
        [
         2021,
         "DF",
         "DIESEL",
         "4.666465"
        ],
        [
         2021,
         "DF",
         "DIESEL S10",
         "4.748148"
        ],
        [
         2021,
         "DF",
         "GASOLINA ADITIVADA",
         "6.011761"
        ],
        [
         2021,
         "ES",
         "GNV",
         "4.049884"
        ],
        [
         2021,
         "ES",
         "ETANOL",
         "5.076898"
        ],
        [
         2021,
         "ES",
         "GASOLINA ADITIVADA",
         "6.079459"
        ],
        [
         2021,
         "ES",
         "GASOLINA",
         "5.940441"
        ],
        [
         2021,
         "ES",
         "DIESEL S10",
         "4.585907"
        ],
        [
         2021,
         "ES",
         "DIESEL",
         "4.444498"
        ],
        [
         2021,
         "GO",
         "ETANOL",
         "4.613354"
        ],
        [
         2021,
         "GO",
         "GASOLINA ADITIVADA",
         "6.386286"
        ],
        [
         2021,
         "GO",
         "DIESEL S10",
         "4.921007"
        ],
        [
         2021,
         "GO",
         "DIESEL",
         "4.874678"
        ],
        [
         2021,
         "GO",
         "GASOLINA",
         "6.289835"
        ],
        [
         2021,
         "MA",
         "ETANOL",
         "4.860673"
        ],
        [
         2021,
         "MA",
         "DIESEL S10",
         "4.576117"
        ],
        [
         2021,
         "MA",
         "GASOLINA ADITIVADA",
         "5.761896"
        ],
        [
         2021,
         "MA",
         "DIESEL",
         "4.548613"
        ],
        [
         2021,
         "MA",
         "GASOLINA",
         "5.599554"
        ],
        [
         2021,
         "MA",
         "GNV",
         "4.310000"
        ],
        [
         2021,
         "MG",
         "GNV",
         "3.943091"
        ],
        [
         2021,
         "MG",
         "GASOLINA",
         "6.259059"
        ],
        [
         2021,
         "MG",
         "DIESEL",
         "4.772055"
        ],
        [
         2021,
         "MG",
         "ETANOL",
         "4.655852"
        ],
        [
         2021,
         "MG",
         "GASOLINA ADITIVADA",
         "6.404783"
        ],
        [
         2021,
         "MG",
         "DIESEL S10",
         "4.836188"
        ],
        [
         2021,
         "MS",
         "GASOLINA",
         "5.889574"
        ],
        [
         2021,
         "MS",
         "DIESEL",
         "4.658984"
        ],
        [
         2021,
         "MS",
         "DIESEL S10",
         "4.691413"
        ],
        [
         2021,
         "MS",
         "ETANOL",
         "4.596457"
        ],
        [
         2021,
         "MS",
         "GNV",
         "4.053433"
        ],
        [
         2021,
         "MS",
         "GASOLINA ADITIVADA",
         "6.007561"
        ],
        [
         2021,
         "MT",
         "DIESEL",
         "5.010680"
        ],
        [
         2021,
         "MT",
         "GNV",
         "2.916583"
        ],
        [
         2021,
         "MT",
         "DIESEL S10",
         "5.059377"
        ],
        [
         2021,
         "MT",
         "ETANOL",
         "4.312343"
        ],
        [
         2021,
         "MT",
         "GASOLINA ADITIVADA",
         "6.047792"
        ],
        [
         2021,
         "MT",
         "GASOLINA",
         "5.923389"
        ],
        [
         2021,
         "PA",
         "DIESEL",
         "5.186442"
        ],
        [
         2021,
         "PA",
         "ETANOL",
         "5.337352"
        ],
        [
         2021,
         "PA",
         "GASOLINA",
         "6.130110"
        ],
        [
         2021,
         "PA",
         "GASOLINA ADITIVADA",
         "6.265720"
        ],
        [
         2021,
         "PA",
         "DIESEL S10",
         "5.083732"
        ],
        [
         2021,
         "PB",
         "DIESEL S10",
         "4.734811"
        ],
        [
         2021,
         "PB",
         "GASOLINA ADITIVADA",
         "5.932138"
        ],
        [
         2021,
         "PB",
         "GNV",
         "4.047899"
        ],
        [
         2021,
         "PB",
         "GASOLINA",
         "5.733395"
        ],
        [
         2021,
         "PB",
         "ETANOL",
         "4.735538"
        ],
        [
         2021,
         "PB",
         "DIESEL",
         "4.622477"
        ],
        [
         2021,
         "PE",
         "GASOLINA ADITIVADA",
         "6.071477"
        ],
        [
         2021,
         "PE",
         "GASOLINA",
         "5.905824"
        ],
        [
         2021,
         "PE",
         "DIESEL",
         "4.576101"
        ],
        [
         2021,
         "PE",
         "DIESEL S10",
         "4.676758"
        ],
        [
         2021,
         "PE",
         "GNV",
         "3.544483"
        ],
        [
         2021,
         "PE",
         "ETANOL",
         "4.935565"
        ],
        [
         2021,
         "PI",
         "GASOLINA ADITIVADA",
         "6.431804"
        ],
        [
         2021,
         "PI",
         "DIESEL",
         "4.832721"
        ],
        [
         2021,
         "PI",
         "ETANOL",
         "5.011555"
        ],
        [
         2021,
         "PI",
         "DIESEL S10",
         "4.894236"
        ],
        [
         2021,
         "PI",
         "GASOLINA",
         "6.213060"
        ],
        [
         2021,
         "PR",
         "ETANOL",
         "4.510640"
        ],
        [
         2021,
         "PR",
         "GASOLINA ADITIVADA",
         "5.827996"
        ],
        [
         2021,
         "PR",
         "DIESEL",
         "4.480014"
        ],
        [
         2021,
         "PR",
         "GNV",
         "3.812475"
        ],
        [
         2021,
         "PR",
         "DIESEL S10",
         "4.512636"
        ],
        [
         2021,
         "PR",
         "GASOLINA",
         "5.685697"
        ],
        [
         2021,
         "RJ",
         "DIESEL",
         "4.641406"
        ],
        [
         2021,
         "RJ",
         "GASOLINA ADITIVADA",
         "6.565642"
        ],
        [
         2021,
         "RJ",
         "ETANOL",
         "5.406019"
        ],
        [
         2021,
         "RJ",
         "GNV",
         "3.965443"
        ],
        [
         2021,
         "RJ",
         "DIESEL S10",
         "4.711916"
        ],
        [
         2021,
         "RJ",
         "GASOLINA",
         "6.438087"
        ],
        [
         2021,
         "RN",
         "GNV",
         "4.280980"
        ],
        [
         2021,
         "RN",
         "GASOLINA ADITIVADA",
         "6.286331"
        ],
        [
         2021,
         "RN",
         "GASOLINA",
         "6.205038"
        ],
        [
         2021,
         "RN",
         "DIESEL S10",
         "5.067287"
        ],
        [
         2021,
         "RN",
         "ETANOL",
         "5.262683"
        ],
        [
         2021,
         "RN",
         "DIESEL",
         "4.909686"
        ],
        [
         2021,
         "RO",
         "ETANOL",
         "5.169228"
        ],
        [
         2021,
         "RO",
         "GASOLINA ADITIVADA",
         "6.059954"
        ],
        [
         2021,
         "RO",
         "DIESEL",
         "4.883802"
        ],
        [
         2021,
         "RO",
         "DIESEL S10",
         "4.928216"
        ],
        [
         2021,
         "RO",
         "GASOLINA",
         "5.964454"
        ],
        [
         2021,
         "RO",
         "GNV",
         "4.590000"
        ],
        [
         2021,
         "RR",
         "DIESEL",
         "4.836030"
        ],
        [
         2021,
         "RR",
         "DIESEL S10",
         "4.879634"
        ],
        [
         2021,
         "RR",
         "ETANOL",
         "4.980157"
        ],
        [
         2021,
         "RR",
         "GASOLINA",
         "5.522585"
        ],
        [
         2021,
         "RR",
         "GASOLINA ADITIVADA",
         "5.654205"
        ],
        [
         2021,
         "RS",
         "DIESEL",
         "4.563895"
        ],
        [
         2021,
         "RS",
         "GASOLINA ADITIVADA",
         "6.288886"
        ],
        [
         2021,
         "RS",
         "GASOLINA",
         "6.164126"
        ],
        [
         2021,
         "RS",
         "DIESEL S10",
         "4.630163"
        ],
        [
         2021,
         "RS",
         "ETANOL",
         "5.894440"
        ],
        [
         2021,
         "RS",
         "GNV",
         "4.445989"
        ],
        [
         2021,
         "SC",
         "GASOLINA ADITIVADA",
         "5.801351"
        ],
        [
         2021,
         "SC",
         "DIESEL",
         "4.545351"
        ],
        [
         2021,
         "SC",
         "GNV",
         "3.947458"
        ],
        [
         2021,
         "SC",
         "DIESEL S10",
         "4.607472"
        ],
        [
         2021,
         "SC",
         "ETANOL",
         "5.138246"
        ],
        [
         2021,
         "SC",
         "GASOLINA",
         "5.703523"
        ],
        [
         2021,
         "SE",
         "DIESEL S10",
         "4.860337"
        ],
        [
         2021,
         "SE",
         "DIESEL",
         "4.824052"
        ],
        [
         2021,
         "SE",
         "GASOLINA ADITIVADA",
         "5.971079"
        ],
        [
         2021,
         "SE",
         "GNV",
         "4.067578"
        ],
        [
         2021,
         "SE",
         "GASOLINA",
         "5.877733"
        ],
        [
         2021,
         "SE",
         "ETANOL",
         "4.908938"
        ],
        [
         2021,
         "SP",
         "ETANOL",
         "4.262695"
        ],
        [
         2021,
         "SP",
         "DIESEL S10",
         "4.668070"
        ],
        [
         2021,
         "SP",
         "GNV",
         "3.515435"
        ],
        [
         2021,
         "SP",
         "GASOLINA",
         "5.598036"
        ],
        [
         2021,
         "SP",
         "GASOLINA ADITIVADA",
         "5.765496"
        ],
        [
         2021,
         "SP",
         "DIESEL",
         "4.597523"
        ],
        [
         2021,
         "TO",
         "ETANOL",
         "5.148403"
        ],
        [
         2021,
         "TO",
         "DIESEL",
         "4.720600"
        ],
        [
         2021,
         "TO",
         "GASOLINA ADITIVADA",
         "6.263612"
        ],
        [
         2021,
         "TO",
         "GASOLINA",
         "6.180319"
        ],
        [
         2021,
         "TO",
         "DIESEL S10",
         "4.759471"
        ],
        [
         2022,
         "AC",
         "DIESEL",
         "7.456204"
        ],
        [
         2022,
         "AC",
         "GASOLINA",
         "6.899987"
        ],
        [
         2022,
         "AC",
         "DIESEL S10",
         "7.489953"
        ],
        [
         2022,
         "AC",
         "GASOLINA ADITIVADA",
         "6.889545"
        ],
        [
         2022,
         "AC",
         "ETANOL",
         "5.772031"
        ],
        [
         2022,
         "AL",
         "DIESEL",
         "6.894932"
        ],
        [
         2022,
         "AL",
         "DIESEL S10",
         "6.891194"
        ],
        [
         2022,
         "AL",
         "GASOLINA ADITIVADA",
         "6.568162"
        ],
        [
         2022,
         "AL",
         "GNV",
         "4.634237"
        ],
        [
         2022,
         "AL",
         "ETANOL",
         "5.192179"
        ],
        [
         2022,
         "AL",
         "GASOLINA",
         "6.444754"
        ],
        [
         2022,
         "AM",
         "DIESEL S10",
         "6.904579"
        ],
        [
         2022,
         "AM",
         "GASOLINA ADITIVADA",
         "6.390348"
        ],
        [
         2022,
         "AM",
         "DIESEL",
         "6.786438"
        ],
        [
         2022,
         "AM",
         "ETANOL",
         "4.889581"
        ],
        [
         2022,
         "AM",
         "GNV",
         "4.211884"
        ],
        [
         2022,
         "AM",
         "GASOLINA",
         "6.490537"
        ],
        [
         2022,
         "AP",
         "DIESEL S10",
         "6.919814"
        ],
        [
         2022,
         "AP",
         "GASOLINA",
         "5.627687"
        ],
        [
         2022,
         "AP",
         "ETANOL",
         "6.055111"
        ],
        [
         2022,
         "AP",
         "DIESEL",
         "6.607944"
        ],
        [
         2022,
         "AP",
         "GASOLINA ADITIVADA",
         "5.766940"
        ],
        [
         2022,
         "BA",
         "GNV",
         "4.331638"
        ],
        [
         2022,
         "BA",
         "GASOLINA ADITIVADA",
         "6.911281"
        ],
        [
         2022,
         "BA",
         "DIESEL",
         "6.983083"
        ],
        [
         2022,
         "BA",
         "DIESEL S10",
         "7.038689"
        ],
        [
         2022,
         "BA",
         "GASOLINA",
         "6.811236"
        ],
        [
         2022,
         "BA",
         "ETANOL",
         "5.374735"
        ],
        [
         2022,
         "CE",
         "GASOLINA ADITIVADA",
         "6.726963"
        ],
        [
         2022,
         "CE",
         "GNV",
         "5.057652"
        ],
        [
         2022,
         "CE",
         "ETANOL",
         "5.562966"
        ],
        [
         2022,
         "CE",
         "DIESEL S10",
         "6.983109"
        ],
        [
         2022,
         "CE",
         "DIESEL",
         "6.993150"
        ],
        [
         2022,
         "CE",
         "GASOLINA",
         "6.546789"
        ],
        [
         2022,
         "DF",
         "GNV",
         "6.676667"
        ],
        [
         2022,
         "DF",
         "GASOLINA",
         "6.243793"
        ],
        [
         2022,
         "DF",
         "GASOLINA ADITIVADA",
         "6.307952"
        ],
        [
         2022,
         "DF",
         "DIESEL",
         "6.669105"
        ],
        [
         2022,
         "DF",
         "DIESEL S10",
         "6.755261"
        ],
        [
         2022,
         "DF",
         "ETANOL",
         "5.013743"
        ],
        [
         2022,
         "ES",
         "GASOLINA",
         "6.428176"
        ],
        [
         2022,
         "ES",
         "DIESEL S10",
         "6.511086"
        ],
        [
         2022,
         "ES",
         "ETANOL",
         "5.353916"
        ],
        [
         2022,
         "ES",
         "GASOLINA ADITIVADA",
         "6.542415"
        ],
        [
         2022,
         "ES",
         "DIESEL",
         "6.391158"
        ],
        [
         2022,
         "ES",
         "GNV",
         "5.042510"
        ],
        [
         2022,
         "GO",
         "ETANOL",
         "4.532467"
        ],
        [
         2022,
         "GO",
         "GASOLINA ADITIVADA",
         "6.572060"
        ],
        [
         2022,
         "GO",
         "DIESEL",
         "6.651412"
        ],
        [
         2022,
         "GO",
         "DIESEL S10",
         "6.801136"
        ],
        [
         2022,
         "GO",
         "GASOLINA",
         "6.454918"
        ],
        [
         2022,
         "MA",
         "GASOLINA ADITIVADA",
         "6.471661"
        ],
        [
         2022,
         "MA",
         "DIESEL",
         "6.928830"
        ],
        [
         2022,
         "MA",
         "DIESEL S10",
         "6.931794"
        ],
        [
         2022,
         "MA",
         "GASOLINA",
         "6.332110"
        ],
        [
         2022,
         "MA",
         "ETANOL",
         "5.457934"
        ],
        [
         2022,
         "MA",
         "GNV",
         "5.000000"
        ],
        [
         2022,
         "MG",
         "GNV",
         "5.138491"
        ],
        [
         2022,
         "MG",
         "ETANOL",
         "4.699991"
        ],
        [
         2022,
         "MG",
         "GASOLINA",
         "6.502807"
        ],
        [
         2022,
         "MG",
         "DIESEL S10",
         "6.754256"
        ],
        [
         2022,
         "MG",
         "DIESEL",
         "6.629071"
        ],
        [
         2022,
         "MG",
         "GASOLINA ADITIVADA",
         "6.654349"
        ],
        [
         2022,
         "MS",
         "GASOLINA ADITIVADA",
         "6.377034"
        ],
        [
         2022,
         "MS",
         "GASOLINA",
         "6.255838"
        ],
        [
         2022,
         "MS",
         "DIESEL",
         "6.603538"
        ],
        [
         2022,
         "MS",
         "GNV",
         "4.917377"
        ],
        [
         2022,
         "MS",
         "ETANOL",
         "4.806613"
        ],
        [
         2022,
         "MS",
         "DIESEL S10",
         "6.718259"
        ],
        [
         2022,
         "MT",
         "GASOLINA ADITIVADA",
         "6.377870"
        ],
        [
         2022,
         "MT",
         "ETANOL",
         "4.294114"
        ],
        [
         2022,
         "MT",
         "GASOLINA",
         "6.247812"
        ],
        [
         2022,
         "MT",
         "DIESEL S10",
         "6.981675"
        ],
        [
         2022,
         "MT",
         "GNV",
         "3.260800"
        ],
        [
         2022,
         "MT",
         "DIESEL",
         "6.857959"
        ],
        [
         2022,
         "PA",
         "DIESEL",
         "7.014852"
        ],
        [
         2022,
         "PA",
         "ETANOL",
         "5.718306"
        ],
        [
         2022,
         "PA",
         "DIESEL S10",
         "7.026750"
        ],
        [
         2022,
         "PA",
         "GASOLINA ADITIVADA",
         "6.724345"
        ],
        [
         2022,
         "PA",
         "GASOLINA",
         "6.533533"
        ],
        [
         2022,
         "PB",
         "DIESEL S10",
         "6.729613"
        ],
        [
         2022,
         "PB",
         "DIESEL",
         "6.588272"
        ],
        [
         2022,
         "PB",
         "ETANOL",
         "4.881749"
        ],
        [
         2022,
         "PB",
         "GASOLINA",
         "6.187331"
        ],
        [
         2022,
         "PB",
         "GNV",
         "5.056220"
        ],
        [
         2022,
         "PB",
         "GASOLINA ADITIVADA",
         "6.316060"
        ],
        [
         2022,
         "PE",
         "DIESEL S10",
         "6.552562"
        ],
        [
         2022,
         "PE",
         "ETANOL",
         "5.246663"
        ],
        [
         2022,
         "PE",
         "DIESEL",
         "6.609638"
        ],
        [
         2022,
         "PE",
         "GASOLINA",
         "6.443975"
        ],
        [
         2022,
         "PE",
         "GNV",
         "4.145866"
        ],
        [
         2022,
         "PE",
         "GASOLINA ADITIVADA",
         "6.598606"
        ],
        [
         2022,
         "PI",
         "GASOLINA ADITIVADA",
         "6.933840"
        ],
        [
         2022,
         "PI",
         "ETANOL",
         "5.171860"
        ],
        [
         2022,
         "PI",
         "DIESEL",
         "6.870000"
        ],
        [
         2022,
         "PI",
         "DIESEL S10",
         "6.937410"
        ],
        [
         2022,
         "PI",
         "GASOLINA",
         "6.720010"
        ],
        [
         2022,
         "PR",
         "DIESEL S10",
         "6.598364"
        ],
        [
         2022,
         "PR",
         "GASOLINA",
         "6.280373"
        ],
        [
         2022,
         "PR",
         "GNV",
         "5.790481"
        ],
        [
         2022,
         "PR",
         "DIESEL",
         "6.464886"
        ],
        [
         2022,
         "PR",
         "ETANOL",
         "4.815805"
        ],
        [
         2022,
         "PR",
         "GASOLINA ADITIVADA",
         "6.424468"
        ],
        [
         2022,
         "RJ",
         "DIESEL",
         "6.562303"
        ],
        [
         2022,
         "RJ",
         "GNV",
         "5.030608"
        ],
        [
         2022,
         "RJ",
         "DIESEL S10",
         "6.718196"
        ],
        [
         2022,
         "RJ",
         "GASOLINA",
         "6.630404"
        ],
        [
         2022,
         "RJ",
         "ETANOL",
         "5.462647"
        ],
        [
         2022,
         "RJ",
         "GASOLINA ADITIVADA",
         "6.764222"
        ],
        [
         2022,
         "RN",
         "DIESEL",
         "6.754977"
        ],
        [
         2022,
         "RN",
         "DIESEL S10",
         "7.005597"
        ],
        [
         2022,
         "RN",
         "GASOLINA",
         "6.649966"
        ],
        [
         2022,
         "RN",
         "GNV",
         "4.502469"
        ],
        [
         2022,
         "RN",
         "ETANOL",
         "5.462449"
        ],
        [
         2022,
         "RN",
         "GASOLINA ADITIVADA",
         "6.721089"
        ],
        [
         2022,
         "RO",
         "GASOLINA",
         "6.422950"
        ],
        [
         2022,
         "RO",
         "GASOLINA ADITIVADA",
         "6.600351"
        ],
        [
         2022,
         "RO",
         "DIESEL",
         "7.035405"
        ],
        [
         2022,
         "RO",
         "ETANOL",
         "5.822081"
        ],
        [
         2022,
         "RO",
         "DIESEL S10",
         "7.055136"
        ],
        [
         2022,
         "RR",
         "DIESEL",
         "6.975319"
        ],
        [
         2022,
         "RR",
         "GASOLINA",
         "6.146604"
        ],
        [
         2022,
         "RR",
         "DIESEL S10",
         "7.051365"
        ],
        [
         2022,
         "RR",
         "ETANOL",
         "5.662901"
        ],
        [
         2022,
         "RR",
         "GASOLINA ADITIVADA",
         "6.261265"
        ],
        [
         2022,
         "RS",
         "ETANOL",
         "5.901567"
        ],
        [
         2022,
         "RS",
         "GASOLINA ADITIVADA",
         "6.252444"
        ],
        [
         2022,
         "RS",
         "DIESEL",
         "6.446947"
        ],
        [
         2022,
         "RS",
         "GNV",
         "5.882332"
        ],
        [
         2022,
         "RS",
         "DIESEL S10",
         "6.536505"
        ],
        [
         2022,
         "RS",
         "GASOLINA",
         "6.104058"
        ],
        [
         2022,
         "SC",
         "ETANOL",
         "5.584083"
        ],
        [
         2022,
         "SC",
         "GASOLINA ADITIVADA",
         "6.329674"
        ],
        [
         2022,
         "SC",
         "DIESEL S10",
         "6.584933"
        ],
        [
         2022,
         "SC",
         "GASOLINA",
         "6.215599"
        ],
        [
         2022,
         "SC",
         "GNV",
         "5.497607"
        ],
        [
         2022,
         "SC",
         "DIESEL",
         "6.469674"
        ],
        [
         2022,
         "SE",
         "DIESEL S10",
         "6.651314"
        ],
        [
         2022,
         "SE",
         "GNV",
         "4.985816"
        ],
        [
         2022,
         "SE",
         "GASOLINA",
         "6.324436"
        ],
        [
         2022,
         "SE",
         "GASOLINA ADITIVADA",
         "6.424007"
        ],
        [
         2022,
         "SE",
         "DIESEL",
         "6.587284"
        ],
        [
         2022,
         "SE",
         "ETANOL",
         "5.175026"
        ],
        [
         2022,
         "SP",
         "ETANOL",
         "4.331514"
        ],
        [
         2022,
         "SP",
         "GASOLINA",
         "6.050718"
        ],
        [
         2022,
         "SP",
         "DIESEL S10",
         "6.628515"
        ],
        [
         2022,
         "SP",
         "GASOLINA ADITIVADA",
         "6.254963"
        ],
        [
         2022,
         "SP",
         "DIESEL",
         "6.495430"
        ],
        [
         2022,
         "SP",
         "GNV",
         "5.224979"
        ],
        [
         2022,
         "TO",
         "GASOLINA ADITIVADA",
         "6.573648"
        ],
        [
         2022,
         "TO",
         "DIESEL",
         "6.658541"
        ],
        [
         2022,
         "TO",
         "ETANOL",
         "5.382647"
        ],
        [
         2022,
         "TO",
         "GASOLINA",
         "6.515427"
        ],
        [
         2022,
         "TO",
         "DIESEL S10",
         "6.672597"
        ],
        [
         2023,
         "AC",
         "DIESEL",
         "6.802601"
        ],
        [
         2023,
         "AC",
         "GASOLINA",
         "6.414881"
        ],
        [
         2023,
         "AC",
         "ETANOL",
         "4.705000"
        ],
        [
         2023,
         "AC",
         "DIESEL S10",
         "6.868465"
        ],
        [
         2023,
         "AC",
         "GASOLINA ADITIVADA",
         "6.363136"
        ],
        [
         2023,
         "AL",
         "DIESEL",
         "6.021979"
        ],
        [
         2023,
         "AL",
         "GNV",
         "4.695597"
        ],
        [
         2023,
         "AL",
         "ETANOL",
         "4.440145"
        ],
        [
         2023,
         "AL",
         "GASOLINA ADITIVADA",
         "5.874059"
        ],
        [
         2023,
         "AL",
         "GASOLINA",
         "5.740997"
        ],
        [
         2023,
         "AL",
         "DIESEL S10",
         "6.034259"
        ],
        [
         2023,
         "AM",
         "GNV",
         "4.322000"
        ],
        [
         2023,
         "AM",
         "DIESEL",
         "6.015083"
        ],
        [
         2023,
         "AM",
         "DIESEL S10",
         "6.317065"
        ],
        [
         2023,
         "AM",
         "ETANOL",
         "4.493693"
        ],
        [
         2023,
         "AM",
         "GASOLINA ADITIVADA",
         "6.332437"
        ],
        [
         2023,
         "AM",
         "GASOLINA",
         "6.364473"
        ],
        [
         2023,
         "AP",
         "DIESEL",
         "5.893753"
        ],
        [
         2023,
         "AP",
         "GASOLINA",
         "5.269037"
        ],
        [
         2023,
         "AP",
         "ETANOL",
         "5.331250"
        ],
        [
         2023,
         "AP",
         "DIESEL S10",
         "6.219229"
        ],
        [
         2023,
         "AP",
         "GASOLINA ADITIVADA",
         "5.565545"
        ],
        [
         2023,
         "BA",
         "DIESEL S10",
         "5.823749"
        ],
        [
         2023,
         "BA",
         "GNV",
         "4.236250"
        ],
        [
         2023,
         "BA",
         "DIESEL",
         "5.733637"
        ],
        [
         2023,
         "BA",
         "GASOLINA ADITIVADA",
         "5.941894"
        ],
        [
         2023,
         "BA",
         "GASOLINA",
         "5.841667"
        ],
        [
         2023,
         "BA",
         "ETANOL",
         "4.412267"
        ],
        [
         2023,
         "CE",
         "GASOLINA ADITIVADA",
         "5.958325"
        ],
        [
         2023,
         "CE",
         "DIESEL",
         "5.951489"
        ],
        [
         2023,
         "CE",
         "DIESEL S10",
         "5.930630"
        ],
        [
         2023,
         "CE",
         "GASOLINA",
         "5.827147"
        ],
        [
         2023,
         "CE",
         "ETANOL",
         "4.650765"
        ],
        [
         2023,
         "CE",
         "GNV",
         "4.826048"
        ],
        [
         2023,
         "DF",
         "DIESEL S10",
         "5.894396"
        ],
        [
         2023,
         "DF",
         "DIESEL",
         "5.738462"
        ],
        [
         2023,
         "DF",
         "GASOLINA",
         "5.452413"
        ],
        [
         2023,
         "DF",
         "GASOLINA ADITIVADA",
         "5.554816"
        ],
        [
         2023,
         "DF",
         "GNV",
         "6.528667"
        ],
        [
         2023,
         "DF",
         "ETANOL",
         "3.845500"
        ],
        [
         2023,
         "ES",
         "GASOLINA ADITIVADA",
         "5.815239"
        ],
        [
         2023,
         "ES",
         "ETANOL",
         "4.367960"
        ],
        [
         2023,
         "ES",
         "GNV",
         "4.894020"
        ],
        [
         2023,
         "ES",
         "GASOLINA",
         "5.657444"
        ],
        [
         2023,
         "ES",
         "DIESEL",
         "5.642708"
        ],
        [
         2023,
         "ES",
         "DIESEL S10",
         "5.775830"
        ],
        [
         2023,
         "GO",
         "DIESEL S10",
         "5.801266"
        ],
        [
         2023,
         "GO",
         "ETANOL",
         "3.748032"
        ],
        [
         2023,
         "GO",
         "GASOLINA ADITIVADA",
         "5.600049"
        ],
        [
         2023,
         "GO",
         "GASOLINA",
         "5.468705"
        ],
        [
         2023,
         "GO",
         "DIESEL",
         "5.670389"
        ],
        [
         2023,
         "MA",
         "GNV",
         "5.345000"
        ],
        [
         2023,
         "MA",
         "GASOLINA ADITIVADA",
         "5.599793"
        ],
        [
         2023,
         "MA",
         "DIESEL",
         "5.713328"
        ],
        [
         2023,
         "MA",
         "DIESEL S10",
         "5.789445"
        ],
        [
         2023,
         "MA",
         "GASOLINA",
         "5.484755"
        ],
        [
         2023,
         "MA",
         "ETANOL",
         "4.579543"
        ],
        [
         2023,
         "MG",
         "GASOLINA ADITIVADA",
         "5.592810"
        ],
        [
         2023,
         "MG",
         "DIESEL S10",
         "5.798846"
        ],
        [
         2023,
         "MG",
         "GNV",
         "4.737809"
        ],
        [
         2023,
         "MG",
         "GASOLINA",
         "5.397653"
        ],
        [
         2023,
         "MG",
         "ETANOL",
         "3.754166"
        ],
        [
         2023,
         "MG",
         "DIESEL",
         "5.668290"
        ],
        [
         2023,
         "MS",
         "DIESEL",
         "5.913494"
        ],
        [
         2023,
         "MS",
         "GNV",
         "4.502885"
        ],
        [
         2023,
         "MS",
         "GASOLINA ADITIVADA",
         "5.689137"
        ],
        [
         2023,
         "MS",
         "ETANOL",
         "3.855188"
        ],
        [
         2023,
         "MS",
         "DIESEL S10",
         "5.978463"
        ],
        [
         2023,
         "MS",
         "GASOLINA",
         "5.497636"
        ],
        [
         2023,
         "MT",
         "GASOLINA ADITIVADA",
         "5.620419"
        ],
        [
         2023,
         "MT",
         "DIESEL S10",
         "6.016650"
        ],
        [
         2023,
         "MT",
         "GNV",
         "3.535570"
        ],
        [
         2023,
         "MT",
         "GASOLINA",
         "5.477831"
        ],
        [
         2023,
         "MT",
         "DIESEL",
         "5.873994"
        ],
        [
         2023,
         "MT",
         "ETANOL",
         "3.441690"
        ],
        [
         2023,
         "PA",
         "GASOLINA",
         "5.736636"
        ],
        [
         2023,
         "PA",
         "DIESEL S10",
         "6.222879"
        ],
        [
         2023,
         "PA",
         "GASOLINA ADITIVADA",
         "5.990945"
        ],
        [
         2023,
         "PA",
         "GNV",
         "5.500000"
        ],
        [
         2023,
         "PA",
         "DIESEL",
         "6.305497"
        ],
        [
         2023,
         "PA",
         "ETANOL",
         "4.749478"
        ],
        [
         2023,
         "PB",
         "GNV",
         "4.555030"
        ],
        [
         2023,
         "PB",
         "DIESEL",
         "5.721741"
        ],
        [
         2023,
         "PB",
         "DIESEL S10",
         "5.805681"
        ],
        [
         2023,
         "PB",
         "GASOLINA",
         "5.402974"
        ],
        [
         2023,
         "PB",
         "GASOLINA ADITIVADA",
         "5.571024"
        ],
        [
         2023,
         "PB",
         "ETANOL",
         "4.081834"
        ],
        [
         2023,
         "PE",
         "DIESEL",
         "5.745343"
        ],
        [
         2023,
         "PE",
         "GNV",
         "3.635085"
        ],
        [
         2023,
         "PE",
         "ETANOL",
         "4.217094"
        ],
        [
         2023,
         "PE",
         "GASOLINA",
         "5.451062"
        ],
        [
         2023,
         "PE",
         "DIESEL S10",
         "5.592412"
        ],
        [
         2023,
         "PE",
         "GASOLINA ADITIVADA",
         "5.616213"
        ],
        [
         2023,
         "PI",
         "DIESEL",
         "5.820556"
        ],
        [
         2023,
         "PI",
         "GASOLINA ADITIVADA",
         "5.702267"
        ],
        [
         2023,
         "PI",
         "DIESEL S10",
         "5.957047"
        ],
        [
         2023,
         "PI",
         "ETANOL",
         "4.301625"
        ],
        [
         2023,
         "PI",
         "GASOLINA",
         "5.487742"
        ],
        [
         2023,
         "PR",
         "GASOLINA ADITIVADA",
         "5.754858"
        ],
        [
         2023,
         "PR",
         "ETANOL",
         "3.982152"
        ],
        [
         2023,
         "PR",
         "DIESEL",
         "5.621593"
        ],
        [
         2023,
         "PR",
         "GASOLINA",
         "5.591041"
        ],
        [
         2023,
         "PR",
         "GNV",
         "5.292216"
        ],
        [
         2023,
         "PR",
         "DIESEL S10",
         "5.783894"
        ],
        [
         2023,
         "RJ",
         "GASOLINA",
         "5.561927"
        ],
        [
         2023,
         "RJ",
         "GNV",
         "4.628952"
        ],
        [
         2023,
         "RJ",
         "ETANOL",
         "4.317653"
        ],
        [
         2023,
         "RJ",
         "GASOLINA ADITIVADA",
         "5.711885"
        ],
        [
         2023,
         "RJ",
         "DIESEL S10",
         "5.862618"
        ],
        [
         2023,
         "RJ",
         "DIESEL",
         "5.738899"
        ],
        [
         2023,
         "RN",
         "DIESEL S10",
         "6.053550"
        ],
        [
         2023,
         "RN",
         "GASOLINA",
         "5.754667"
        ],
        [
         2023,
         "RN",
         "ETANOL",
         "4.582237"
        ],
        [
         2023,
         "RN",
         "DIESEL",
         "5.947337"
        ],
        [
         2023,
         "RN",
         "GASOLINA ADITIVADA",
         "5.816095"
        ],
        [
         2023,
         "RN",
         "GNV",
         "4.529031"
        ],
        [
         2023,
         "RO",
         "DIESEL S10",
         "6.322744"
        ],
        [
         2023,
         "RO",
         "GASOLINA ADITIVADA",
         "6.149539"
        ],
        [
         2023,
         "RO",
         "DIESEL",
         "6.274267"
        ],
        [
         2023,
         "RO",
         "ETANOL",
         "4.982074"
        ],
        [
         2023,
         "RO",
         "GASOLINA",
         "6.052496"
        ],
        [
         2023,
         "RR",
         "ETANOL",
         "4.952994"
        ],
        [
         2023,
         "RR",
         "DIESEL S10",
         "6.524255"
        ],
        [
         2023,
         "RR",
         "DIESEL",
         "6.473227"
        ],
        [
         2023,
         "RR",
         "GASOLINA ADITIVADA",
         "5.948046"
        ],
        [
         2023,
         "RR",
         "GNV",
         "4.990000"
        ],
        [
         2023,
         "RR",
         "GASOLINA",
         "5.864514"
        ],
        [
         2023,
         "RS",
         "GASOLINA ADITIVADA",
         "5.664416"
        ],
        [
         2023,
         "RS",
         "GASOLINA",
         "5.489648"
        ],
        [
         2023,
         "RS",
         "ETANOL",
         "4.783994"
        ],
        [
         2023,
         "RS",
         "GNV",
         "5.055716"
        ],
        [
         2023,
         "RS",
         "DIESEL",
         "5.686976"
        ],
        [
         2023,
         "RS",
         "DIESEL S10",
         "5.773482"
        ],
        [
         2023,
         "SC",
         "ETANOL",
         "4.549463"
        ],
        [
         2023,
         "SC",
         "GASOLINA ADITIVADA",
         "5.737220"
        ],
        [
         2023,
         "SC",
         "DIESEL",
         "5.744753"
        ],
        [
         2023,
         "SC",
         "GNV",
         "5.271911"
        ],
        [
         2023,
         "SC",
         "DIESEL S10",
         "5.865697"
        ],
        [
         2023,
         "SC",
         "GASOLINA",
         "5.615443"
        ],
        [
         2023,
         "SE",
         "GNV",
         "4.898603"
        ],
        [
         2023,
         "SE",
         "DIESEL S10",
         "5.691809"
        ],
        [
         2023,
         "SE",
         "DIESEL",
         "5.460014"
        ],
        [
         2023,
         "SE",
         "GASOLINA ADITIVADA",
         "5.662362"
        ],
        [
         2023,
         "SE",
         "GASOLINA",
         "5.581925"
        ],
        [
         2023,
         "SE",
         "ETANOL",
         "4.392366"
        ],
        [
         2023,
         "SP",
         "ETANOL",
         "3.624950"
        ],
        [
         2023,
         "SP",
         "GASOLINA ADITIVADA",
         "5.618353"
        ],
        [
         2023,
         "SP",
         "DIESEL S10",
         "5.846044"
        ],
        [
         2023,
         "SP",
         "DIESEL",
         "5.705231"
        ],
        [
         2023,
         "SP",
         "GNV",
         "4.526461"
        ],
        [
         2023,
         "SP",
         "GASOLINA",
         "5.364151"
        ],
        [
         2023,
         "TO",
         "GASOLINA",
         "5.766862"
        ],
        [
         2023,
         "TO",
         "GASOLINA ADITIVADA",
         "5.878927"
        ],
        [
         2023,
         "TO",
         "ETANOL",
         "4.473118"
        ],
        [
         2023,
         "TO",
         "DIESEL S10",
         "5.780454"
        ],
        [
         2023,
         "TO",
         "DIESEL",
         "5.642051"
        ],
        [
         2024,
         "AC",
         "ETANOL",
         "4.967049"
        ],
        [
         2024,
         "AC",
         "DIESEL S10",
         "7.445523"
        ],
        [
         2024,
         "AC",
         "DIESEL",
         "7.376319"
        ],
        [
         2024,
         "AC",
         "GASOLINA",
         "7.158876"
        ],
        [
         2024,
         "AC",
         "GASOLINA ADITIVADA",
         "7.202576"
        ],
        [
         2024,
         "AL",
         "ETANOL",
         "4.538669"
        ],
        [
         2024,
         "AL",
         "GNV",
         "4.840831"
        ],
        [
         2024,
         "AL",
         "GASOLINA ADITIVADA",
         "6.233581"
        ],
        [
         2024,
         "AL",
         "DIESEL S10",
         "6.124561"
        ],
        [
         2024,
         "AL",
         "DIESEL",
         "6.404463"
        ],
        [
         2024,
         "AL",
         "GASOLINA",
         "6.099957"
        ],
        [
         2024,
         "AM",
         "GASOLINA ADITIVADA",
         "6.690762"
        ],
        [
         2024,
         "AM",
         "ETANOL",
         "4.604953"
        ],
        [
         2024,
         "AM",
         "DIESEL",
         "6.456610"
        ],
        [
         2024,
         "AM",
         "GNV",
         "4.713529"
        ],
        [
         2024,
         "AM",
         "GASOLINA",
         "6.706477"
        ],
        [
         2024,
         "AM",
         "DIESEL S10",
         "6.564311"
        ],
        [
         2024,
         "AP",
         "DIESEL",
         "6.434559"
        ],
        [
         2024,
         "AP",
         "ETANOL",
         "5.035536"
        ],
        [
         2024,
         "AP",
         "GASOLINA",
         "5.760706"
        ],
        [
         2024,
         "AP",
         "DIESEL S10",
         "6.532982"
        ],
        [
         2024,
         "AP",
         "GASOLINA ADITIVADA",
         "6.078783"
        ],
        [
         2024,
         "BA",
         "DIESEL S10",
         "6.077209"
        ],
        [
         2024,
         "BA",
         "GNV",
         "4.313544"
        ],
        [
         2024,
         "BA",
         "ETANOL",
         "4.440349"
        ],
        [
         2024,
         "BA",
         "GASOLINA ADITIVADA",
         "6.278237"
        ],
        [
         2024,
         "BA",
         "GASOLINA",
         "6.171362"
        ],
        [
         2024,
         "BA",
         "DIESEL",
         "6.003156"
        ],
        [
         2024,
         "CE",
         "ETANOL",
         "4.783393"
        ],
        [
         2024,
         "CE",
         "DIESEL",
         "6.157546"
        ],
        [
         2024,
         "CE",
         "GASOLINA",
         "6.081595"
        ],
        [
         2024,
         "CE",
         "GASOLINA ADITIVADA",
         "6.209555"
        ],
        [
         2024,
         "CE",
         "GNV",
         "5.056762"
        ],
        [
         2024,
         "CE",
         "DIESEL S10",
         "6.079627"
        ],
        [
         2024,
         "DF",
         "DIESEL",
         "5.824891"
        ],
        [
         2024,
         "DF",
         "GASOLINA ADITIVADA",
         "5.956653"
        ],
        [
         2024,
         "DF",
         "DIESEL S10",
         "5.866929"
        ],
        [
         2024,
         "DF",
         "GASOLINA",
         "5.903683"
        ],
        [
         2024,
         "DF",
         "GNV",
         "6.690000"
        ],
        [
         2024,
         "DF",
         "ETANOL",
         "3.895076"
        ],
        [
         2024,
         "ES",
         "GASOLINA ADITIVADA",
         "6.185066"
        ],
        [
         2024,
         "ES",
         "GNV",
         "4.971788"
        ],
        [
         2024,
         "ES",
         "DIESEL",
         "5.884262"
        ],
        [
         2024,
         "ES",
         "DIESEL S10",
         "6.023302"
        ],
        [
         2024,
         "ES",
         "GASOLINA",
         "6.024536"
        ],
        [
         2024,
         "ES",
         "ETANOL",
         "4.253248"
        ],
        [
         2024,
         "GO",
         "GASOLINA",
         "5.927307"
        ],
        [
         2024,
         "GO",
         "GASOLINA ADITIVADA",
         "6.083439"
        ],
        [
         2024,
         "GO",
         "DIESEL S10",
         "5.924708"
        ],
        [
         2024,
         "GO",
         "DIESEL",
         "5.830222"
        ],
        [
         2024,
         "GO",
         "ETANOL",
         "3.917721"
        ],
        [
         2024,
         "MA",
         "DIESEL",
         "5.868917"
        ],
        [
         2024,
         "MA",
         "DIESEL S10",
         "5.863343"
        ],
        [
         2024,
         "MA",
         "GASOLINA",
         "5.866734"
        ],
        [
         2024,
         "MA",
         "GASOLINA ADITIVADA",
         "5.979817"
        ],
        [
         2024,
         "MA",
         "ETANOL",
         "4.606421"
        ],
        [
         2024,
         "MG",
         "GASOLINA",
         "5.864330"
        ],
        [
         2024,
         "MG",
         "GNV",
         "5.019343"
        ],
        [
         2024,
         "MG",
         "ETANOL",
         "3.940705"
        ],
        [
         2024,
         "MG",
         "GASOLINA ADITIVADA",
         "6.074481"
        ],
        [
         2024,
         "MG",
         "DIESEL S10",
         "5.920079"
        ],
        [
         2024,
         "MG",
         "DIESEL",
         "5.817675"
        ],
        [
         2024,
         "MS",
         "DIESEL",
         "6.170204"
        ],
        [
         2024,
         "MS",
         "GASOLINA",
         "5.959183"
        ],
        [
         2024,
         "MS",
         "ETANOL",
         "3.834293"
        ],
        [
         2024,
         "MS",
         "DIESEL S10",
         "6.171502"
        ],
        [
         2024,
         "MS",
         "GASOLINA ADITIVADA",
         "6.145549"
        ],
        [
         2024,
         "MS",
         "GNV",
         "4.446111"
        ],
        [
         2024,
         "MT",
         "GASOLINA ADITIVADA",
         "6.162547"
        ],
        [
         2024,
         "MT",
         "DIESEL",
         "6.043752"
        ],
        [
         2024,
         "MT",
         "GASOLINA",
         "5.956209"
        ],
        [
         2024,
         "MT",
         "DIESEL S10",
         "6.136555"
        ],
        [
         2024,
         "MT",
         "GNV",
         "3.564127"
        ],
        [
         2024,
         "MT",
         "ETANOL",
         "3.588097"
        ],
        [
         2024,
         "PA",
         "DIESEL",
         "6.387518"
        ],
        [
         2024,
         "PA",
         "ETANOL",
         "4.501482"
        ],
        [
         2024,
         "PA",
         "GASOLINA",
         "6.077749"
        ],
        [
         2024,
         "PA",
         "GASOLINA ADITIVADA",
         "6.338871"
        ],
        [
         2024,
         "PA",
         "DIESEL S10",
         "6.243398"
        ],
        [
         2024,
         "PB",
         "DIESEL S10",
         "5.888727"
        ],
        [
         2024,
         "PB",
         "ETANOL",
         "4.235500"
        ],
        [
         2024,
         "PB",
         "GASOLINA ADITIVADA",
         "5.987557"
        ],
        [
         2024,
         "PB",
         "GNV",
         "5.003862"
        ],
        [
         2024,
         "PB",
         "DIESEL",
         "5.863074"
        ],
        [
         2024,
         "PB",
         "GASOLINA",
         "5.854042"
        ],
        [
         2024,
         "PE",
         "ETANOL",
         "4.373235"
        ],
        [
         2024,
         "PE",
         "GNV",
         "4.521565"
        ],
        [
         2024,
         "PE",
         "GASOLINA",
         "5.913824"
        ],
        [
         2024,
         "PE",
         "GASOLINA ADITIVADA",
         "6.070860"
        ],
        [
         2024,
         "PE",
         "DIESEL S10",
         "5.768342"
        ],
        [
         2024,
         "PE",
         "DIESEL",
         "5.908632"
        ],
        [
         2024,
         "PI",
         "DIESEL",
         "5.934598"
        ],
        [
         2024,
         "PI",
         "ETANOL",
         "4.297111"
        ],
        [
         2024,
         "PI",
         "DIESEL S10",
         "6.035923"
        ],
        [
         2024,
         "PI",
         "GASOLINA ADITIVADA",
         "5.985146"
        ],
        [
         2024,
         "PI",
         "GASOLINA",
         "5.783064"
        ],
        [
         2024,
         "PR",
         "ETANOL",
         "4.035911"
        ],
        [
         2024,
         "PR",
         "DIESEL S10",
         "5.968576"
        ],
        [
         2024,
         "PR",
         "GNV",
         "4.995843"
        ],
        [
         2024,
         "PR",
         "GASOLINA",
         "6.013107"
        ],
        [
         2024,
         "PR",
         "GASOLINA ADITIVADA",
         "6.167871"
        ],
        [
         2024,
         "PR",
         "DIESEL",
         "5.850112"
        ],
        [
         2024,
         "RJ",
         "GNV",
         "4.821556"
        ],
        [
         2024,
         "RJ",
         "GASOLINA ADITIVADA",
         "6.070944"
        ],
        [
         2024,
         "RJ",
         "DIESEL S10",
         "6.096423"
        ],
        [
         2024,
         "RJ",
         "DIESEL",
         "5.992628"
        ],
        [
         2024,
         "RJ",
         "ETANOL",
         "4.275933"
        ],
        [
         2024,
         "RJ",
         "GASOLINA",
         "5.904939"
        ],
        [
         2024,
         "RN",
         "GASOLINA ADITIVADA",
         "6.273820"
        ],
        [
         2024,
         "RN",
         "GNV",
         "5.098325"
        ],
        [
         2024,
         "RN",
         "GASOLINA",
         "6.220137"
        ],
        [
         2024,
         "RN",
         "DIESEL S10",
         "6.234349"
        ],
        [
         2024,
         "RN",
         "ETANOL",
         "4.723650"
        ],
        [
         2024,
         "RN",
         "DIESEL",
         "6.148196"
        ],
        [
         2024,
         "RO",
         "GASOLINA",
         "6.610324"
        ],
        [
         2024,
         "RO",
         "DIESEL",
         "6.520079"
        ],
        [
         2024,
         "RO",
         "ETANOL",
         "4.972055"
        ],
        [
         2024,
         "RO",
         "GASOLINA ADITIVADA",
         "6.692398"
        ],
        [
         2024,
         "RO",
         "DIESEL S10",
         "6.558397"
        ],
        [
         2024,
         "RR",
         "GASOLINA",
         "6.364260"
        ],
        [
         2024,
         "RR",
         "GASOLINA ADITIVADA",
         "6.454489"
        ],
        [
         2024,
         "RR",
         "DIESEL",
         "6.573247"
        ],
        [
         2024,
         "RR",
         "DIESEL S10",
         "6.599708"
        ],
        [
         2024,
         "RR",
         "ETANOL",
         "4.866022"
        ],
        [
         2024,
         "RS",
         "GASOLINA ADITIVADA",
         "6.118323"
        ],
        [
         2024,
         "RS",
         "ETANOL",
         "4.633757"
        ],
        [
         2024,
         "RS",
         "DIESEL S10",
         "6.059559"
        ],
        [
         2024,
         "RS",
         "GNV",
         "4.724103"
        ],
        [
         2024,
         "RS",
         "DIESEL",
         "5.993762"
        ],
        [
         2024,
         "RS",
         "GASOLINA",
         "5.944500"
        ],
        [
         2024,
         "SC",
         "GNV",
         "4.958320"
        ],
        [
         2024,
         "SC",
         "DIESEL S10",
         "6.023158"
        ],
        [
         2024,
         "SC",
         "GASOLINA",
         "6.012678"
        ],
        [
         2024,
         "SC",
         "GASOLINA ADITIVADA",
         "6.133974"
        ],
        [
         2024,
         "SC",
         "DIESEL",
         "5.941351"
        ],
        [
         2024,
         "SC",
         "ETANOL",
         "4.364460"
        ],
        [
         2024,
         "SE",
         "DIESEL",
         "5.670737"
        ],
        [
         2024,
         "SE",
         "GASOLINA",
         "6.105592"
        ],
        [
         2024,
         "SE",
         "DIESEL S10",
         "5.859221"
        ],
        [
         2024,
         "SE",
         "GNV",
         "4.934386"
        ],
        [
         2024,
         "SE",
         "ETANOL",
         "4.503383"
        ],
        [
         2024,
         "SE",
         "GASOLINA ADITIVADA",
         "6.195948"
        ],
        [
         2024,
         "SP",
         "GASOLINA",
         "5.747326"
        ],
        [
         2024,
         "SP",
         "DIESEL",
         "5.902244"
        ],
        [
         2024,
         "SP",
         "GNV",
         "4.520368"
        ],
        [
         2024,
         "SP",
         "GASOLINA ADITIVADA",
         "6.021128"
        ],
        [
         2024,
         "SP",
         "DIESEL S10",
         "6.015771"
        ],
        [
         2024,
         "SP",
         "ETANOL",
         "3.698341"
        ],
        [
         2024,
         "TO",
         "ETANOL",
         "4.340010"
        ],
        [
         2024,
         "TO",
         "DIESEL",
         "5.842058"
        ],
        [
         2024,
         "TO",
         "GASOLINA ADITIVADA",
         "6.264792"
        ],
        [
         2024,
         "TO",
         "DIESEL S10",
         "5.849614"
        ],
        [
         2024,
         "TO",
         "GASOLINA",
         "6.140677"
        ]
       ],
       "datasetInfos": [],
       "dbfsResultPath": null,
       "isJsonSchema": true,
       "metadata": {
        "createTempViewForImplicitDf": true,
        "dataframeName": "_sqldf",
        "executionCount": 19
       },
       "overflow": false,
       "plotOptions": {
        "customPlotOptions": {},
        "displayType": "table",
        "pivotAggregation": null,
        "pivotColumns": null,
        "xColumns": null,
        "yColumns": null
       },
       "removedWidgets": [],
       "schema": [
        {
         "metadata": "{}",
         "name": "ANO",
         "type": "\"integer\""
        },
        {
         "metadata": "{}",
         "name": "estado",
         "type": "\"string\""
        },
        {
         "metadata": "{}",
         "name": "Produto",
         "type": "\"string\""
        },
        {
         "metadata": "{}",
         "name": "PRECO_MEDIO",
         "type": "\"decimal(14,6)\""
        }
       ],
       "type": "table"
      }
     },
     "output_type": "display_data"
    },
    {
     "output_type": "display_data",
     "data": {
      "text/plain": [
       "Databricks visualization. Run in Databricks to view."
      ]
     },
     "metadata": {
      "application/vnd.databricks.v1.subcommand+json": {
       "baseErrorDetails": null,
       "bindings": {},
       "collapsed": false,
       "command": "%sql WITH q AS (SELECT *\nFROM gold.precoMedioPorAnoEstado) SELECT `nome_estabelecimento`,SUM(`quantidade_total`) `column_acd1fa53287` FROM q GROUP BY `nome_estabelecimento`",
       "commandTitle": "Visualização 1",
       "commandType": "auto",
       "commandVersion": 0,
       "commentThread": [],
       "commentsVisible": false,
       "contentSha256Hex": null,
       "customPlotOptions": {
        "redashChart": [
         {
          "key": "type",
          "value": "CHART"
         },
         {
          "key": "options",
          "value": {
           "alignYAxesAtZero": true,
           "coefficient": 1,
           "columnConfigurationMap": {
            "series": {
             "column": "estado",
             "id": "column_f8f8cf9c412"
            },
            "x": {
             "column": "ANO",
             "id": "column_f8f8cf9c410"
            },
            "y": [
             {
              "column": "PRECO_MEDIO",
              "id": "column_acd1fa53287",
              "transform": "AVG"
             }
            ]
           },
           "dateTimeFormat": "DD/MM/YYYY HH:mm",
           "direction": {
            "type": "counterclockwise"
           },
           "error_y": {
            "type": "data",
            "visible": true
           },
           "globalSeriesType": "line",
           "isAggregationOn": true,
           "legend": {
            "traceorder": "normal"
           },
           "missingValuesAsZero": true,
           "numberFormat": "0,0.[00000]",
           "percentFormat": "0[.]00%",
           "series": {
            "error_y": {
             "type": "data",
             "visible": true
            },
            "stacking": null
           },
           "seriesOptions": {
            "column_acd1fa53287": {
             "color": "#E92828",
             "type": "line",
             "yAxis": 0
            }
           },
           "showDataLabels": false,
           "sizemode": "diameter",
           "sortX": false,
           "sortY": true,
           "swappedAxes": false,
           "textFormat": "",
           "useAggregationsUi": true,
           "valuesOptions": {},
           "version": 2,
           "xAxis": {
            "labels": {
             "enabled": true
            },
            "title": {
             "text": "Ano"
            },
            "type": "-"
           },
           "yAxis": [
            {
             "title": {
              "text": "Preço médio"
             },
             "type": "-"
            },
            {
             "opposite": true,
             "type": "-"
            }
           ]
          }
         }
        ]
       },
       "datasetPreviewNameToCmdIdMap": {},
       "diffDeletes": [],
       "diffInserts": [],
       "displayType": "redashChart",
       "error": null,
       "errorDetails": null,
       "errorSummary": null,
       "errorTraceType": null,
       "finishTime": 0,
       "globalVars": {},
       "guid": "",
       "height": "641",
       "hideCommandCode": false,
       "hideCommandResult": false,
       "iPythonMetadata": null,
       "inputWidgets": {},
       "isLockedInExamMode": false,
       "latestUser": "a user",
       "latestUserId": null,
       "listResultMetadata": null,
       "metadata": {
        "byteLimit": 2048000,
        "implicitDf": true,
        "rowLimit": 10000
       },
       "nuid": "69339a4d-192c-4053-a03c-d713ff310c90",
       "origId": 0,
       "parentHierarchy": [],
       "pivotAggregation": null,
       "pivotColumns": null,
       "position": 9.0,
       "resultDbfsErrorMessage": null,
       "resultDbfsStatus": "INLINED_IN_TREE",
       "results": null,
       "showCommandTitle": false,
       "startTime": 0,
       "state": "finished",
       "streamStates": {},
       "subcommandOptions": {
        "queryPlan": {
         "groups": [
          {
           "column": "ANO",
           "type": "column"
          },
          {
           "column": "estado",
           "type": "column"
          }
         ],
         "selects": [
          {
           "column": "ANO",
           "type": "column"
          },
          {
           "alias": "column_acd1fa53287",
           "args": [
            {
             "column": "PRECO_MEDIO",
             "type": "column"
            }
           ],
           "function": "AVG",
           "type": "function"
          },
          {
           "column": "estado",
           "type": "column"
          }
         ]
        }
       },
       "submitTime": 0,
       "subtype": "tableResultSubCmd.visualization",
       "tableResultIndex": 0,
       "tableResultSettingsMap": {},
       "useConsistentColors": false,
       "version": "CommandV1",
       "width": "1182",
       "workflows": [],
       "xColumns": null,
       "yColumns": null
      }
     },
     "output_type": "display_data"
    }
   ],
   "source": [
    "%sql\n",
    "SELECT *\n",
    "FROM gold.precoMedioPorAnoEstado"
   ]
  }
 ],
 "metadata": {
  "application/vnd.databricks.v1+notebook": {
   "computePreferences": null,
   "dashboards": [],
   "environmentMetadata": {
    "base_environment": "",
    "environment_version": "1"
   },
   "inputWidgetPreferences": null,
   "language": "python",
   "notebookMetadata": {
    "mostRecentlyExecutedCommandWithImplicitDF": {
     "commandId": 382670190331090,
     "dataframes": [
      "_sqldf"
     ]
    },
    "pythonIndentUnit": 4
   },
   "notebookName": "03.goldPrecoMedioAnoEstado",
   "widgets": {}
  }
 },
 "nbformat": 4,
 "nbformat_minor": 0
}
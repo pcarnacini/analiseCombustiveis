{
 "cells": [
  {
   "cell_type": "markdown",
   "metadata": {
    "application/vnd.databricks.v1+cell": {
     "cellMetadata": {
      "byteLimit": 2048000,
      "rowLimit": 10000
     },
     "inputWidgets": {},
     "nuid": "ec5bab18-a036-4afd-bcf3-1f1a5b9f7615",
     "showTitle": false,
     "tableResultSettingsMap": {},
     "title": ""
    }
   },
   "source": [
    "## Informações gerais\n",
    " | Informações | Detalhes |\n",
    " |-------------|-------------|\n",
    " | Nome Tabela | gold.sazonalidade |\n",
    " | Origem | silver.combustivel |\n",
    "\n",
    "## Histórico de Atualizações\n",
    "  | Data | Desenvolvido por | Razão |\n",
    "  |:-------------:|-------------|-------------|\n",
    "  | 13/04/2025 | Pedro Carnacini | Criação do Notebook | "
   ]
  },
  {
   "cell_type": "code",
   "execution_count": 0,
   "metadata": {
    "application/vnd.databricks.v1+cell": {
     "cellMetadata": {
      "byteLimit": 2048000,
      "rowLimit": 10000
     },
     "inputWidgets": {},
     "nuid": "3baf6889-9931-43d3-a303-50e214f4d31b",
     "showTitle": false,
     "tableResultSettingsMap": {},
     "title": ""
    }
   },
   "outputs": [
    {
     "output_type": "execute_result",
     "data": {
      "text/plain": [
       "DataFrame[]"
      ]
     },
     "execution_count": 11,
     "metadata": {},
     "output_type": "execute_result"
    }
   ],
   "source": [
    "# Nome do schema e tabela no catálogo\n",
    "database = \"gold\"\n",
    "tabela = \"sazonalidade\"\n",
    "\n",
    "# Criar database se não existir\n",
    "spark.sql(f\"CREATE DATABASE IF NOT EXISTS {database}\")"
   ]
  },
  {
   "cell_type": "code",
   "execution_count": 0,
   "metadata": {
    "application/vnd.databricks.v1+cell": {
     "cellMetadata": {
      "byteLimit": 2048000,
      "rowLimit": 10000
     },
     "inputWidgets": {},
     "nuid": "8c33c52a-d1a7-489b-be7f-274a1c98aa1a",
     "showTitle": false,
     "tableResultSettingsMap": {},
     "title": ""
    }
   },
   "outputs": [],
   "source": [
    "df_sazonalidade = spark.sql(\n",
    "f\"\"\"\n",
    "SELECT \n",
    "    YEAR(dataColeta) AS ANO, \n",
    "    CASE WHEN MONTH(dataColeta) <= 6 THEN '1º Semestre' ELSE '2º Semestre' END AS SEMESTRE,\n",
    "    Produto,\n",
    "    AVG(valorVenda) AS PRECO_MEDIO\n",
    "FROM silver.combustivel\n",
    "GROUP BY ANO, SEMESTRE, Produto\n",
    "ORDER BY ANO, SEMESTRE;\n",
    "\"\"\"\n",
    ")"
   ]
  },
  {
   "cell_type": "code",
   "execution_count": 0,
   "metadata": {
    "application/vnd.databricks.v1+cell": {
     "cellMetadata": {
      "byteLimit": 2048000,
      "rowLimit": 10000
     },
     "inputWidgets": {},
     "nuid": "2eb40646-65f6-4fc4-957b-4c4f096f1660",
     "showTitle": false,
     "tableResultSettingsMap": {},
     "title": ""
    }
   },
   "outputs": [
    {
     "output_type": "stream",
     "name": "stdout",
     "output_type": "stream",
     "text": [
      "Dados gravados com sucesso!\n"
     ]
    }
   ],
   "source": [
    "df_sazonalidade.write \\\n",
    "          .format('delta') \\\n",
    "          .mode('overwrite') \\\n",
    "          .option('overwriteSchema', 'true') \\\n",
    "          .saveAsTable(f'{database}.{tabela}')\n",
    "print(\"Dados gravados com sucesso!\")"
   ]
  },
  {
   "cell_type": "code",
   "execution_count": 0,
   "metadata": {
    "application/vnd.databricks.v1+cell": {
     "cellMetadata": {
      "byteLimit": 2048000,
      "rowLimit": 10000
     },
     "inputWidgets": {},
     "nuid": "552b7815-b499-4e93-8307-20ddf91576b1",
     "showTitle": false,
     "tableResultSettingsMap": {},
     "title": ""
    }
   },
   "outputs": [
    {
     "output_type": "stream",
     "name": "stdout",
     "output_type": "stream",
     "text": [
      "Processo de otimização finalizado!.\n"
     ]
    }
   ],
   "source": [
    "spark.sql(f\"OPTIMIZE {database}.{tabela}\")\n",
    "print(f\"Processo de otimização finalizado!.\")"
   ]
  },
  {
   "cell_type": "code",
   "execution_count": 0,
   "metadata": {
    "application/vnd.databricks.v1+cell": {
     "cellMetadata": {
      "byteLimit": 2048000,
      "implicitDf": true,
      "rowLimit": 10000
     },
     "inputWidgets": {},
     "nuid": "fbc188e0-bb95-498f-a74b-c94d40eea868",
     "showTitle": false,
     "tableResultSettingsMap": {},
     "title": ""
    }
   },
   "outputs": [
    {
     "output_type": "display_data",
     "data": {
      "text/html": [
       "<style scoped>\n",
       "  .table-result-container {\n",
       "    max-height: 300px;\n",
       "    overflow: auto;\n",
       "  }\n",
       "  table, th, td {\n",
       "    border: 1px solid black;\n",
       "    border-collapse: collapse;\n",
       "  }\n",
       "  th, td {\n",
       "    padding: 5px;\n",
       "  }\n",
       "  th {\n",
       "    text-align: left;\n",
       "  }\n",
       "</style><div class='table-result-container'><table class='table-result'><thead style='background-color: white'><tr><th>ANO</th><th>SEMESTRE</th><th>Produto</th><th>PRECO_MEDIO</th></tr></thead><tbody><tr><td>2020</td><td>1º Semestre</td><td>GNV</td><td>3.224875</td></tr><tr><td>2020</td><td>1º Semestre</td><td>DIESEL S10</td><td>3.523508</td></tr><tr><td>2020</td><td>1º Semestre</td><td>ETANOL</td><td>3.195380</td></tr><tr><td>2020</td><td>1º Semestre</td><td>GASOLINA</td><td>4.280350</td></tr><tr><td>2020</td><td>1º Semestre</td><td>DIESEL</td><td>3.434554</td></tr><tr><td>2020</td><td>2º Semestre</td><td>DIESEL S10</td><td>3.474037</td></tr><tr><td>2020</td><td>2º Semestre</td><td>ETANOL</td><td>3.140800</td></tr><tr><td>2020</td><td>2º Semestre</td><td>DIESEL</td><td>3.375971</td></tr><tr><td>2020</td><td>2º Semestre</td><td>GASOLINA ADITIVADA</td><td>4.588713</td></tr><tr><td>2020</td><td>2º Semestre</td><td>GNV</td><td>3.070192</td></tr><tr><td>2020</td><td>2º Semestre</td><td>GASOLINA</td><td>4.282346</td></tr><tr><td>2021</td><td>1º Semestre</td><td>DIESEL S10</td><td>4.310474</td></tr><tr><td>2021</td><td>1º Semestre</td><td>ETANOL</td><td>4.141205</td></tr><tr><td>2021</td><td>1º Semestre</td><td>DIESEL</td><td>4.256871</td></tr><tr><td>2021</td><td>1º Semestre</td><td>GNV</td><td>3.480919</td></tr><tr><td>2021</td><td>1º Semestre</td><td>GASOLINA ADITIVADA</td><td>5.496595</td></tr><tr><td>2021</td><td>1º Semestre</td><td>GASOLINA</td><td>5.347621</td></tr><tr><td>2021</td><td>2º Semestre</td><td>DIESEL</td><td>4.981041</td></tr><tr><td>2021</td><td>2º Semestre</td><td>GASOLINA ADITIVADA</td><td>6.422977</td></tr><tr><td>2021</td><td>2º Semestre</td><td>ETANOL</td><td>5.056605</td></tr><tr><td>2021</td><td>2º Semestre</td><td>GNV</td><td>4.237516</td></tr><tr><td>2021</td><td>2º Semestre</td><td>DIESEL S10</td><td>5.041381</td></tr><tr><td>2021</td><td>2º Semestre</td><td>GASOLINA</td><td>6.274693</td></tr><tr><td>2022</td><td>1º Semestre</td><td>GASOLINA ADITIVADA</td><td>7.171918</td></tr><tr><td>2022</td><td>1º Semestre</td><td>DIESEL S10</td><td>6.496630</td></tr><tr><td>2022</td><td>1º Semestre</td><td>GNV</td><td>4.995909</td></tr><tr><td>2022</td><td>1º Semestre</td><td>GASOLINA</td><td>7.023213</td></tr><tr><td>2022</td><td>1º Semestre</td><td>DIESEL</td><td>6.400522</td></tr><tr><td>2022</td><td>1º Semestre</td><td>ETANOL</td><td>5.317084</td></tr><tr><td>2022</td><td>2º Semestre</td><td>GASOLINA ADITIVADA</td><td>5.517220</td></tr><tr><td>2022</td><td>2º Semestre</td><td>GNV</td><td>5.100556</td></tr><tr><td>2022</td><td>2º Semestre</td><td>GASOLINA</td><td>5.346419</td></tr><tr><td>2022</td><td>2º Semestre</td><td>DIESEL</td><td>6.967200</td></tr><tr><td>2022</td><td>2º Semestre</td><td>DIESEL S10</td><td>7.085003</td></tr><tr><td>2022</td><td>2º Semestre</td><td>ETANOL</td><td>4.208593</td></tr><tr><td>2023</td><td>1º Semestre</td><td>DIESEL</td><td>5.718585</td></tr><tr><td>2023</td><td>1º Semestre</td><td>GNV</td><td>4.682485</td></tr><tr><td>2023</td><td>1º Semestre</td><td>GASOLINA</td><td>5.335161</td></tr><tr><td>2023</td><td>1º Semestre</td><td>ETANOL</td><td>4.098658</td></tr><tr><td>2023</td><td>1º Semestre</td><td>GASOLINA ADITIVADA</td><td>5.517813</td></tr><tr><td>2023</td><td>1º Semestre</td><td>DIESEL S10</td><td>5.817667</td></tr><tr><td>2023</td><td>2º Semestre</td><td>GASOLINA ADITIVADA</td><td>5.886235</td></tr><tr><td>2023</td><td>2º Semestre</td><td>GNV</td><td>4.605597</td></tr><tr><td>2023</td><td>2º Semestre</td><td>DIESEL S10</td><td>5.897940</td></tr><tr><td>2023</td><td>2º Semestre</td><td>GASOLINA</td><td>5.705960</td></tr><tr><td>2023</td><td>2º Semestre</td><td>DIESEL</td><td>5.793436</td></tr><tr><td>2023</td><td>2º Semestre</td><td>ETANOL</td><td>3.917966</td></tr><tr><td>2024</td><td>1º Semestre</td><td>GASOLINA</td><td>5.780631</td></tr><tr><td>2024</td><td>1º Semestre</td><td>ETANOL</td><td>3.904912</td></tr><tr><td>2024</td><td>1º Semestre</td><td>GNV</td><td>4.744057</td></tr><tr><td>2024</td><td>1º Semestre</td><td>GASOLINA ADITIVADA</td><td>5.968452</td></tr><tr><td>2024</td><td>1º Semestre</td><td>DIESEL S10</td><td>5.995083</td></tr><tr><td>2024</td><td>1º Semestre</td><td>DIESEL</td><td>5.935933</td></tr><tr><td>2024</td><td>2º Semestre</td><td>GNV</td><td>4.797128</td></tr><tr><td>2024</td><td>2º Semestre</td><td>DIESEL S10</td><td>6.073514</td></tr><tr><td>2024</td><td>2º Semestre</td><td>GASOLINA ADITIVADA</td><td>6.292481</td></tr><tr><td>2024</td><td>2º Semestre</td><td>DIESEL</td><td>6.015329</td></tr><tr><td>2024</td><td>2º Semestre</td><td>GASOLINA</td><td>6.098393</td></tr><tr><td>2024</td><td>2º Semestre</td><td>ETANOL</td><td>4.249528</td></tr></tbody></table></div>"
      ]
     },
     "metadata": {
      "application/vnd.databricks.v1+output": {
       "addedWidgets": {},
       "aggData": [],
       "aggError": "",
       "aggOverflow": false,
       "aggSchema": [],
       "aggSeriesLimitReached": false,
       "aggType": "",
       "arguments": {},
       "columnCustomDisplayInfos": {},
       "data": [
        [
         2020,
         "1º Semestre",
         "GNV",
         "3.224875"
        ],
        [
         2020,
         "1º Semestre",
         "DIESEL S10",
         "3.523508"
        ],
        [
         2020,
         "1º Semestre",
         "ETANOL",
         "3.195380"
        ],
        [
         2020,
         "1º Semestre",
         "GASOLINA",
         "4.280350"
        ],
        [
         2020,
         "1º Semestre",
         "DIESEL",
         "3.434554"
        ],
        [
         2020,
         "2º Semestre",
         "DIESEL S10",
         "3.474037"
        ],
        [
         2020,
         "2º Semestre",
         "ETANOL",
         "3.140800"
        ],
        [
         2020,
         "2º Semestre",
         "DIESEL",
         "3.375971"
        ],
        [
         2020,
         "2º Semestre",
         "GASOLINA ADITIVADA",
         "4.588713"
        ],
        [
         2020,
         "2º Semestre",
         "GNV",
         "3.070192"
        ],
        [
         2020,
         "2º Semestre",
         "GASOLINA",
         "4.282346"
        ],
        [
         2021,
         "1º Semestre",
         "DIESEL S10",
         "4.310474"
        ],
        [
         2021,
         "1º Semestre",
         "ETANOL",
         "4.141205"
        ],
        [
         2021,
         "1º Semestre",
         "DIESEL",
         "4.256871"
        ],
        [
         2021,
         "1º Semestre",
         "GNV",
         "3.480919"
        ],
        [
         2021,
         "1º Semestre",
         "GASOLINA ADITIVADA",
         "5.496595"
        ],
        [
         2021,
         "1º Semestre",
         "GASOLINA",
         "5.347621"
        ],
        [
         2021,
         "2º Semestre",
         "DIESEL",
         "4.981041"
        ],
        [
         2021,
         "2º Semestre",
         "GASOLINA ADITIVADA",
         "6.422977"
        ],
        [
         2021,
         "2º Semestre",
         "ETANOL",
         "5.056605"
        ],
        [
         2021,
         "2º Semestre",
         "GNV",
         "4.237516"
        ],
        [
         2021,
         "2º Semestre",
         "DIESEL S10",
         "5.041381"
        ],
        [
         2021,
         "2º Semestre",
         "GASOLINA",
         "6.274693"
        ],
        [
         2022,
         "1º Semestre",
         "GASOLINA ADITIVADA",
         "7.171918"
        ],
        [
         2022,
         "1º Semestre",
         "DIESEL S10",
         "6.496630"
        ],
        [
         2022,
         "1º Semestre",
         "GNV",
         "4.995909"
        ],
        [
         2022,
         "1º Semestre",
         "GASOLINA",
         "7.023213"
        ],
        [
         2022,
         "1º Semestre",
         "DIESEL",
         "6.400522"
        ],
        [
         2022,
         "1º Semestre",
         "ETANOL",
         "5.317084"
        ],
        [
         2022,
         "2º Semestre",
         "GASOLINA ADITIVADA",
         "5.517220"
        ],
        [
         2022,
         "2º Semestre",
         "GNV",
         "5.100556"
        ],
        [
         2022,
         "2º Semestre",
         "GASOLINA",
         "5.346419"
        ],
        [
         2022,
         "2º Semestre",
         "DIESEL",
         "6.967200"
        ],
        [
         2022,
         "2º Semestre",
         "DIESEL S10",
         "7.085003"
        ],
        [
         2022,
         "2º Semestre",
         "ETANOL",
         "4.208593"
        ],
        [
         2023,
         "1º Semestre",
         "DIESEL",
         "5.718585"
        ],
        [
         2023,
         "1º Semestre",
         "GNV",
         "4.682485"
        ],
        [
         2023,
         "1º Semestre",
         "GASOLINA",
         "5.335161"
        ],
        [
         2023,
         "1º Semestre",
         "ETANOL",
         "4.098658"
        ],
        [
         2023,
         "1º Semestre",
         "GASOLINA ADITIVADA",
         "5.517813"
        ],
        [
         2023,
         "1º Semestre",
         "DIESEL S10",
         "5.817667"
        ],
        [
         2023,
         "2º Semestre",
         "GASOLINA ADITIVADA",
         "5.886235"
        ],
        [
         2023,
         "2º Semestre",
         "GNV",
         "4.605597"
        ],
        [
         2023,
         "2º Semestre",
         "DIESEL S10",
         "5.897940"
        ],
        [
         2023,
         "2º Semestre",
         "GASOLINA",
         "5.705960"
        ],
        [
         2023,
         "2º Semestre",
         "DIESEL",
         "5.793436"
        ],
        [
         2023,
         "2º Semestre",
         "ETANOL",
         "3.917966"
        ],
        [
         2024,
         "1º Semestre",
         "GASOLINA",
         "5.780631"
        ],
        [
         2024,
         "1º Semestre",
         "ETANOL",
         "3.904912"
        ],
        [
         2024,
         "1º Semestre",
         "GNV",
         "4.744057"
        ],
        [
         2024,
         "1º Semestre",
         "GASOLINA ADITIVADA",
         "5.968452"
        ],
        [
         2024,
         "1º Semestre",
         "DIESEL S10",
         "5.995083"
        ],
        [
         2024,
         "1º Semestre",
         "DIESEL",
         "5.935933"
        ],
        [
         2024,
         "2º Semestre",
         "GNV",
         "4.797128"
        ],
        [
         2024,
         "2º Semestre",
         "DIESEL S10",
         "6.073514"
        ],
        [
         2024,
         "2º Semestre",
         "GASOLINA ADITIVADA",
         "6.292481"
        ],
        [
         2024,
         "2º Semestre",
         "DIESEL",
         "6.015329"
        ],
        [
         2024,
         "2º Semestre",
         "GASOLINA",
         "6.098393"
        ],
        [
         2024,
         "2º Semestre",
         "ETANOL",
         "4.249528"
        ]
       ],
       "datasetInfos": [],
       "dbfsResultPath": null,
       "isJsonSchema": true,
       "metadata": {
        "createTempViewForImplicitDf": true,
        "dataframeName": "_sqldf",
        "executionCount": 15
       },
       "overflow": false,
       "plotOptions": {
        "customPlotOptions": {},
        "displayType": "table",
        "pivotAggregation": null,
        "pivotColumns": null,
        "xColumns": null,
        "yColumns": null
       },
       "removedWidgets": [],
       "schema": [
        {
         "metadata": "{}",
         "name": "ANO",
         "type": "\"integer\""
        },
        {
         "metadata": "{}",
         "name": "SEMESTRE",
         "type": "\"string\""
        },
        {
         "metadata": "{}",
         "name": "Produto",
         "type": "\"string\""
        },
        {
         "metadata": "{}",
         "name": "PRECO_MEDIO",
         "type": "\"decimal(14,6)\""
        }
       ],
       "type": "table"
      }
     },
     "output_type": "display_data"
    },
    {
     "output_type": "display_data",
     "data": {
      "text/plain": [
       "Databricks visualization. Run in Databricks to view."
      ]
     },
     "metadata": {
      "application/vnd.databricks.v1.subcommand+json": {
       "baseErrorDetails": null,
       "bindings": {},
       "collapsed": false,
       "command": "%sql WITH q AS (SELECT *\nFROM gold.sazonalidade) SELECT `nome_estabelecimento`,SUM(`quantidade_total`) `column_acd1fa53287` FROM q GROUP BY `nome_estabelecimento`",
       "commandTitle": "Visualização 1",
       "commandType": "auto",
       "commandVersion": 0,
       "commentThread": [],
       "commentsVisible": false,
       "contentSha256Hex": null,
       "customPlotOptions": {
        "redashChart": [
         {
          "key": "type",
          "value": "CHART"
         },
         {
          "key": "options",
          "value": {
           "alignYAxesAtZero": true,
           "coefficient": 1,
           "columnConfigurationMap": {
            "series": {
             "column": "SEMESTRE",
             "id": "column_f8f8cf9c405"
            },
            "x": {
             "column": "ANO",
             "id": "column_f8f8cf9c365"
            },
            "y": [
             {
              "column": "PRECO_MEDIO",
              "id": "column_acd1fa53287",
              "transform": "AVG"
             }
            ]
           },
           "dateTimeFormat": "DD/MM/YYYY HH:mm",
           "direction": {
            "type": "counterclockwise"
           },
           "error_y": {
            "type": "data",
            "visible": true
           },
           "globalSeriesType": "line",
           "isAggregationOn": true,
           "legend": {
            "traceorder": "normal"
           },
           "missingValuesAsZero": true,
           "numberFormat": "0,0.[00000]",
           "percentFormat": "0[.]00%",
           "series": {
            "error_y": {
             "type": "data",
             "visible": true
            },
            "stacking": null
           },
           "seriesOptions": {
            "column_acd1fa53287": {
             "color": "#E92828",
             "type": "line",
             "yAxis": 0
            },
            "column_f8f8cf9c367": {
             "type": "line",
             "yAxis": 0
            },
            "column_f8f8cf9c403": {
             "type": "line",
             "yAxis": 0
            }
           },
           "showDataLabels": false,
           "sizemode": "diameter",
           "sortX": false,
           "sortY": true,
           "swappedAxes": false,
           "textFormat": "",
           "useAggregationsUi": true,
           "valuesOptions": {},
           "version": 2,
           "xAxis": {
            "labels": {
             "enabled": true
            },
            "type": "-"
           },
           "yAxis": [
            {
             "title": {
              "text": "Preço Médio"
             },
             "type": "-"
            },
            {
             "opposite": true,
             "type": "-"
            }
           ]
          }
         }
        ]
       },
       "datasetPreviewNameToCmdIdMap": {},
       "diffDeletes": [],
       "diffInserts": [],
       "displayType": "redashChart",
       "error": null,
       "errorDetails": null,
       "errorSummary": null,
       "errorTraceType": null,
       "finishTime": 0,
       "globalVars": {},
       "guid": "",
       "height": "auto",
       "hideCommandCode": false,
       "hideCommandResult": false,
       "iPythonMetadata": null,
       "inputWidgets": {},
       "isLockedInExamMode": false,
       "latestUser": "a user",
       "latestUserId": null,
       "listResultMetadata": null,
       "metadata": {
        "byteLimit": 2048000,
        "implicitDf": true,
        "rowLimit": 10000
       },
       "nuid": "69339a4d-192c-4053-a03c-d713ff310c90",
       "origId": 0,
       "parentHierarchy": [],
       "pivotAggregation": null,
       "pivotColumns": null,
       "position": 9.0,
       "resultDbfsErrorMessage": null,
       "resultDbfsStatus": "INLINED_IN_TREE",
       "results": null,
       "showCommandTitle": false,
       "startTime": 0,
       "state": "finished",
       "streamStates": {},
       "subcommandOptions": {
        "queryPlan": {
         "groups": [
          {
           "column": "ANO",
           "type": "column"
          },
          {
           "column": "SEMESTRE",
           "type": "column"
          }
         ],
         "selects": [
          {
           "column": "ANO",
           "type": "column"
          },
          {
           "alias": "column_acd1fa53287",
           "args": [
            {
             "column": "PRECO_MEDIO",
             "type": "column"
            }
           ],
           "function": "AVG",
           "type": "function"
          },
          {
           "column": "SEMESTRE",
           "type": "column"
          }
         ]
        }
       },
       "submitTime": 0,
       "subtype": "tableResultSubCmd.visualization",
       "tableResultIndex": 0,
       "tableResultSettingsMap": {},
       "useConsistentColors": false,
       "version": "CommandV1",
       "width": "auto",
       "workflows": [],
       "xColumns": null,
       "yColumns": null
      }
     },
     "output_type": "display_data"
    }
   ],
   "source": [
    "%sql\n",
    "SELECT *\n",
    "FROM gold.sazonalidade"
   ]
  }
 ],
 "metadata": {
  "application/vnd.databricks.v1+notebook": {
   "computePreferences": null,
   "dashboards": [],
   "environmentMetadata": {
    "base_environment": "",
    "environment_version": "1"
   },
   "inputWidgetPreferences": null,
   "language": "python",
   "notebookMetadata": {
    "mostRecentlyExecutedCommandWithImplicitDF": {
     "commandId": 382670190331111,
     "dataframes": [
      "_sqldf"
     ]
    },
    "pythonIndentUnit": 4
   },
   "notebookName": "03.goldSazonalidade",
   "widgets": {}
  }
 },
 "nbformat": 4,
 "nbformat_minor": 0
}
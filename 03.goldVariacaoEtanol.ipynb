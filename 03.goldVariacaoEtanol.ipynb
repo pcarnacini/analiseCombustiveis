{
 "cells": [
  {
   "cell_type": "markdown",
   "metadata": {
    "application/vnd.databricks.v1+cell": {
     "cellMetadata": {
      "byteLimit": 2048000,
      "rowLimit": 10000
     },
     "inputWidgets": {},
     "nuid": "ec5bab18-a036-4afd-bcf3-1f1a5b9f7615",
     "showTitle": false,
     "tableResultSettingsMap": {},
     "title": ""
    }
   },
   "source": [
    "## Informações gerais\n",
    " | Informações | Detalhes |\n",
    " |-------------|-------------|\n",
    " | Nome Tabela | gold.variacaoEtanol |\n",
    " | Origem | silver.combustivel |\n",
    "\n",
    "## Histórico de Atualizações\n",
    "  | Data | Desenvolvido por | Razão |\n",
    "  |:-------------:|-------------|-------------|\n",
    "  | 13/04/2025 | Pedro Carnacini | Criação do Notebook | "
   ]
  },
  {
   "cell_type": "code",
   "execution_count": 0,
   "metadata": {
    "application/vnd.databricks.v1+cell": {
     "cellMetadata": {
      "byteLimit": 2048000,
      "rowLimit": 10000
     },
     "inputWidgets": {},
     "nuid": "3baf6889-9931-43d3-a303-50e214f4d31b",
     "showTitle": false,
     "tableResultSettingsMap": {},
     "title": ""
    }
   },
   "outputs": [
    {
     "output_type": "execute_result",
     "data": {
      "text/plain": [
       "DataFrame[]"
      ]
     },
     "execution_count": 3,
     "metadata": {},
     "output_type": "execute_result"
    }
   ],
   "source": [
    "# Nome do schema e tabela no catálogo\n",
    "database = \"gold\"\n",
    "tabela = \"variacaoEtanol\"\n",
    "\n",
    "# Criar database se não existir\n",
    "spark.sql(f\"CREATE DATABASE IF NOT EXISTS {database}\")"
   ]
  },
  {
   "cell_type": "code",
   "execution_count": 0,
   "metadata": {
    "application/vnd.databricks.v1+cell": {
     "cellMetadata": {
      "byteLimit": 2048000,
      "rowLimit": 10000
     },
     "inputWidgets": {},
     "nuid": "8c33c52a-d1a7-489b-be7f-274a1c98aa1a",
     "showTitle": false,
     "tableResultSettingsMap": {},
     "title": ""
    }
   },
   "outputs": [],
   "source": [
    "df_variacaoEtanol = spark.sql(\n",
    "f\"\"\"\n",
    "SELECT estado, AVG(valorVenda) AS PRECO_MEDIO_ETANOL, STDDEV(valorVenda) AS DESVIO_PADRAO\n",
    "FROM silver.combustivel\n",
    "WHERE Produto = 'ETANOL'\n",
    "GROUP BY estado\n",
    "ORDER BY PRECO_MEDIO_ETANOL DESC;\n",
    "\"\"\"\n",
    ")"
   ]
  },
  {
   "cell_type": "code",
   "execution_count": 0,
   "metadata": {
    "application/vnd.databricks.v1+cell": {
     "cellMetadata": {
      "byteLimit": 2048000,
      "rowLimit": 10000
     },
     "inputWidgets": {},
     "nuid": "2eb40646-65f6-4fc4-957b-4c4f096f1660",
     "showTitle": false,
     "tableResultSettingsMap": {},
     "title": ""
    }
   },
   "outputs": [
    {
     "output_type": "stream",
     "name": "stdout",
     "output_type": "stream",
     "text": [
      "Dados gravados com sucesso!\n"
     ]
    }
   ],
   "source": [
    "df_variacaoEtanol.write \\\n",
    "          .format('delta') \\\n",
    "          .mode('overwrite') \\\n",
    "          .option('overwriteSchema', 'true') \\\n",
    "          .saveAsTable(f'{database}.{tabela}')\n",
    "print(\"Dados gravados com sucesso!\")"
   ]
  },
  {
   "cell_type": "code",
   "execution_count": 0,
   "metadata": {
    "application/vnd.databricks.v1+cell": {
     "cellMetadata": {
      "byteLimit": 2048000,
      "rowLimit": 10000
     },
     "inputWidgets": {},
     "nuid": "552b7815-b499-4e93-8307-20ddf91576b1",
     "showTitle": false,
     "tableResultSettingsMap": {},
     "title": ""
    }
   },
   "outputs": [
    {
     "output_type": "stream",
     "name": "stdout",
     "output_type": "stream",
     "text": [
      "Processo de otimização finalizado!.\n"
     ]
    }
   ],
   "source": [
    "spark.sql(f\"OPTIMIZE {database}.{tabela}\")\n",
    "print(f\"Processo de otimização finalizado!.\")"
   ]
  },
  {
   "cell_type": "code",
   "execution_count": 0,
   "metadata": {
    "application/vnd.databricks.v1+cell": {
     "cellMetadata": {
      "byteLimit": 2048000,
      "implicitDf": true,
      "rowLimit": 10000
     },
     "inputWidgets": {},
     "nuid": "fbc188e0-bb95-498f-a74b-c94d40eea868",
     "showTitle": false,
     "tableResultSettingsMap": {},
     "title": ""
    }
   },
   "outputs": [
    {
     "output_type": "display_data",
     "data": {
      "text/html": [
       "<style scoped>\n",
       "  .table-result-container {\n",
       "    max-height: 300px;\n",
       "    overflow: auto;\n",
       "  }\n",
       "  table, th, td {\n",
       "    border: 1px solid black;\n",
       "    border-collapse: collapse;\n",
       "  }\n",
       "  th, td {\n",
       "    padding: 5px;\n",
       "  }\n",
       "  th {\n",
       "    text-align: left;\n",
       "  }\n",
       "</style><div class='table-result-container'><table class='table-result'><thead style='background-color: white'><tr><th>estado</th><th>PRECO_MEDIO_ETANOL</th><th>DESVIO_PADRAO</th></tr></thead><tbody><tr><td>AC</td><td>5.042613</td><td>0.8567634963913736</td></tr><tr><td>AP</td><td>5.027548</td><td>0.7572575620504262</td></tr><tr><td>RS</td><td>5.003201</td><td>0.9090552795803659</td></tr><tr><td>RO</td><td>4.910819</td><td>0.8493433718259517</td></tr><tr><td>RR</td><td>4.886427</td><td>0.7245571729973885</td></tr><tr><td>PA</td><td>4.834570</td><td>0.8745910711696335</td></tr><tr><td>CE</td><td>4.751797</td><td>0.8306064776708171</td></tr><tr><td>RN</td><td>4.740162</td><td>0.8543546912313065</td></tr><tr><td>SC</td><td>4.656419</td><td>0.8613470855010552</td></tr><tr><td>RJ</td><td>4.647791</td><td>0.8624986932131125</td></tr><tr><td>MA</td><td>4.641429</td><td>0.7350775651645325</td></tr><tr><td>TO</td><td>4.551228</td><td>0.7350144817795923</td></tr><tr><td>ES</td><td>4.544296</td><td>0.8084344804809214</td></tr><tr><td>AL</td><td>4.528145</td><td>0.7707359721324724</td></tr><tr><td>SE</td><td>4.515027</td><td>0.7806180134049064</td></tr><tr><td>PI</td><td>4.470013</td><td>0.7952262745104669</td></tr><tr><td>BA</td><td>4.465858</td><td>0.8105625735516891</td></tr><tr><td>PE</td><td>4.442236</td><td>0.7744162361552775</td></tr><tr><td>AM</td><td>4.386335</td><td>0.6886001971769719</td></tr><tr><td>PB</td><td>4.232298</td><td>0.7581627080457136</td></tr><tr><td>DF</td><td>4.229597</td><td>0.921830960908896</td></tr><tr><td>MS</td><td>4.099048</td><td>0.7714722938219271</td></tr><tr><td>PR</td><td>4.056733</td><td>0.7944109409205034</td></tr><tr><td>MG</td><td>3.999599</td><td>0.7687234812776934</td></tr><tr><td>GO</td><td>3.923372</td><td>0.7398035595587066</td></tr><tr><td>SP</td><td>3.751519</td><td>0.7460067609583213</td></tr><tr><td>MT</td><td>3.742898</td><td>0.7978121974728961</td></tr></tbody></table></div>"
      ]
     },
     "metadata": {
      "application/vnd.databricks.v1+output": {
       "addedWidgets": {},
       "aggData": [],
       "aggError": "",
       "aggOverflow": false,
       "aggSchema": [],
       "aggSeriesLimitReached": false,
       "aggType": "",
       "arguments": {},
       "columnCustomDisplayInfos": {},
       "data": [
        [
         "AC",
         "5.042613",
         0.8567634963913736
        ],
        [
         "AP",
         "5.027548",
         0.7572575620504262
        ],
        [
         "RS",
         "5.003201",
         0.9090552795803659
        ],
        [
         "RO",
         "4.910819",
         0.8493433718259517
        ],
        [
         "RR",
         "4.886427",
         0.7245571729973885
        ],
        [
         "PA",
         "4.834570",
         0.8745910711696335
        ],
        [
         "CE",
         "4.751797",
         0.8306064776708171
        ],
        [
         "RN",
         "4.740162",
         0.8543546912313065
        ],
        [
         "SC",
         "4.656419",
         0.8613470855010552
        ],
        [
         "RJ",
         "4.647791",
         0.8624986932131125
        ],
        [
         "MA",
         "4.641429",
         0.7350775651645325
        ],
        [
         "TO",
         "4.551228",
         0.7350144817795923
        ],
        [
         "ES",
         "4.544296",
         0.8084344804809214
        ],
        [
         "AL",
         "4.528145",
         0.7707359721324724
        ],
        [
         "SE",
         "4.515027",
         0.7806180134049064
        ],
        [
         "PI",
         "4.470013",
         0.7952262745104669
        ],
        [
         "BA",
         "4.465858",
         0.8105625735516891
        ],
        [
         "PE",
         "4.442236",
         0.7744162361552775
        ],
        [
         "AM",
         "4.386335",
         0.6886001971769719
        ],
        [
         "PB",
         "4.232298",
         0.7581627080457136
        ],
        [
         "DF",
         "4.229597",
         0.921830960908896
        ],
        [
         "MS",
         "4.099048",
         0.7714722938219271
        ],
        [
         "PR",
         "4.056733",
         0.7944109409205034
        ],
        [
         "MG",
         "3.999599",
         0.7687234812776934
        ],
        [
         "GO",
         "3.923372",
         0.7398035595587066
        ],
        [
         "SP",
         "3.751519",
         0.7460067609583213
        ],
        [
         "MT",
         "3.742898",
         0.7978121974728961
        ]
       ],
       "datasetInfos": [],
       "dbfsResultPath": null,
       "isJsonSchema": true,
       "metadata": {
        "createTempViewForImplicitDf": true,
        "dataframeName": "_sqldf",
        "executionCount": 7
       },
       "overflow": false,
       "plotOptions": {
        "customPlotOptions": {},
        "displayType": "table",
        "pivotAggregation": null,
        "pivotColumns": null,
        "xColumns": null,
        "yColumns": null
       },
       "removedWidgets": [],
       "schema": [
        {
         "metadata": "{}",
         "name": "estado",
         "type": "\"string\""
        },
        {
         "metadata": "{}",
         "name": "PRECO_MEDIO_ETANOL",
         "type": "\"decimal(14,6)\""
        },
        {
         "metadata": "{}",
         "name": "DESVIO_PADRAO",
         "type": "\"double\""
        }
       ],
       "type": "table"
      }
     },
     "output_type": "display_data"
    },
    {
     "output_type": "display_data",
     "data": {
      "text/plain": [
       "Databricks visualization. Run in Databricks to view."
      ]
     },
     "metadata": {
      "application/vnd.databricks.v1.subcommand+json": {
       "baseErrorDetails": null,
       "bindings": {},
       "collapsed": false,
       "command": "%sql WITH q AS (SELECT *\nFROM gold.variacaoEtanol) SELECT `nome_estabelecimento`,SUM(`quantidade_total`) `column_acd1fa53287` FROM q GROUP BY `nome_estabelecimento`",
       "commandTitle": "Visualização 1",
       "commandType": "auto",
       "commandVersion": 0,
       "commentThread": [],
       "commentsVisible": false,
       "contentSha256Hex": null,
       "customPlotOptions": {
        "redashChart": [
         {
          "key": "type",
          "value": "CHART"
         },
         {
          "key": "options",
          "value": {
           "alignYAxesAtZero": true,
           "coefficient": 1,
           "columnConfigurationMap": {
            "series": {
             "column": "estado",
             "id": "column_f8f8cf9c323"
            },
            "y": [
             {
              "column": "PRECO_MEDIO_ETANOL",
              "id": "column_f8f8cf9c325",
              "transform": "SUM"
             }
            ]
           },
           "dateTimeFormat": "DD/MM/YYYY HH:mm",
           "direction": {
            "type": "counterclockwise"
           },
           "error_y": {
            "type": "data",
            "visible": true
           },
           "globalSeriesType": "column",
           "isAggregationOn": true,
           "legend": {
            "traceorder": "normal"
           },
           "missingValuesAsZero": false,
           "numberFormat": "0,0.[00000]",
           "percentFormat": "0[.]00%",
           "series": {
            "error_y": {
             "type": "data",
             "visible": true
            },
            "stacking": ""
           },
           "seriesOptions": {
            "column_acd1fa53287": {
             "color": "#E92828",
             "type": "column",
             "yAxis": 0
            },
            "column_f8f8cf9c325": {
             "type": "column",
             "yAxis": 0
            }
           },
           "showDataLabels": false,
           "sizemode": "diameter",
           "sortX": false,
           "sortY": true,
           "swappedAxes": true,
           "textFormat": "",
           "useAggregationsUi": true,
           "valuesOptions": {},
           "version": 2,
           "xAxis": {
            "labels": {
             "enabled": true
            },
            "type": "-"
           },
           "yAxis": [
            {
             "title": {
              "text": "Preço médio Etanol"
             },
             "type": "-"
            },
            {
             "opposite": true,
             "type": "-"
            }
           ]
          }
         }
        ]
       },
       "datasetPreviewNameToCmdIdMap": {},
       "diffDeletes": [],
       "diffInserts": [],
       "displayType": "redashChart",
       "error": null,
       "errorDetails": null,
       "errorSummary": null,
       "errorTraceType": null,
       "finishTime": 0,
       "globalVars": {},
       "guid": "",
       "height": "auto",
       "hideCommandCode": false,
       "hideCommandResult": false,
       "iPythonMetadata": null,
       "inputWidgets": {},
       "isLockedInExamMode": false,
       "latestUser": "a user",
       "latestUserId": null,
       "listResultMetadata": null,
       "metadata": {
        "byteLimit": 2048000,
        "implicitDf": true,
        "rowLimit": 10000
       },
       "nuid": "69339a4d-192c-4053-a03c-d713ff310c90",
       "origId": 0,
       "parentHierarchy": [],
       "pivotAggregation": null,
       "pivotColumns": null,
       "position": 9.0,
       "resultDbfsErrorMessage": null,
       "resultDbfsStatus": "INLINED_IN_TREE",
       "results": null,
       "showCommandTitle": false,
       "startTime": 0,
       "state": "finished",
       "streamStates": {},
       "subcommandOptions": {
        "queryPlan": {
         "groups": [
          {
           "column": "estado",
           "type": "column"
          }
         ],
         "selects": [
          {
           "alias": "column_f8f8cf9c325",
           "args": [
            {
             "column": "PRECO_MEDIO_ETANOL",
             "type": "column"
            }
           ],
           "function": "SUM",
           "type": "function"
          },
          {
           "column": "estado",
           "type": "column"
          }
         ]
        }
       },
       "submitTime": 0,
       "subtype": "tableResultSubCmd.visualization",
       "tableResultIndex": 0,
       "tableResultSettingsMap": {},
       "useConsistentColors": false,
       "version": "CommandV1",
       "width": "auto",
       "workflows": [],
       "xColumns": null,
       "yColumns": null
      }
     },
     "output_type": "display_data"
    },
    {
     "output_type": "display_data",
     "data": {
      "text/plain": [
       "Databricks visualization. Run in Databricks to view."
      ]
     },
     "metadata": {
      "application/vnd.databricks.v1.subcommand+json": {
       "baseErrorDetails": null,
       "bindings": {},
       "collapsed": false,
       "command": "%sql\nSELECT *\nFROM gold.variacaoEtanol",
       "commandTitle": "Visualization 2",
       "commandType": "auto",
       "commandVersion": 0,
       "commentThread": [],
       "commentsVisible": false,
       "contentSha256Hex": null,
       "customPlotOptions": {
        "redashChart": [
         {
          "key": "type",
          "value": "TABLE"
         },
         {
          "key": "options",
          "value": {
           "columns": [
            {
             "alignContent": "left",
             "allowHTML": false,
             "allowSearch": false,
             "booleanValues": [
              "false",
              "true"
             ],
             "displayAs": "string",
             "highlightLinks": false,
             "imageHeight": "",
             "imageTitleTemplate": "{{ @ }}",
             "imageUrlTemplate": "{{ @ }}",
             "imageWidth": "",
             "linkOpenInNewTab": true,
             "linkTextTemplate": "{{ @ }}",
             "linkTitleTemplate": "{{ @ }}",
             "linkUrlTemplate": "{{ @ }}",
             "name": "estado",
             "order": 100000,
             "preserveWhitespace": false,
             "title": "Estado",
             "type": "string",
             "useMonospaceFont": false,
             "visible": true
            },
            {
             "alignContent": "right",
             "allowHTML": false,
             "allowSearch": false,
             "booleanValues": [
              "false",
              "true"
             ],
             "displayAs": "number",
             "highlightLinks": false,
             "imageHeight": "",
             "imageTitleTemplate": "{{ @ }}",
             "imageUrlTemplate": "{{ @ }}",
             "imageWidth": "",
             "linkOpenInNewTab": true,
             "linkTextTemplate": "{{ @ }}",
             "linkTitleTemplate": "{{ @ }}",
             "linkUrlTemplate": "{{ @ }}",
             "name": "PRECO_MEDIO_ETANOL",
             "numberFormat": "0.00",
             "order": 100001,
             "preserveWhitespace": false,
             "title": "Preço Medio Etanol",
             "type": "float",
             "useMonospaceFont": false,
             "visible": true
            },
            {
             "alignContent": "right",
             "allowHTML": false,
             "allowSearch": false,
             "booleanValues": [
              "false",
              "true"
             ],
             "displayAs": "number",
             "highlightLinks": false,
             "imageHeight": "",
             "imageTitleTemplate": "{{ @ }}",
             "imageUrlTemplate": "{{ @ }}",
             "imageWidth": "",
             "linkOpenInNewTab": true,
             "linkTextTemplate": "{{ @ }}",
             "linkTitleTemplate": "{{ @ }}",
             "linkUrlTemplate": "{{ @ }}",
             "name": "DESVIO_PADRAO",
             "numberFormat": "0.00",
             "order": 100002,
             "preserveWhitespace": false,
             "title": "Volatilidade",
             "type": "float",
             "useMonospaceFont": false,
             "visible": true
            }
           ],
           "condensed": true,
           "itemsPerPage": 50,
           "paginationSize": "default",
           "version": 2,
           "withRowNumber": false
          }
         }
        ]
       },
       "datasetPreviewNameToCmdIdMap": {},
       "diffDeletes": [],
       "diffInserts": [],
       "displayType": "redashChart",
       "error": null,
       "errorDetails": null,
       "errorSummary": null,
       "errorTraceType": null,
       "finishTime": 0,
       "globalVars": {},
       "guid": "",
       "height": "285",
       "hideCommandCode": false,
       "hideCommandResult": false,
       "iPythonMetadata": null,
       "inputWidgets": {},
       "isLockedInExamMode": false,
       "latestUser": "a user",
       "latestUserId": null,
       "listResultMetadata": null,
       "metadata": {},
       "nuid": "afe6beb6-e5cc-45f5-af35-580d993f3494",
       "origId": 0,
       "parentHierarchy": [],
       "pivotAggregation": null,
       "pivotColumns": null,
       "position": 10.0,
       "resultDbfsErrorMessage": null,
       "resultDbfsStatus": "INLINED_IN_TREE",
       "results": null,
       "showCommandTitle": false,
       "startTime": 0,
       "state": "input",
       "streamStates": {},
       "subcommandOptions": {},
       "submitTime": 0,
       "subtype": "tableResultSubCmd.visualization",
       "tableResultIndex": 0,
       "tableResultSettingsMap": {},
       "useConsistentColors": false,
       "version": "CommandV1",
       "width": "1186",
       "workflows": [],
       "xColumns": null,
       "yColumns": null
      }
     },
     "output_type": "display_data"
    }
   ],
   "source": [
    "%sql\n",
    "SELECT *\n",
    "FROM gold.variacaoEtanol"
   ]
  }
 ],
 "metadata": {
  "application/vnd.databricks.v1+notebook": {
   "computePreferences": null,
   "dashboards": [],
   "environmentMetadata": {
    "base_environment": "",
    "environment_version": "1"
   },
   "inputWidgetPreferences": null,
   "language": "python",
   "notebookMetadata": {
    "mostRecentlyExecutedCommandWithImplicitDF": {
     "commandId": 382670190331120,
     "dataframes": [
      "_sqldf"
     ]
    },
    "pythonIndentUnit": 4
   },
   "notebookName": "03.goldVariacaoEtanol",
   "widgets": {}
  }
 },
 "nbformat": 4,
 "nbformat_minor": 0
}